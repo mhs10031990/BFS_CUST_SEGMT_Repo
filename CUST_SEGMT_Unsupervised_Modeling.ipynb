{
 "cells": [
  {
   "cell_type": "markdown",
   "id": "70bcab9b",
   "metadata": {},
   "source": [
    "# Use Customer_Segmentation Notebook Template"
   ]
  },
  {
   "cell_type": "code",
   "execution_count": 20,
   "id": "af46dab4",
   "metadata": {
    "scrolled": true
   },
   "outputs": [],
   "source": [
    "# import necessary libraries\n",
    "import pandas as pd\n",
    "import numpy as np\n",
    "import matplotlib.pyplot as plt\n",
    "import seaborn as sns\n",
    "from sklearn.preprocessing import StandardScaler\n",
    "from sklearn.decomposition import PCA\n",
    "from sklearn.cluster import KMeans,AgglomerativeClustering,DBSCAN,SpectralClustering\n",
    "from sklearn.mixture import GaussianMixture\n",
    "from sklearn.metrics import silhouette_samples, silhouette_score"
   ]
  },
  {
   "cell_type": "markdown",
   "id": "aed490d4",
   "metadata": {},
   "source": [
    "# Read data from Snowflake CUSTOMER_TRANSACTION_MASTER using fosforio sdk"
   ]
  },
  {
   "cell_type": "code",
   "execution_count": 21,
   "id": "17be0dd8",
   "metadata": {},
   "outputs": [],
   "source": [
    "from fosforio import snowflake"
   ]
  },
  {
   "cell_type": "code",
   "execution_count": 22,
   "id": "d200ff3b",
   "metadata": {},
   "outputs": [
    {
     "name": "stdout",
     "output_type": "stream",
     "text": [
      "Exception occurred in getting snowflake connection: 'connectionSources'\n"
     ]
    }
   ],
   "source": [
    "# To get snowflake connection object with a default snowflake connection created by the user, if available.\n",
    "#snowflake.get_connection()\n",
    "\n",
    "# To get snowflake connection object with a specific connection name\n",
    "snowflake.get_connection(connection_name=\"FDC_Insurance_Snowflake\")"
   ]
  },
  {
   "cell_type": "code",
   "execution_count": 23,
   "id": "7b3d44c7",
   "metadata": {},
   "outputs": [],
   "source": [
    "# To read a specific dataset published from a snowflake connection\n",
    "df = snowflake.get_dataframe(\"CUSTOMER_TRANSACTION_MASTER\")"
   ]
  },
  {
   "cell_type": "code",
   "execution_count": 24,
   "id": "528847c2",
   "metadata": {},
   "outputs": [],
   "source": [
    "df_original = df.copy()"
   ]
  },
  {
   "cell_type": "code",
   "execution_count": 25,
   "id": "afedf581",
   "metadata": {},
   "outputs": [
    {
     "data": {
      "text/plain": [
       "(122882, 27)"
      ]
     },
     "execution_count": 25,
     "metadata": {},
     "output_type": "execute_result"
    }
   ],
   "source": [
    "df.shape"
   ]
  },
  {
   "cell_type": "code",
   "execution_count": 26,
   "id": "2ea3f727",
   "metadata": {},
   "outputs": [
    {
     "data": {
      "text/html": [
       "<div>\n",
       "<style scoped>\n",
       "    .dataframe tbody tr th:only-of-type {\n",
       "        vertical-align: middle;\n",
       "    }\n",
       "\n",
       "    .dataframe tbody tr th {\n",
       "        vertical-align: top;\n",
       "    }\n",
       "\n",
       "    .dataframe thead th {\n",
       "        text-align: right;\n",
       "    }\n",
       "</style>\n",
       "<table border=\"1\" class=\"dataframe\">\n",
       "  <thead>\n",
       "    <tr style=\"text-align: right;\">\n",
       "      <th></th>\n",
       "      <th>CUSTOMER_ID</th>\n",
       "      <th>DATE</th>\n",
       "      <th>AGE</th>\n",
       "      <th>SEX</th>\n",
       "      <th>EDUCATION_LEVEL</th>\n",
       "      <th>EMPLOYMENT_STATUS</th>\n",
       "      <th>HOBBIES</th>\n",
       "      <th>MARITAL_STATUS</th>\n",
       "      <th>DEPENDENTS</th>\n",
       "      <th>REGISTRATION_DATE</th>\n",
       "      <th>...</th>\n",
       "      <th>PURCHASES</th>\n",
       "      <th>ONEOFF_PURCHASES</th>\n",
       "      <th>INSTALLMENTS_PURCHASES</th>\n",
       "      <th>PURCHASES_FREQUENCY</th>\n",
       "      <th>ONEOFF_PURCHASES_FREQUENCY</th>\n",
       "      <th>PURCHASES_INSTALLMENTS_FREQUENCY</th>\n",
       "      <th>PURCHASES_TRX</th>\n",
       "      <th>PAYMENTS</th>\n",
       "      <th>MINIMUM_PAYMENTS</th>\n",
       "      <th>PRC_FULL_PAYMENT</th>\n",
       "    </tr>\n",
       "  </thead>\n",
       "  <tbody>\n",
       "    <tr>\n",
       "      <th>122877</th>\n",
       "      <td>3a7ce3d5-0f4b-4575-badc-3553f5440c92</td>\n",
       "      <td>2023-05-01</td>\n",
       "      <td>32</td>\n",
       "      <td>MALE</td>\n",
       "      <td>High School</td>\n",
       "      <td>Unemployed</td>\n",
       "      <td>reading</td>\n",
       "      <td>Single</td>\n",
       "      <td>One Dependent</td>\n",
       "      <td>2020-03-12</td>\n",
       "      <td>...</td>\n",
       "      <td>684.4068</td>\n",
       "      <td>305.7313</td>\n",
       "      <td>339.07230</td>\n",
       "      <td>Very high</td>\n",
       "      <td>Low</td>\n",
       "      <td>Very high</td>\n",
       "      <td>21.20</td>\n",
       "      <td>273.352691</td>\n",
       "      <td>242.288921</td>\n",
       "      <td>0.0</td>\n",
       "    </tr>\n",
       "    <tr>\n",
       "      <th>122878</th>\n",
       "      <td>e2a8f308-57eb-4f55-bc13-399378f246d3</td>\n",
       "      <td>2022-12-01</td>\n",
       "      <td>27</td>\n",
       "      <td>MALE</td>\n",
       "      <td>PhD</td>\n",
       "      <td>Unemployed</td>\n",
       "      <td>camping</td>\n",
       "      <td>Single</td>\n",
       "      <td>One Dependent</td>\n",
       "      <td>2009-05-12</td>\n",
       "      <td>...</td>\n",
       "      <td>535.0963</td>\n",
       "      <td>0.0000</td>\n",
       "      <td>482.58685</td>\n",
       "      <td>Very high</td>\n",
       "      <td>Very low</td>\n",
       "      <td>Very high</td>\n",
       "      <td>25.92</td>\n",
       "      <td>474.722440</td>\n",
       "      <td>165.534652</td>\n",
       "      <td>0.0</td>\n",
       "    </tr>\n",
       "    <tr>\n",
       "      <th>122879</th>\n",
       "      <td>599c0e61-9bbc-4e14-bbfd-b07f5a398669</td>\n",
       "      <td>2022-12-01</td>\n",
       "      <td>33</td>\n",
       "      <td>FEMALE</td>\n",
       "      <td>High School</td>\n",
       "      <td>Unemployed</td>\n",
       "      <td>video-games</td>\n",
       "      <td>Single</td>\n",
       "      <td>One Dependent</td>\n",
       "      <td>2007-02-12</td>\n",
       "      <td>...</td>\n",
       "      <td>0.0000</td>\n",
       "      <td>0.0000</td>\n",
       "      <td>0.00000</td>\n",
       "      <td>Very low</td>\n",
       "      <td>Very low</td>\n",
       "      <td>Very low</td>\n",
       "      <td>0.00</td>\n",
       "      <td>568.542708</td>\n",
       "      <td>549.300475</td>\n",
       "      <td>0.0</td>\n",
       "    </tr>\n",
       "    <tr>\n",
       "      <th>122880</th>\n",
       "      <td>77298902-f899-4c3e-9104-06d1736fb089</td>\n",
       "      <td>2023-06-01</td>\n",
       "      <td>33</td>\n",
       "      <td>FEMALE</td>\n",
       "      <td>College</td>\n",
       "      <td>Unemployed</td>\n",
       "      <td>basketball</td>\n",
       "      <td>Single</td>\n",
       "      <td>One Dependent</td>\n",
       "      <td>2001-02-12</td>\n",
       "      <td>...</td>\n",
       "      <td>0.0000</td>\n",
       "      <td>0.0000</td>\n",
       "      <td>0.00000</td>\n",
       "      <td>Very low</td>\n",
       "      <td>Very low</td>\n",
       "      <td>Very low</td>\n",
       "      <td>0.00</td>\n",
       "      <td>517.588408</td>\n",
       "      <td>544.214360</td>\n",
       "      <td>0.0</td>\n",
       "    </tr>\n",
       "    <tr>\n",
       "      <th>122881</th>\n",
       "      <td>cd75294e-c31f-41b3-b78c-1d3e7322ddcf</td>\n",
       "      <td>2022-12-01</td>\n",
       "      <td>44</td>\n",
       "      <td>FEMALE</td>\n",
       "      <td>High School</td>\n",
       "      <td>Employed</td>\n",
       "      <td>exercise</td>\n",
       "      <td>Married</td>\n",
       "      <td>Two Dependents</td>\n",
       "      <td>2001-02-12</td>\n",
       "      <td>...</td>\n",
       "      <td>0.0000</td>\n",
       "      <td>0.0000</td>\n",
       "      <td>0.00000</td>\n",
       "      <td>Very low</td>\n",
       "      <td>Very low</td>\n",
       "      <td>Very low</td>\n",
       "      <td>0.00</td>\n",
       "      <td>1029.696570</td>\n",
       "      <td>1552.899035</td>\n",
       "      <td>0.0</td>\n",
       "    </tr>\n",
       "  </tbody>\n",
       "</table>\n",
       "<p>5 rows × 27 columns</p>\n",
       "</div>"
      ],
      "text/plain": [
       "                                 CUSTOMER_ID        DATE  AGE     SEX  \\\n",
       "122877  3a7ce3d5-0f4b-4575-badc-3553f5440c92  2023-05-01   32    MALE   \n",
       "122878  e2a8f308-57eb-4f55-bc13-399378f246d3  2022-12-01   27    MALE   \n",
       "122879  599c0e61-9bbc-4e14-bbfd-b07f5a398669  2022-12-01   33  FEMALE   \n",
       "122880  77298902-f899-4c3e-9104-06d1736fb089  2023-06-01   33  FEMALE   \n",
       "122881  cd75294e-c31f-41b3-b78c-1d3e7322ddcf  2022-12-01   44  FEMALE   \n",
       "\n",
       "       EDUCATION_LEVEL EMPLOYMENT_STATUS      HOBBIES MARITAL_STATUS  \\\n",
       "122877     High School        Unemployed      reading         Single   \n",
       "122878             PhD        Unemployed      camping         Single   \n",
       "122879     High School        Unemployed  video-games         Single   \n",
       "122880         College        Unemployed   basketball         Single   \n",
       "122881     High School          Employed     exercise        Married   \n",
       "\n",
       "            DEPENDENTS REGISTRATION_DATE  ... PURCHASES  ONEOFF_PURCHASES  \\\n",
       "122877   One Dependent        2020-03-12  ...  684.4068          305.7313   \n",
       "122878   One Dependent        2009-05-12  ...  535.0963            0.0000   \n",
       "122879   One Dependent        2007-02-12  ...    0.0000            0.0000   \n",
       "122880   One Dependent        2001-02-12  ...    0.0000            0.0000   \n",
       "122881  Two Dependents        2001-02-12  ...    0.0000            0.0000   \n",
       "\n",
       "       INSTALLMENTS_PURCHASES  PURCHASES_FREQUENCY  \\\n",
       "122877              339.07230            Very high   \n",
       "122878              482.58685            Very high   \n",
       "122879                0.00000             Very low   \n",
       "122880                0.00000             Very low   \n",
       "122881                0.00000             Very low   \n",
       "\n",
       "        ONEOFF_PURCHASES_FREQUENCY  PURCHASES_INSTALLMENTS_FREQUENCY  \\\n",
       "122877                         Low                         Very high   \n",
       "122878                    Very low                         Very high   \n",
       "122879                    Very low                          Very low   \n",
       "122880                    Very low                          Very low   \n",
       "122881                    Very low                          Very low   \n",
       "\n",
       "        PURCHASES_TRX     PAYMENTS  MINIMUM_PAYMENTS  PRC_FULL_PAYMENT  \n",
       "122877          21.20   273.352691        242.288921               0.0  \n",
       "122878          25.92   474.722440        165.534652               0.0  \n",
       "122879           0.00   568.542708        549.300475               0.0  \n",
       "122880           0.00   517.588408        544.214360               0.0  \n",
       "122881           0.00  1029.696570       1552.899035               0.0  \n",
       "\n",
       "[5 rows x 27 columns]"
      ]
     },
     "execution_count": 26,
     "metadata": {},
     "output_type": "execute_result"
    }
   ],
   "source": [
    "df.tail()"
   ]
  },
  {
   "cell_type": "code",
   "execution_count": 27,
   "id": "d41ed480",
   "metadata": {},
   "outputs": [],
   "source": [
    "to_drop = ['CUSTOMER_ID','DATE','AGE','SEX','EDUCATION_LEVEL','EMPLOYMENT_STATUS','HOBBIES','MARITAL_STATUS','BANK_ACCOUNT_TYPE',\n",
    " 'DEPENDENTS','REGISTRATION_DATE','PURCHASES_FREQUENCY','ONEOFF_PURCHASES_FREQUENCY','PURCHASES_INSTALLMENTS_FREQUENCY','BALANCE_FREQUENCY']"
   ]
  },
  {
   "cell_type": "code",
   "execution_count": 28,
   "id": "8ec73c6f",
   "metadata": {},
   "outputs": [],
   "source": [
    "df.drop(to_drop, axis= 1, inplace= True)"
   ]
  },
  {
   "cell_type": "code",
   "execution_count": 29,
   "id": "c1569b09",
   "metadata": {},
   "outputs": [
    {
     "name": "stdout",
     "output_type": "stream",
     "text": [
      "<class 'pandas.core.frame.DataFrame'>\n",
      "RangeIndex: 122882 entries, 0 to 122881\n",
      "Data columns (total 12 columns):\n",
      " #   Column                  Non-Null Count   Dtype  \n",
      "---  ------                  --------------   -----  \n",
      " 0   BALANCE                 122882 non-null  float64\n",
      " 1   CREDIT_LIMIT            122882 non-null  float64\n",
      " 2   CASH_ADVANCE            122882 non-null  float64\n",
      " 3   CASH_ADVANCE_FREQUENCY  122882 non-null  float64\n",
      " 4   CASH_ADVANCE_TRX        122882 non-null  float64\n",
      " 5   PURCHASES               122882 non-null  float64\n",
      " 6   ONEOFF_PURCHASES        122882 non-null  float64\n",
      " 7   INSTALLMENTS_PURCHASES  122882 non-null  float64\n",
      " 8   PURCHASES_TRX           122882 non-null  float64\n",
      " 9   PAYMENTS                122882 non-null  float64\n",
      " 10  MINIMUM_PAYMENTS        122882 non-null  float64\n",
      " 11  PRC_FULL_PAYMENT        122882 non-null  float64\n",
      "dtypes: float64(12)\n",
      "memory usage: 11.3 MB\n"
     ]
    }
   ],
   "source": [
    "df.info()"
   ]
  },
  {
   "cell_type": "code",
   "execution_count": null,
   "id": "0f802212",
   "metadata": {},
   "outputs": [],
   "source": [
    "# visualise probability density of all columns\n",
    "plt.figure(figsize=(10,50))\n",
    "for i in range(len(df.columns)):\n",
    "  plt.subplot(17,1,i+1)\n",
    "  sns.distplot(df[df.columns[i]],kde_kws={\"color\":\"b\",\"lw\":3,\"label\":\"KDE\"},hist_kws={\"color\":\"g\"})\n",
    "  plt.title(df.columns[i])\n",
    "plt.tight_layout()\n",
    "# This is to ignore warning\n",
    "import warnings\n",
    "warnings.filterwarnings('ignore')"
   ]
  },
  {
   "cell_type": "code",
   "execution_count": null,
   "id": "758bbe9c",
   "metadata": {},
   "outputs": [],
   "source": [
    "# find outlier in all columns\n",
    "for i in df.select_dtypes(include=['float64','int64']).columns:\n",
    "  max_thresold = df[i].quantile(0.95)\n",
    "  min_thresold = df[i].quantile(0.05)\n",
    "  df_no_outlier = df[(df[i] < max_thresold) & (df[i] > min_thresold)].shape\n",
    "  print(\" outlier in \",i,\"is\" ,int(((df.shape[0]-df_no_outlier[0])/df.shape[0])*100),\"%\")"
   ]
  },
  {
   "cell_type": "code",
   "execution_count": null,
   "id": "26f9d7da",
   "metadata": {
    "scrolled": true
   },
   "outputs": [],
   "source": [
    "# remove outliers from columns having nearly 10% outlier\n",
    "max_thresold_BALANCE = df[\"BALANCE\"].quantile(0.95)\n",
    "min_thresold_BALANCE = df[\"BALANCE\"].quantile(0.05)\n",
    "max_thresold_CREDIT_LIMIT = df[\"CREDIT_LIMIT\"].quantile(0.95)\n",
    "min_thresold_CREDIT_LIMIT = df[\"CREDIT_LIMIT\"].quantile(0.05)\n",
    "max_thresold_PAYMENTS = df[\"PAYMENTS\"].quantile(0.95)\n",
    "min_thresold_PAYMENTS = df[\"PAYMENTS\"].quantile(0.05)\n",
    "df_no_outlier = df[(df[\"CREDIT_LIMIT\"] < max_thresold_CREDIT_LIMIT) & (df[\"CREDIT_LIMIT\"] > min_thresold_CREDIT_LIMIT) & (df[\"BALANCE\"] < max_thresold_BALANCE) & (df[\"BALANCE\"] > min_thresold_BALANCE) &  (df[\"PAYMENTS\"] < max_thresold_PAYMENTS) & (df[\"PAYMENTS\"] > min_thresold_PAYMENTS)]"
   ]
  },
  {
   "cell_type": "code",
   "execution_count": null,
   "id": "2654c797",
   "metadata": {
    "scrolled": true
   },
   "outputs": [],
   "source": [
    "df_no_outlier.head()"
   ]
  },
  {
   "cell_type": "code",
   "execution_count": null,
   "id": "b4721a8d",
   "metadata": {
    "scrolled": true
   },
   "outputs": [],
   "source": [
    "# correlation matrix of DataFrame\n",
    "plt.figure(figsize=(20,10))\n",
    "corn=df_no_outlier.corr()\n",
    "sns.heatmap(corn,annot=True,cmap=\"BuPu\",fmt='.2f')"
   ]
  },
  {
   "cell_type": "code",
   "execution_count": null,
   "id": "d448b8f0",
   "metadata": {},
   "outputs": [],
   "source": [
    "# scale the DataFrame\n",
    "scalar=StandardScaler()\n",
    "scaled_df = scalar.fit_transform(df_no_outlier)"
   ]
  },
  {
   "cell_type": "markdown",
   "id": "f8ffa247",
   "metadata": {},
   "source": [
    "### PCA"
   ]
  },
  {
   "cell_type": "code",
   "execution_count": null,
   "id": "1d801793",
   "metadata": {
    "scrolled": true
   },
   "outputs": [],
   "source": [
    "# convert the DataFrame into 2D DataFrame for visualization\n",
    "pca = PCA(n_components=2)\n",
    "principal_comp = pca.fit_transform(scaled_df)\n",
    "pca_df = pd.DataFrame(data=principal_comp,columns=[\"pca1\",\"pca2\"])"
   ]
  },
  {
   "cell_type": "code",
   "execution_count": null,
   "id": "d3727f32",
   "metadata": {},
   "outputs": [],
   "source": [
    "pca_df.head()"
   ]
  },
  {
   "cell_type": "code",
   "execution_count": null,
   "id": "252fd785",
   "metadata": {},
   "outputs": [],
   "source": [
    "# find 'k' value by Elbow Method\n",
    "inertia = []\n",
    "range_val = range(1,15)\n",
    "for i in range_val:\n",
    "  kmean = KMeans(n_clusters=i)\n",
    "  kmean.fit_predict(pd.DataFrame(scaled_df))\n",
    "  inertia.append(kmean.inertia_)\n",
    "plt.plot(range_val,inertia,'bx-')\n",
    "plt.xlabel('Values of K') \n",
    "plt.ylabel('Inertia') \n",
    "plt.title('The Elbow Method using Inertia') \n",
    "plt.show()"
   ]
  },
  {
   "cell_type": "code",
   "execution_count": null,
   "id": "043871bc",
   "metadata": {},
   "outputs": [],
   "source": [
    "# Spectral clustering\n",
    "def train_spectral(k,X):\n",
    "  spectral_model = SpectralClustering(n_clusters=k)\n",
    "  y_pred = spectral_model.fit_predict(X)\n",
    "  print(\"Spectral Clustering : clusters : \",k ,\" silhouette_score : \",silhouette_score(X,y_pred) )\n",
    "\n",
    "# Agglomerative clustering\n",
    "def train_Agglomerative(linkage,k,X):\n",
    "  agglo_model = AgglomerativeClustering(linkage=linkage,n_clusters=k)\n",
    "  y_pred = agglo_model.fit_predict(X)\n",
    "  print(\"Agglomerative Clustering : clusters : \",k,\" linkage : \",linkage,\" silhouette_score : \",silhouette_score(X,y_pred) )\n",
    "\n",
    "# GaussianMixture Model based clustering\n",
    "def train_GaussianMixture(k,X):\n",
    "  GaussianMixture_model = GaussianMixture(n_components=k)\n",
    "  y_pred = GaussianMixture_model.fit_predict(X)\n",
    "  print(\"GaussianMixture Model based Clustering : clusters : \",k ,\" silhouette_score : \",silhouette_score(X,y_pred) )"
   ]
  },
  {
   "cell_type": "code",
   "execution_count": null,
   "id": "51d17c4c",
   "metadata": {},
   "outputs": [],
   "source": [
    "# Spectral clustering\n",
    "clusters=[3,4,5,6]\n",
    "for i in clusters:\n",
    "  train_spectral(i,scaled_df)"
   ]
  },
  {
   "cell_type": "code",
   "execution_count": null,
   "id": "5c63cbeb",
   "metadata": {},
   "outputs": [],
   "source": [
    "# Agglomerative clustering\n",
    "clusters=[3,4,5,6]\n",
    "linkage=['ward', 'complete', 'average', 'single']\n",
    "for lin in linkage:\n",
    "  for i in clusters:\n",
    "    train_Agglomerative(lin,i,scaled_df)"
   ]
  },
  {
   "cell_type": "code",
   "execution_count": null,
   "id": "97f07b9e",
   "metadata": {},
   "outputs": [],
   "source": [
    "# GaussianMixture Model based clustering\n",
    "clusters=[3,4,5,6]\n",
    "for i in clusters:\n",
    "  train_GaussianMixture(i,scaled_df)"
   ]
  },
  {
   "cell_type": "code",
   "execution_count": null,
   "id": "acd3941a",
   "metadata": {},
   "outputs": [],
   "source": [
    "# apply kmeans algorithm\n",
    "kmeans_model=KMeans(4)\n",
    "kmeans_model.fit_predict(scaled_df)\n",
    "pca_df_kmeans= pd.concat([pca_df,pd.DataFrame({'cluster':kmeans_model.labels_})],axis=1)\n",
    "\n",
    "\n",
    "# visualize the clustered dataframe\n",
    "# Scatter Plot\n",
    "plt.figure(figsize=(8,8))\n",
    "#palette=['dodgerblue','red','green','blue','black','pink','gray','purple','coolwarm']\n",
    "ax=sns.scatterplot(x=\"pca1\",y=\"pca2\",hue=\"cluster\",data=pca_df_kmeans,palette=['red','green','blue','black'])\n",
    "plt.title(\"Clustering using K-Means Algorithm\")\n",
    "plt.show()"
   ]
  },
  {
   "cell_type": "code",
   "execution_count": null,
   "id": "a70b1f54",
   "metadata": {},
   "outputs": [],
   "source": [
    "agglo_model = AgglomerativeClustering(linkage=\"ward\",n_clusters=4)\n",
    "y_pred = agglo_model.fit_predict(scaled_df)\n",
    "pca_df_aglo= pd.concat([pca_df,pd.DataFrame({'cluster':agglo_model.labels_})],axis=1)\n",
    "\n",
    "# Scatter Plot\n",
    "plt.figure(figsize=(8,8))\n",
    "ax=sns.scatterplot(x=\"pca1\",y=\"pca2\",hue=\"cluster\",data=pca_df_aglo,palette=['red','green','blue','black'])\n",
    "plt.title(\"Clustering using Agglomerative Algorithm\")\n",
    "plt.show()"
   ]
  },
  {
   "cell_type": "code",
   "execution_count": null,
   "id": "f1ae9768",
   "metadata": {},
   "outputs": [],
   "source": [
    "spectral_model = SpectralClustering(n_clusters=4)\n",
    "y_pred = spectral_model.fit_predict(scaled_df)\n",
    "pca_df_spl= pd.concat([pca_df,pd.DataFrame({'cluster':spectral_model.labels_})],axis=1)\n",
    "\n",
    "# Scatter Plot\n",
    "plt.figure(figsize=(8,8))\n",
    "ax=sns.scatterplot(x=\"pca1\",y=\"pca2\",hue=\"cluster\",data=pca_df_spl)\n",
    "plt.title(\"Clustering using Spectral Algorithm\")\n",
    "plt.show()"
   ]
  },
  {
   "cell_type": "code",
   "execution_count": null,
   "id": "2b8b08d7",
   "metadata": {},
   "outputs": [],
   "source": [
    "GaussianMixture_model = GaussianMixture(n_components=3)\n",
    "y_pred = GaussianMixture_model.fit_predict(scaled_df)\n",
    "pca_df_gmm= pd.concat([pca_df,pd.DataFrame({'cluster':y_pred})],axis=1)\n",
    "\n",
    "# Scatter Plot\n",
    "plt.figure(figsize=(8,8))\n",
    "ax=sns.scatterplot(x=\"pca1\",y=\"pca2\",hue=\"cluster\",data=pca_df_gmm,palette=['red','green','blue'])\n",
    "plt.title(\"Clustering using GaussianMixture Model Based Algorithm\")\n",
    "plt.show()"
   ]
  },
  {
   "cell_type": "code",
   "execution_count": null,
   "id": "4546f707",
   "metadata": {},
   "outputs": [],
   "source": [
    "model_dbscan = DBSCAN(eps=1, min_samples=18)\n",
    "y_pred = model_dbscan.fit_predict(scaled_df)\n",
    "pca_df_dbscan= pd.concat([pca_df,pd.DataFrame({'cluster':model_dbscan.labels_})],axis=1)\n",
    "\n",
    "# Scatter Plot\n",
    "plt.figure(figsize=(8,8))\n",
    "ax=sns.scatterplot(x=\"pca1\",y=\"pca2\",hue=\"cluster\",data=pca_df_dbscan,palette=['red','green','blue','purple','pink'])\n",
    "plt.title(\"Clustering using DBSCAN Algorithm\")\n",
    "plt.show()"
   ]
  },
  {
   "cell_type": "code",
   "execution_count": null,
   "id": "486747e6",
   "metadata": {},
   "outputs": [],
   "source": [
    "# find all cluster centers\n",
    "cluster_centers = pd.DataFrame(data=kmeans_model.cluster_centers_,columns=[df.columns])\n",
    "# inverse transfor the data\n",
    "cluster_centers = scalar.inverse_transform(cluster_centers)\n",
    "cluster_centers = pd.DataFrame(data=cluster_centers,columns=[df.columns])\n",
    "cluster_centers"
   ]
  },
  {
   "cell_type": "code",
   "execution_count": null,
   "id": "4778d853",
   "metadata": {},
   "outputs": [],
   "source": [
    "# create a column as \"cluster\" & store the respective cluster name that they belongs to\n",
    "creditcard_cluster_df = pd.concat([df,pd.DataFrame({'cluster':kmeans_model.labels_})],axis=1)\n",
    "creditcard_cluster_df.head()"
   ]
  },
  {
   "cell_type": "code",
   "execution_count": null,
   "id": "da26c802",
   "metadata": {},
   "outputs": [],
   "source": [
    "cluster_1_df = creditcard_cluster_df[cluster_df[\"cluster\"]==0]\n",
    "cluster_1_df.head()"
   ]
  },
  {
   "cell_type": "code",
   "execution_count": null,
   "id": "c9b82902",
   "metadata": {},
   "outputs": [],
   "source": [
    "cluster_2_df = creditcard_cluster_df[cluster_df[\"cluster\"]==1]\n",
    "cluster_2_df.head()"
   ]
  },
  {
   "cell_type": "code",
   "execution_count": null,
   "id": "cdc82c4b",
   "metadata": {},
   "outputs": [],
   "source": [
    "cluster_3_df = creditcard_cluster_df[cluster_df[\"cluster\"]==2]\n",
    "cluster_3_df.head()"
   ]
  },
  {
   "cell_type": "code",
   "execution_count": null,
   "id": "bef852dd",
   "metadata": {},
   "outputs": [],
   "source": [
    "cluster_4_df = creditcard_cluster_df[cluster_df[\"cluster\"] == 3]\n",
    "cluster_4_df.head()"
   ]
  },
  {
   "cell_type": "code",
   "execution_count": null,
   "id": "49ce87c3",
   "metadata": {},
   "outputs": [],
   "source": []
  },
  {
   "cell_type": "code",
   "execution_count": null,
   "id": "e53a23a1",
   "metadata": {},
   "outputs": [],
   "source": []
  },
  {
   "cell_type": "code",
   "execution_count": null,
   "id": "d2e4cef3",
   "metadata": {},
   "outputs": [],
   "source": [
    "#cluster_df.to_csv(\"/data/Output/kmeans_clustered_customer_Data.csv\")"
   ]
  },
  {
   "cell_type": "code",
   "execution_count": null,
   "id": "299e4b26",
   "metadata": {},
   "outputs": [],
   "source": [
    "#Saving Scikitlearn models\n",
    "#import joblib\n",
    "#joblib.dump(kmean, \"/data/Output/kmeans_model.pkl\")"
   ]
  }
 ],
 "metadata": {
  "kernelspec": {
   "display_name": "Python 3",
   "language": "python",
   "name": "python3"
  },
  "language_info": {
   "codemirror_mode": {
    "name": "ipython",
    "version": 3
   },
   "file_extension": ".py",
   "mimetype": "text/x-python",
   "name": "python",
   "nbconvert_exporter": "python",
   "pygments_lexer": "ipython3",
   "version": "3.8.18"
  }
 },
 "nbformat": 4,
 "nbformat_minor": 5
}
