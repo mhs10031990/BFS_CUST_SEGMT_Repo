{
 "cells": [
  {
   "cell_type": "markdown",
   "id": "70bcab9b",
   "metadata": {},
   "source": [
    "# Use Customer_Segmentation Notebook Template"
   ]
  },
  {
   "cell_type": "code",
   "execution_count": 1,
   "id": "af46dab4",
   "metadata": {
    "scrolled": true
   },
   "outputs": [
    {
     "name": "stderr",
     "output_type": "stream",
     "text": [
      "Matplotlib created a temporary cache directory at /tmp/matplotlib-krlvcvm7 because the default path (/home/mosaic-ai/.cache/matplotlib) is not a writable directory; it is highly recommended to set the MPLCONFIGDIR environment variable to a writable directory, in particular to speed up the import of Matplotlib and to better support multiprocessing.\n"
     ]
    }
   ],
   "source": [
    "import numpy as np # linear algebra\n",
    "import pandas as pd\n",
    "\n",
    "import matplotlib.pyplot as plt\n",
    "import seaborn as sns\n",
    "\n",
    "from sklearn.model_selection import train_test_split\n",
    "from sklearn.tree import DecisionTreeClassifier\n",
    "from sklearn.metrics import classification_report, confusion_matrix\n",
    "\n",
    "import warnings\n",
    "warnings.filterwarnings('ignore')"
   ]
  },
  {
   "cell_type": "markdown",
   "id": "aed490d4",
   "metadata": {},
   "source": [
    "# Read the intermeditary output of K-Means clustering Model Building Notebooks for model training and registration"
   ]
  },
  {
   "cell_type": "code",
   "execution_count": 2,
   "id": "7b3d44c7",
   "metadata": {},
   "outputs": [],
   "source": [
    "df = pd.read_csv('/data/Output/kmeans_clustered_customer_Data.csv')"
   ]
  },
  {
   "cell_type": "code",
   "execution_count": 3,
   "id": "afedf581",
   "metadata": {},
   "outputs": [
    {
     "data": {
      "text/plain": [
       "(122882, 29)"
      ]
     },
     "execution_count": 3,
     "metadata": {},
     "output_type": "execute_result"
    }
   ],
   "source": [
    "df.shape"
   ]
  },
  {
   "cell_type": "code",
   "execution_count": 4,
   "id": "2ea3f727",
   "metadata": {},
   "outputs": [
    {
     "data": {
      "text/html": [
       "<div>\n",
       "<style scoped>\n",
       "    .dataframe tbody tr th:only-of-type {\n",
       "        vertical-align: middle;\n",
       "    }\n",
       "\n",
       "    .dataframe tbody tr th {\n",
       "        vertical-align: top;\n",
       "    }\n",
       "\n",
       "    .dataframe thead th {\n",
       "        text-align: right;\n",
       "    }\n",
       "</style>\n",
       "<table border=\"1\" class=\"dataframe\">\n",
       "  <thead>\n",
       "    <tr style=\"text-align: right;\">\n",
       "      <th></th>\n",
       "      <th>CUSTOMER_ID</th>\n",
       "      <th>DATE</th>\n",
       "      <th>AGE</th>\n",
       "      <th>SEX</th>\n",
       "      <th>EDUCATION_LEVEL</th>\n",
       "      <th>EMPLOYMENT_STATUS</th>\n",
       "      <th>HOBBIES</th>\n",
       "      <th>MARITAL_STATUS</th>\n",
       "      <th>DEPENDENTS</th>\n",
       "      <th>REGISTRATION_DATE</th>\n",
       "      <th>...</th>\n",
       "      <th>INSTALLMENTS_PURCHASES</th>\n",
       "      <th>PURCHASES_FREQUENCY</th>\n",
       "      <th>ONEOFF_PURCHASES_FREQUENCY</th>\n",
       "      <th>PURCHASES_INSTALLMENTS_FREQUENCY</th>\n",
       "      <th>PURCHASES_TRX</th>\n",
       "      <th>PAYMENTS</th>\n",
       "      <th>MINIMUM_PAYMENTS</th>\n",
       "      <th>PRC_FULL_PAYMENT</th>\n",
       "      <th>Cluster</th>\n",
       "      <th>Cluster_Type</th>\n",
       "    </tr>\n",
       "  </thead>\n",
       "  <tbody>\n",
       "    <tr>\n",
       "      <th>122877</th>\n",
       "      <td>3a7ce3d5-0f4b-4575-badc-3553f5440c92</td>\n",
       "      <td>2023-05-01</td>\n",
       "      <td>32</td>\n",
       "      <td>MALE</td>\n",
       "      <td>High School</td>\n",
       "      <td>Unemployed</td>\n",
       "      <td>reading</td>\n",
       "      <td>Single</td>\n",
       "      <td>One Dependent</td>\n",
       "      <td>2020-03-12</td>\n",
       "      <td>...</td>\n",
       "      <td>339.07230</td>\n",
       "      <td>Very high</td>\n",
       "      <td>Low</td>\n",
       "      <td>Very high</td>\n",
       "      <td>21.20</td>\n",
       "      <td>273.352691</td>\n",
       "      <td>242.288921</td>\n",
       "      <td>0.0</td>\n",
       "      <td>0</td>\n",
       "      <td>Conservative Spenders</td>\n",
       "    </tr>\n",
       "    <tr>\n",
       "      <th>122878</th>\n",
       "      <td>e2a8f308-57eb-4f55-bc13-399378f246d3</td>\n",
       "      <td>2022-12-01</td>\n",
       "      <td>27</td>\n",
       "      <td>MALE</td>\n",
       "      <td>PhD</td>\n",
       "      <td>Unemployed</td>\n",
       "      <td>camping</td>\n",
       "      <td>Single</td>\n",
       "      <td>One Dependent</td>\n",
       "      <td>2009-05-12</td>\n",
       "      <td>...</td>\n",
       "      <td>482.58685</td>\n",
       "      <td>Very high</td>\n",
       "      <td>Very low</td>\n",
       "      <td>Very high</td>\n",
       "      <td>25.92</td>\n",
       "      <td>474.722440</td>\n",
       "      <td>165.534652</td>\n",
       "      <td>0.0</td>\n",
       "      <td>0</td>\n",
       "      <td>Conservative Spenders</td>\n",
       "    </tr>\n",
       "    <tr>\n",
       "      <th>122879</th>\n",
       "      <td>599c0e61-9bbc-4e14-bbfd-b07f5a398669</td>\n",
       "      <td>2022-12-01</td>\n",
       "      <td>33</td>\n",
       "      <td>FEMALE</td>\n",
       "      <td>High School</td>\n",
       "      <td>Unemployed</td>\n",
       "      <td>video-games</td>\n",
       "      <td>Single</td>\n",
       "      <td>One Dependent</td>\n",
       "      <td>2007-02-12</td>\n",
       "      <td>...</td>\n",
       "      <td>0.00000</td>\n",
       "      <td>Very low</td>\n",
       "      <td>Very low</td>\n",
       "      <td>Very low</td>\n",
       "      <td>0.00</td>\n",
       "      <td>568.542708</td>\n",
       "      <td>549.300475</td>\n",
       "      <td>0.0</td>\n",
       "      <td>0</td>\n",
       "      <td>Conservative Spenders</td>\n",
       "    </tr>\n",
       "    <tr>\n",
       "      <th>122880</th>\n",
       "      <td>77298902-f899-4c3e-9104-06d1736fb089</td>\n",
       "      <td>2023-06-01</td>\n",
       "      <td>33</td>\n",
       "      <td>FEMALE</td>\n",
       "      <td>College</td>\n",
       "      <td>Unemployed</td>\n",
       "      <td>basketball</td>\n",
       "      <td>Single</td>\n",
       "      <td>One Dependent</td>\n",
       "      <td>2001-02-12</td>\n",
       "      <td>...</td>\n",
       "      <td>0.00000</td>\n",
       "      <td>Very low</td>\n",
       "      <td>Very low</td>\n",
       "      <td>Very low</td>\n",
       "      <td>0.00</td>\n",
       "      <td>517.588408</td>\n",
       "      <td>544.214360</td>\n",
       "      <td>0.0</td>\n",
       "      <td>0</td>\n",
       "      <td>Conservative Spenders</td>\n",
       "    </tr>\n",
       "    <tr>\n",
       "      <th>122881</th>\n",
       "      <td>cd75294e-c31f-41b3-b78c-1d3e7322ddcf</td>\n",
       "      <td>2022-12-01</td>\n",
       "      <td>44</td>\n",
       "      <td>FEMALE</td>\n",
       "      <td>High School</td>\n",
       "      <td>Employed</td>\n",
       "      <td>exercise</td>\n",
       "      <td>Married</td>\n",
       "      <td>Two Dependents</td>\n",
       "      <td>2001-02-12</td>\n",
       "      <td>...</td>\n",
       "      <td>0.00000</td>\n",
       "      <td>Very low</td>\n",
       "      <td>Very low</td>\n",
       "      <td>Very low</td>\n",
       "      <td>0.00</td>\n",
       "      <td>1029.696570</td>\n",
       "      <td>1552.899035</td>\n",
       "      <td>0.0</td>\n",
       "      <td>2</td>\n",
       "      <td>Cash Advance Users</td>\n",
       "    </tr>\n",
       "  </tbody>\n",
       "</table>\n",
       "<p>5 rows × 29 columns</p>\n",
       "</div>"
      ],
      "text/plain": [
       "                                 CUSTOMER_ID        DATE  AGE     SEX  \\\n",
       "122877  3a7ce3d5-0f4b-4575-badc-3553f5440c92  2023-05-01   32    MALE   \n",
       "122878  e2a8f308-57eb-4f55-bc13-399378f246d3  2022-12-01   27    MALE   \n",
       "122879  599c0e61-9bbc-4e14-bbfd-b07f5a398669  2022-12-01   33  FEMALE   \n",
       "122880  77298902-f899-4c3e-9104-06d1736fb089  2023-06-01   33  FEMALE   \n",
       "122881  cd75294e-c31f-41b3-b78c-1d3e7322ddcf  2022-12-01   44  FEMALE   \n",
       "\n",
       "       EDUCATION_LEVEL EMPLOYMENT_STATUS      HOBBIES MARITAL_STATUS  \\\n",
       "122877     High School        Unemployed      reading         Single   \n",
       "122878             PhD        Unemployed      camping         Single   \n",
       "122879     High School        Unemployed  video-games         Single   \n",
       "122880         College        Unemployed   basketball         Single   \n",
       "122881     High School          Employed     exercise        Married   \n",
       "\n",
       "            DEPENDENTS REGISTRATION_DATE  ... INSTALLMENTS_PURCHASES  \\\n",
       "122877   One Dependent        2020-03-12  ...              339.07230   \n",
       "122878   One Dependent        2009-05-12  ...              482.58685   \n",
       "122879   One Dependent        2007-02-12  ...                0.00000   \n",
       "122880   One Dependent        2001-02-12  ...                0.00000   \n",
       "122881  Two Dependents        2001-02-12  ...                0.00000   \n",
       "\n",
       "        PURCHASES_FREQUENCY ONEOFF_PURCHASES_FREQUENCY  \\\n",
       "122877            Very high                        Low   \n",
       "122878            Very high                   Very low   \n",
       "122879             Very low                   Very low   \n",
       "122880             Very low                   Very low   \n",
       "122881             Very low                   Very low   \n",
       "\n",
       "        PURCHASES_INSTALLMENTS_FREQUENCY  PURCHASES_TRX     PAYMENTS  \\\n",
       "122877                         Very high          21.20   273.352691   \n",
       "122878                         Very high          25.92   474.722440   \n",
       "122879                          Very low           0.00   568.542708   \n",
       "122880                          Very low           0.00   517.588408   \n",
       "122881                          Very low           0.00  1029.696570   \n",
       "\n",
       "        MINIMUM_PAYMENTS  PRC_FULL_PAYMENT  Cluster           Cluster_Type  \n",
       "122877        242.288921               0.0        0  Conservative Spenders  \n",
       "122878        165.534652               0.0        0  Conservative Spenders  \n",
       "122879        549.300475               0.0        0  Conservative Spenders  \n",
       "122880        544.214360               0.0        0  Conservative Spenders  \n",
       "122881       1552.899035               0.0        2     Cash Advance Users  \n",
       "\n",
       "[5 rows x 29 columns]"
      ]
     },
     "execution_count": 4,
     "metadata": {},
     "output_type": "execute_result"
    }
   ],
   "source": [
    "df.tail()"
   ]
  },
  {
   "cell_type": "code",
   "execution_count": 5,
   "id": "d41ed480",
   "metadata": {},
   "outputs": [],
   "source": [
    "to_drop = ['CUSTOMER_ID','DATE','AGE','SEX','EDUCATION_LEVEL','EMPLOYMENT_STATUS','HOBBIES','MARITAL_STATUS','BANK_ACCOUNT_TYPE',\n",
    " 'DEPENDENTS','REGISTRATION_DATE','PURCHASES_FREQUENCY','ONEOFF_PURCHASES_FREQUENCY','PURCHASES_INSTALLMENTS_FREQUENCY','BALANCE_FREQUENCY','Cluster_Type']"
   ]
  },
  {
   "cell_type": "code",
   "execution_count": 6,
   "id": "8ec73c6f",
   "metadata": {},
   "outputs": [],
   "source": [
    "df.drop(to_drop, axis= 1, inplace= True)"
   ]
  },
  {
   "cell_type": "code",
   "execution_count": 7,
   "id": "3f8e2352",
   "metadata": {
    "scrolled": true
   },
   "outputs": [
    {
     "name": "stdout",
     "output_type": "stream",
     "text": [
      "<class 'pandas.core.frame.DataFrame'>\n",
      "RangeIndex: 122882 entries, 0 to 122881\n",
      "Data columns (total 13 columns):\n",
      " #   Column                  Non-Null Count   Dtype  \n",
      "---  ------                  --------------   -----  \n",
      " 0   BALANCE                 122882 non-null  float64\n",
      " 1   CREDIT_LIMIT            122882 non-null  float64\n",
      " 2   CASH_ADVANCE            122882 non-null  float64\n",
      " 3   CASH_ADVANCE_FREQUENCY  122882 non-null  float64\n",
      " 4   CASH_ADVANCE_TRX        122882 non-null  float64\n",
      " 5   PURCHASES               122882 non-null  float64\n",
      " 6   ONEOFF_PURCHASES        122882 non-null  float64\n",
      " 7   INSTALLMENTS_PURCHASES  122882 non-null  float64\n",
      " 8   PURCHASES_TRX           122882 non-null  float64\n",
      " 9   PAYMENTS                122882 non-null  float64\n",
      " 10  MINIMUM_PAYMENTS        122882 non-null  float64\n",
      " 11  PRC_FULL_PAYMENT        122882 non-null  float64\n",
      " 12  Cluster                 122882 non-null  int64  \n",
      "dtypes: float64(12), int64(1)\n",
      "memory usage: 12.2 MB\n"
     ]
    }
   ],
   "source": [
    "df.info()"
   ]
  },
  {
   "cell_type": "code",
   "execution_count": 8,
   "id": "2433e840",
   "metadata": {},
   "outputs": [],
   "source": [
    "X = df.drop(['Cluster'],axis = 1 )\n",
    "y = df[['Cluster']]\n",
    "X_train, X_test, y_train, y_test = train_test_split(X, y, test_size = 0.3,random_state = 101)"
   ]
  },
  {
   "cell_type": "code",
   "execution_count": 9,
   "id": "14c79355",
   "metadata": {},
   "outputs": [
    {
     "data": {
      "text/plain": [
       "((86017, 12), (36865, 12))"
      ]
     },
     "execution_count": 9,
     "metadata": {},
     "output_type": "execute_result"
    }
   ],
   "source": [
    "X_train.shape, X_test.shape"
   ]
  },
  {
   "cell_type": "markdown",
   "id": "940236ef",
   "metadata": {},
   "source": [
    "# Decision Tree Classifier"
   ]
  },
  {
   "cell_type": "code",
   "execution_count": 10,
   "id": "2ebed219",
   "metadata": {},
   "outputs": [],
   "source": [
    "#Training our algorithm\n",
    "clf = DecisionTreeClassifier()\n",
    "clf.fit(X_train, y_train)\n",
    "clf_prediction = clf.predict(X_test)"
   ]
  },
  {
   "cell_type": "code",
   "execution_count": 11,
   "id": "7861a2c5",
   "metadata": {},
   "outputs": [
    {
     "name": "stdout",
     "output_type": "stream",
     "text": [
      "[[25618     0   138   108]\n",
      " [    0   309     0    12]\n",
      " [  113     0  5936    14]\n",
      " [  157     8    18  4434]]\n"
     ]
    }
   ],
   "source": [
    "#Checking our prediction accuracy score\n",
    "print(confusion_matrix(y_test, clf_prediction))"
   ]
  },
  {
   "cell_type": "code",
   "execution_count": 12,
   "id": "8e70ff25",
   "metadata": {
    "scrolled": true
   },
   "outputs": [
    {
     "name": "stdout",
     "output_type": "stream",
     "text": [
      "              precision    recall  f1-score   support\n",
      "\n",
      "           0       0.99      0.99      0.99     25864\n",
      "           1       0.97      0.96      0.97       321\n",
      "           2       0.97      0.98      0.98      6063\n",
      "           3       0.97      0.96      0.97      4617\n",
      "\n",
      "    accuracy                           0.98     36865\n",
      "   macro avg       0.98      0.97      0.98     36865\n",
      "weighted avg       0.98      0.98      0.98     36865\n",
      "\n"
     ]
    }
   ],
   "source": [
    "print(classification_report(y_test, clf_prediction))"
   ]
  },
  {
   "cell_type": "code",
   "execution_count": 13,
   "id": "cfbf63ff",
   "metadata": {
    "scrolled": true
   },
   "outputs": [
    {
     "data": {
      "text/plain": [
       "array([0.07953907, 0.03899043, 0.28756276, 0.03309394, 0.10493316,\n",
       "       0.34302369, 0.0058551 , 0.01402622, 0.04115779, 0.02551205,\n",
       "       0.01339014, 0.01291564])"
      ]
     },
     "execution_count": 13,
     "metadata": {},
     "output_type": "execute_result"
    }
   ],
   "source": [
    "clf.feature_importances_"
   ]
  },
  {
   "cell_type": "code",
   "execution_count": 14,
   "id": "637cd870",
   "metadata": {},
   "outputs": [
    {
     "data": {
      "text/plain": [
       "PURCHASES                 0.343024\n",
       "CASH_ADVANCE              0.287563\n",
       "CASH_ADVANCE_TRX          0.104933\n",
       "BALANCE                   0.079539\n",
       "PURCHASES_TRX             0.041158\n",
       "CREDIT_LIMIT              0.038990\n",
       "CASH_ADVANCE_FREQUENCY    0.033094\n",
       "PAYMENTS                  0.025512\n",
       "INSTALLMENTS_PURCHASES    0.014026\n",
       "MINIMUM_PAYMENTS          0.013390\n",
       "PRC_FULL_PAYMENT          0.012916\n",
       "ONEOFF_PURCHASES          0.005855\n",
       "dtype: float64"
      ]
     },
     "execution_count": 14,
     "metadata": {},
     "output_type": "execute_result"
    }
   ],
   "source": [
    "pd.Series(clf.feature_importances_,index=X_train.columns).sort_values(ascending=False)"
   ]
  },
  {
   "cell_type": "markdown",
   "id": "ebb64ae3",
   "metadata": {},
   "source": [
    "## We achieve 98% accuracy at predicting potiential new customers behavior"
   ]
  },
  {
   "cell_type": "code",
   "execution_count": 15,
   "id": "fcde2a29",
   "metadata": {},
   "outputs": [],
   "source": [
    "from fosforml import *\n",
    "from fosforml.constants import MLModelFlavours\n",
    "import requests"
   ]
  },
  {
   "cell_type": "code",
   "execution_count": 16,
   "id": "25d5565b",
   "metadata": {},
   "outputs": [],
   "source": [
    "payload_dict = X_train.iloc[0].to_dict()"
   ]
  },
  {
   "cell_type": "code",
   "execution_count": 17,
   "id": "46989af5",
   "metadata": {},
   "outputs": [
    {
     "data": {
      "text/plain": [
       "{'BALANCE': 2378.1156415200003,\n",
       " 'CREDIT_LIMIT': 5640.0,\n",
       " 'CASH_ADVANCE': 306.9114516,\n",
       " 'CASH_ADVANCE_FREQUENCY': 0.08749965,\n",
       " 'CASH_ADVANCE_TRX': 1.035,\n",
       " 'PURCHASES': 2515.24,\n",
       " 'ONEOFF_PURCHASES': 2719.5,\n",
       " 'INSTALLMENTS_PURCHASES': 184.44,\n",
       " 'PURCHASES_TRX': 9.81,\n",
       " 'PAYMENTS': 674.70383367,\n",
       " 'MINIMUM_PAYMENTS': 736.03712752,\n",
       " 'PRC_FULL_PAYMENT': 0.0}"
      ]
     },
     "execution_count": 17,
     "metadata": {},
     "output_type": "execute_result"
    }
   ],
   "source": [
    "payload_dict"
   ]
  },
  {
   "cell_type": "markdown",
   "id": "e5b52cac",
   "metadata": {},
   "source": [
    "# Sample Model Payload"
   ]
  },
  {
   "cell_type": "code",
   "execution_count": 18,
   "id": "f1a87643",
   "metadata": {},
   "outputs": [
    {
     "name": "stdout",
     "output_type": "stream",
     "text": [
      "{ \"payload\":  {'BALANCE': 2378.1156415200003, 'CREDIT_LIMIT': 5640.0, 'CASH_ADVANCE': 306.9114516, 'CASH_ADVANCE_FREQUENCY': 0.08749965, 'CASH_ADVANCE_TRX': 1.035, 'PURCHASES': 2515.24, 'ONEOFF_PURCHASES': 2719.5, 'INSTALLMENTS_PURCHASES': 184.44, 'PURCHASES_TRX': 9.81, 'PAYMENTS': 674.70383367, 'MINIMUM_PAYMENTS': 736.03712752, 'PRC_FULL_PAYMENT': 0.0} }\n"
     ]
    }
   ],
   "source": [
    "print ('{ \"payload\": ', payload_dict, \"}\")"
   ]
  },
  {
   "cell_type": "markdown",
   "id": "f0238218",
   "metadata": {},
   "source": [
    "# Define a Score function"
   ]
  },
  {
   "cell_type": "code",
   "execution_count": 37,
   "id": "a54c42dd",
   "metadata": {},
   "outputs": [],
   "source": [
    "@scoring_func\n",
    "def score(model, request):\n",
    "    payload_dict = request.json[\"payload\"]\n",
    "    df = pd.DataFrame(payload_dict, index=[0])\n",
    "    output = model.predict(df)\n",
    "    \n",
    "    if output == 0:\n",
    "        return 'Conservative Spenders'\n",
    "    elif output == 1:\n",
    "        return 'High Spender Users'\n",
    "    elif output == 2:\n",
    "        return 'Cash Advance Users'\n",
    "    else:\n",
    "        return 'Active Credit Users'"
   ]
  },
  {
   "cell_type": "markdown",
   "id": "e3a9c524",
   "metadata": {},
   "source": [
    "# Sample Model Inference JSON Request"
   ]
  },
  {
   "cell_type": "code",
   "execution_count": 38,
   "id": "366c55fc",
   "metadata": {},
   "outputs": [
    {
     "data": {
      "text/plain": [
       "{'BALANCE': 2378.1156415200003,\n",
       " 'CREDIT_LIMIT': 5640.0,\n",
       " 'CASH_ADVANCE': 306.9114516,\n",
       " 'CASH_ADVANCE_FREQUENCY': 0.08749965,\n",
       " 'CASH_ADVANCE_TRX': 1.035,\n",
       " 'PURCHASES': 2515.24,\n",
       " 'ONEOFF_PURCHASES': 2719.5,\n",
       " 'INSTALLMENTS_PURCHASES': 184.44,\n",
       " 'PURCHASES_TRX': 9.81,\n",
       " 'PAYMENTS': 674.70383367,\n",
       " 'MINIMUM_PAYMENTS': 736.03712752,\n",
       " 'PRC_FULL_PAYMENT': 0.0}"
      ]
     },
     "execution_count": 38,
     "metadata": {},
     "output_type": "execute_result"
    }
   ],
   "source": [
    "payload_dict"
   ]
  },
  {
   "cell_type": "code",
   "execution_count": 39,
   "id": "49757060",
   "metadata": {},
   "outputs": [],
   "source": [
    "req.json = {\"payload\":payload_dict}"
   ]
  },
  {
   "cell_type": "code",
   "execution_count": 40,
   "id": "d91fb6cc",
   "metadata": {
    "scrolled": true
   },
   "outputs": [
    {
     "data": {
      "text/plain": [
       "{'payload': {'BALANCE': 2378.1156415200003,\n",
       "  'CREDIT_LIMIT': 5640.0,\n",
       "  'CASH_ADVANCE': 306.9114516,\n",
       "  'CASH_ADVANCE_FREQUENCY': 0.08749965,\n",
       "  'CASH_ADVANCE_TRX': 1.035,\n",
       "  'PURCHASES': 2515.24,\n",
       "  'ONEOFF_PURCHASES': 2719.5,\n",
       "  'INSTALLMENTS_PURCHASES': 184.44,\n",
       "  'PURCHASES_TRX': 9.81,\n",
       "  'PAYMENTS': 674.70383367,\n",
       "  'MINIMUM_PAYMENTS': 736.03712752,\n",
       "  'PRC_FULL_PAYMENT': 0.0}}"
      ]
     },
     "execution_count": 40,
     "metadata": {},
     "output_type": "execute_result"
    }
   ],
   "source": [
    "req.json"
   ]
  },
  {
   "cell_type": "code",
   "execution_count": 41,
   "id": "b06ae483",
   "metadata": {},
   "outputs": [
    {
     "data": {
      "text/html": [
       "<div>\n",
       "<style scoped>\n",
       "    .dataframe tbody tr th:only-of-type {\n",
       "        vertical-align: middle;\n",
       "    }\n",
       "\n",
       "    .dataframe tbody tr th {\n",
       "        vertical-align: top;\n",
       "    }\n",
       "\n",
       "    .dataframe thead th {\n",
       "        text-align: right;\n",
       "    }\n",
       "</style>\n",
       "<table border=\"1\" class=\"dataframe\">\n",
       "  <thead>\n",
       "    <tr style=\"text-align: right;\">\n",
       "      <th></th>\n",
       "      <th>BALANCE</th>\n",
       "      <th>CREDIT_LIMIT</th>\n",
       "      <th>CASH_ADVANCE</th>\n",
       "      <th>CASH_ADVANCE_FREQUENCY</th>\n",
       "      <th>CASH_ADVANCE_TRX</th>\n",
       "      <th>PURCHASES</th>\n",
       "      <th>ONEOFF_PURCHASES</th>\n",
       "      <th>INSTALLMENTS_PURCHASES</th>\n",
       "      <th>PURCHASES_TRX</th>\n",
       "      <th>PAYMENTS</th>\n",
       "      <th>MINIMUM_PAYMENTS</th>\n",
       "      <th>PRC_FULL_PAYMENT</th>\n",
       "    </tr>\n",
       "  </thead>\n",
       "  <tbody>\n",
       "    <tr>\n",
       "      <th>0</th>\n",
       "      <td>2378.115642</td>\n",
       "      <td>5640.0</td>\n",
       "      <td>306.911452</td>\n",
       "      <td>0.0875</td>\n",
       "      <td>1.035</td>\n",
       "      <td>2515.24</td>\n",
       "      <td>2719.5</td>\n",
       "      <td>184.44</td>\n",
       "      <td>9.81</td>\n",
       "      <td>674.703834</td>\n",
       "      <td>736.037128</td>\n",
       "      <td>0.0</td>\n",
       "    </tr>\n",
       "  </tbody>\n",
       "</table>\n",
       "</div>"
      ],
      "text/plain": [
       "       BALANCE  CREDIT_LIMIT  CASH_ADVANCE  CASH_ADVANCE_FREQUENCY  \\\n",
       "0  2378.115642        5640.0    306.911452                  0.0875   \n",
       "\n",
       "   CASH_ADVANCE_TRX  PURCHASES  ONEOFF_PURCHASES  INSTALLMENTS_PURCHASES  \\\n",
       "0             1.035    2515.24            2719.5                  184.44   \n",
       "\n",
       "   PURCHASES_TRX    PAYMENTS  MINIMUM_PAYMENTS  PRC_FULL_PAYMENT  \n",
       "0           9.81  674.703834        736.037128               0.0  "
      ]
     },
     "execution_count": 41,
     "metadata": {},
     "output_type": "execute_result"
    }
   ],
   "source": [
    "pd.DataFrame(payload_dict, index=[0])"
   ]
  },
  {
   "cell_type": "code",
   "execution_count": 23,
   "id": "c6d6c04c",
   "metadata": {},
   "outputs": [
    {
     "data": {
      "text/plain": [
       "{'BALANCE': 2378.1156415200003,\n",
       " 'CREDIT_LIMIT': 5640.0,\n",
       " 'CASH_ADVANCE': 306.9114516,\n",
       " 'CASH_ADVANCE_FREQUENCY': 0.08749965,\n",
       " 'CASH_ADVANCE_TRX': 1.035,\n",
       " 'PURCHASES': 2515.24,\n",
       " 'ONEOFF_PURCHASES': 2719.5,\n",
       " 'INSTALLMENTS_PURCHASES': 184.44,\n",
       " 'PURCHASES_TRX': 9.81,\n",
       " 'PAYMENTS': 674.70383367,\n",
       " 'MINIMUM_PAYMENTS': 736.03712752,\n",
       " 'PRC_FULL_PAYMENT': 0.0}"
      ]
     },
     "execution_count": 23,
     "metadata": {},
     "output_type": "execute_result"
    }
   ],
   "source": [
    "payload_dict = X_train.iloc[0].to_dict()\n",
    "payload_dict"
   ]
  },
  {
   "cell_type": "code",
   "execution_count": 42,
   "id": "0210b57c",
   "metadata": {},
   "outputs": [
    {
     "data": {
      "text/plain": [
       "'Conservative Spenders'"
      ]
     },
     "execution_count": 42,
     "metadata": {},
     "output_type": "execute_result"
    }
   ],
   "source": [
    "req = requests.Request()\n",
    "req.json = {\"payload\":payload_dict}\n",
    "#req.json = {\"payload\":payload}\n",
    "y_req = req\n",
    "score(clf, y_req)"
   ]
  },
  {
   "cell_type": "code",
   "execution_count": 43,
   "id": "38a9e7b5",
   "metadata": {},
   "outputs": [
    {
     "data": {
      "text/plain": [
       "{'BALANCE': 2161.67703016,\n",
       " 'CREDIT_LIMIT': 2760.0,\n",
       " 'CASH_ADVANCE': 7399.04709474,\n",
       " 'CASH_ADVANCE_FREQUENCY': 0.35999964,\n",
       " 'CASH_ADVANCE_TRX': 8.64,\n",
       " 'PURCHASES': 0.0,\n",
       " 'ONEOFF_PURCHASES': 0.0,\n",
       " 'INSTALLMENTS_PURCHASES': 0.0,\n",
       " 'PURCHASES_TRX': 0.0,\n",
       " 'PAYMENTS': 7500.34928286,\n",
       " 'MINIMUM_PAYMENTS': 839.24561325,\n",
       " 'PRC_FULL_PAYMENT': 0.17666702}"
      ]
     },
     "execution_count": 43,
     "metadata": {},
     "output_type": "execute_result"
    }
   ],
   "source": [
    "payload_dict = X_train.iloc[1000].to_dict()\n",
    "payload_dict"
   ]
  },
  {
   "cell_type": "code",
   "execution_count": 44,
   "id": "b01a4a36",
   "metadata": {},
   "outputs": [
    {
     "data": {
      "text/plain": [
       "'Cash Advance Users'"
      ]
     },
     "execution_count": 44,
     "metadata": {},
     "output_type": "execute_result"
    }
   ],
   "source": [
    "req = requests.Request()\n",
    "req.json = {\"payload\":payload_dict}\n",
    "#req.json = {\"payload\":payload}\n",
    "y_req = req\n",
    "score(clf, y_req)"
   ]
  },
  {
   "cell_type": "markdown",
   "id": "d6b01c1b",
   "metadata": {},
   "source": [
    "# Model registration Code"
   ]
  },
  {
   "cell_type": "code",
   "execution_count": 45,
   "id": "7e1fa822",
   "metadata": {},
   "outputs": [
    {
     "name": "stdout",
     "output_type": "stream",
     "text": [
      "Calculating build time metrics\n",
      "\n",
      "Progress: ██████████████████████████████████████████████████████████████████████ 100.0%\n"
     ]
    },
    {
     "data": {
      "application/vnd.jupyter.widget-view+json": {
       "model_id": "c5a2b0bac0434091b82e0b3ad93384b1",
       "version_major": 2,
       "version_minor": 0
      },
      "text/plain": [
       "VBox(children=(HTML(value='<style>.grad_1{background: #2468a4;} .grad_2{ color:white; background: #2468a4;}</s…"
      ]
     },
     "metadata": {},
     "output_type": "display_data"
    }
   ],
   "source": [
    "## registering the model in Fosfor.\n",
    "model_reg = register_model(clf,\n",
    "               score, \n",
    "               name=\"Customer_Segmentation_Dtree_Cluster_Classifier\", \n",
    "               description=\"Customer_Segmentation_Dtree_Cluster_Classifier\",\n",
    "               flavour=MLModelFlavours.sklearn,\n",
    "               model_type=\"classification\",\n",
    "               init_script=\"\\\\n pip install fosforml \\\\n pip install fosforio[snowflake] \\\\n pip install seaborn \\\\n pip install snowflake-connector-python[pandas]\",\n",
    "               y_true=y_test,\n",
    "               y_pred=clf_prediction,\n",
    "               prob=clf_prediction,\n",
    "               features=X_train.columns,\n",
    "               input_type=\"json\", \n",
    "               explain_ai=True,\n",
    "               x_train=X_train, \n",
    "               x_test=X_test, \n",
    "               y_train=y_train,\n",
    "               y_test=y_test,\n",
    "               feature_names=X_train.columns.tolist(),\n",
    "               original_features=X_train.columns.tolist(),\n",
    "               feature_ids=X_train.columns,\n",
    "               kyd=True, kyd_score = True)"
   ]
  },
  {
   "cell_type": "markdown",
   "id": "071dec83",
   "metadata": {},
   "source": [
    "# Another Version"
   ]
  },
  {
   "cell_type": "code",
   "execution_count": 46,
   "id": "d1482398",
   "metadata": {},
   "outputs": [],
   "source": [
    "clf_prediction = clf.predict(X_train)"
   ]
  },
  {
   "cell_type": "code",
   "execution_count": 47,
   "id": "c0d6ac81",
   "metadata": {
    "scrolled": false
   },
   "outputs": [
    {
     "name": "stdout",
     "output_type": "stream",
     "text": [
      "Calculating build time metrics\n",
      "\n",
      "Progress: ██████████████████████████████████████████████████████████████████████ 100.0%\n"
     ]
    },
    {
     "data": {
      "application/vnd.jupyter.widget-view+json": {
       "model_id": "83b52cbaeebb43b585e2fc9525f5676c",
       "version_major": 2,
       "version_minor": 0
      },
      "text/plain": [
       "VBox(children=(HTML(value='<style>.grad_1{background: #2468a4;} .grad_2{ color:white; background: #2468a4;}</s…"
      ]
     },
     "metadata": {},
     "output_type": "display_data"
    }
   ],
   "source": [
    "## registering the model in Fosfor.\n",
    "model_reg = register_model(clf,\n",
    "               score, \n",
    "               name=\"Customer_Segmentation_Dtree_Cluster_Classifier\", \n",
    "               description=\"Customer_Segmentation_Dtree_Cluster_Classifier\",\n",
    "               flavour=MLModelFlavours.sklearn,\n",
    "               model_type=\"classification\",\n",
    "               init_script=\"\\\\n pip install fosforml \\\\n pip install fosforio[snowflake] \\\\n pip install seaborn \\\\n pip install snowflake-connector-python[pandas]\",\n",
    "               y_true=y_train,\n",
    "               y_pred=clf_prediction,\n",
    "               prob=clf_prediction,\n",
    "               features=X_train.columns,\n",
    "               input_type=\"json\", \n",
    "               explain_ai=True,\n",
    "               x_train=X_test, \n",
    "               x_test=X_train, \n",
    "               y_train=y_test,\n",
    "               y_test=y_train,\n",
    "               feature_names=X_train.columns.tolist(),\n",
    "               original_features=X_train.columns.tolist(),\n",
    "               feature_ids=X_train.columns,\n",
    "               kyd=True, kyd_score = True)"
   ]
  },
  {
   "cell_type": "markdown",
   "id": "e9dc2455",
   "metadata": {},
   "source": [
    "# Write back the output to Snowflake"
   ]
  },
  {
   "cell_type": "code",
   "execution_count": 49,
   "id": "a87ef427",
   "metadata": {},
   "outputs": [],
   "source": [
    "df = pd.read_csv('/data/Output/kmeans_clustered_customer_Data.csv')"
   ]
  },
  {
   "cell_type": "code",
   "execution_count": 52,
   "id": "12f38f47",
   "metadata": {
    "scrolled": true
   },
   "outputs": [
    {
     "data": {
      "text/html": [
       "<div>\n",
       "<style scoped>\n",
       "    .dataframe tbody tr th:only-of-type {\n",
       "        vertical-align: middle;\n",
       "    }\n",
       "\n",
       "    .dataframe tbody tr th {\n",
       "        vertical-align: top;\n",
       "    }\n",
       "\n",
       "    .dataframe thead th {\n",
       "        text-align: right;\n",
       "    }\n",
       "</style>\n",
       "<table border=\"1\" class=\"dataframe\">\n",
       "  <thead>\n",
       "    <tr style=\"text-align: right;\">\n",
       "      <th></th>\n",
       "      <th>CUSTOMER_ID</th>\n",
       "      <th>DATE</th>\n",
       "      <th>AGE</th>\n",
       "      <th>SEX</th>\n",
       "      <th>EDUCATION_LEVEL</th>\n",
       "      <th>EMPLOYMENT_STATUS</th>\n",
       "      <th>HOBBIES</th>\n",
       "      <th>MARITAL_STATUS</th>\n",
       "      <th>DEPENDENTS</th>\n",
       "      <th>REGISTRATION_DATE</th>\n",
       "      <th>...</th>\n",
       "      <th>INSTALLMENTS_PURCHASES</th>\n",
       "      <th>PURCHASES_FREQUENCY</th>\n",
       "      <th>ONEOFF_PURCHASES_FREQUENCY</th>\n",
       "      <th>PURCHASES_INSTALLMENTS_FREQUENCY</th>\n",
       "      <th>PURCHASES_TRX</th>\n",
       "      <th>PAYMENTS</th>\n",
       "      <th>MINIMUM_PAYMENTS</th>\n",
       "      <th>PRC_FULL_PAYMENT</th>\n",
       "      <th>Cluster</th>\n",
       "      <th>Cluster_Type</th>\n",
       "    </tr>\n",
       "  </thead>\n",
       "  <tbody>\n",
       "    <tr>\n",
       "      <th>0</th>\n",
       "      <td>PNC32940ed8-682f-4052-92b2-cfdc7f41e</td>\n",
       "      <td>2023-12-01</td>\n",
       "      <td>49</td>\n",
       "      <td>FEMALE</td>\n",
       "      <td>Undisclosed</td>\n",
       "      <td>Employed</td>\n",
       "      <td>Undisclosed</td>\n",
       "      <td>Married</td>\n",
       "      <td>Two Dependents</td>\n",
       "      <td>2004-11-12</td>\n",
       "      <td>...</td>\n",
       "      <td>0.0</td>\n",
       "      <td>Very low</td>\n",
       "      <td>Very low</td>\n",
       "      <td>Very low</td>\n",
       "      <td>0.000</td>\n",
       "      <td>3774.789989</td>\n",
       "      <td>1007.999804</td>\n",
       "      <td>0.214444</td>\n",
       "      <td>2</td>\n",
       "      <td>Cash Advance Users</td>\n",
       "    </tr>\n",
       "    <tr>\n",
       "      <th>1</th>\n",
       "      <td>PNCe415caf5-6212-4f50-a062-c12bf1eea</td>\n",
       "      <td>2024-01-01</td>\n",
       "      <td>34</td>\n",
       "      <td>MALE</td>\n",
       "      <td>Undisclosed</td>\n",
       "      <td>Unemployed</td>\n",
       "      <td>Undisclosed</td>\n",
       "      <td>Married</td>\n",
       "      <td>No Dependents</td>\n",
       "      <td>2023-07-12</td>\n",
       "      <td>...</td>\n",
       "      <td>0.0</td>\n",
       "      <td>Very high</td>\n",
       "      <td>Very high</td>\n",
       "      <td>Very low</td>\n",
       "      <td>11.400</td>\n",
       "      <td>665.611414</td>\n",
       "      <td>589.647700</td>\n",
       "      <td>0.000000</td>\n",
       "      <td>0</td>\n",
       "      <td>Conservative Spenders</td>\n",
       "    </tr>\n",
       "    <tr>\n",
       "      <th>2</th>\n",
       "      <td>PNC1ef5b665-11ae-40d7-b364-be8fa02b9</td>\n",
       "      <td>2023-02-01</td>\n",
       "      <td>34</td>\n",
       "      <td>MALE</td>\n",
       "      <td>Undisclosed</td>\n",
       "      <td>Unemployed</td>\n",
       "      <td>Undisclosed</td>\n",
       "      <td>Married</td>\n",
       "      <td>No Dependents</td>\n",
       "      <td>2021-11-12</td>\n",
       "      <td>...</td>\n",
       "      <td>0.0</td>\n",
       "      <td>Very high</td>\n",
       "      <td>Very high</td>\n",
       "      <td>Very low</td>\n",
       "      <td>10.920</td>\n",
       "      <td>653.170079</td>\n",
       "      <td>570.829156</td>\n",
       "      <td>0.000000</td>\n",
       "      <td>0</td>\n",
       "      <td>Conservative Spenders</td>\n",
       "    </tr>\n",
       "    <tr>\n",
       "      <th>3</th>\n",
       "      <td>PNC436a6069-0e61-47f2-96e8-d11c19e4b</td>\n",
       "      <td>2024-04-01</td>\n",
       "      <td>29</td>\n",
       "      <td>MALE</td>\n",
       "      <td>Undisclosed</td>\n",
       "      <td>Unemployed</td>\n",
       "      <td>Undisclosed</td>\n",
       "      <td>Single</td>\n",
       "      <td>One Dependent</td>\n",
       "      <td>2019-07-12</td>\n",
       "      <td>...</td>\n",
       "      <td>0.0</td>\n",
       "      <td>Very low</td>\n",
       "      <td>Very low</td>\n",
       "      <td>Very low</td>\n",
       "      <td>0.965</td>\n",
       "      <td>0.000000</td>\n",
       "      <td>0.000000</td>\n",
       "      <td>0.000000</td>\n",
       "      <td>0</td>\n",
       "      <td>Conservative Spenders</td>\n",
       "    </tr>\n",
       "    <tr>\n",
       "      <th>4</th>\n",
       "      <td>PNCaaa1c8bb-7289-4c25-a05e-efe26e316</td>\n",
       "      <td>2024-02-01</td>\n",
       "      <td>29</td>\n",
       "      <td>MALE</td>\n",
       "      <td>Undisclosed</td>\n",
       "      <td>Unemployed</td>\n",
       "      <td>Undisclosed</td>\n",
       "      <td>Single</td>\n",
       "      <td>One Dependent</td>\n",
       "      <td>2022-09-12</td>\n",
       "      <td>...</td>\n",
       "      <td>0.0</td>\n",
       "      <td>Very low</td>\n",
       "      <td>Very low</td>\n",
       "      <td>Very low</td>\n",
       "      <td>1.060</td>\n",
       "      <td>0.000000</td>\n",
       "      <td>0.000000</td>\n",
       "      <td>0.000000</td>\n",
       "      <td>0</td>\n",
       "      <td>Conservative Spenders</td>\n",
       "    </tr>\n",
       "  </tbody>\n",
       "</table>\n",
       "<p>5 rows × 29 columns</p>\n",
       "</div>"
      ],
      "text/plain": [
       "                            CUSTOMER_ID        DATE  AGE     SEX  \\\n",
       "0  PNC32940ed8-682f-4052-92b2-cfdc7f41e  2023-12-01   49  FEMALE   \n",
       "1  PNCe415caf5-6212-4f50-a062-c12bf1eea  2024-01-01   34    MALE   \n",
       "2  PNC1ef5b665-11ae-40d7-b364-be8fa02b9  2023-02-01   34    MALE   \n",
       "3  PNC436a6069-0e61-47f2-96e8-d11c19e4b  2024-04-01   29    MALE   \n",
       "4  PNCaaa1c8bb-7289-4c25-a05e-efe26e316  2024-02-01   29    MALE   \n",
       "\n",
       "  EDUCATION_LEVEL EMPLOYMENT_STATUS      HOBBIES MARITAL_STATUS  \\\n",
       "0     Undisclosed          Employed  Undisclosed        Married   \n",
       "1     Undisclosed        Unemployed  Undisclosed        Married   \n",
       "2     Undisclosed        Unemployed  Undisclosed        Married   \n",
       "3     Undisclosed        Unemployed  Undisclosed         Single   \n",
       "4     Undisclosed        Unemployed  Undisclosed         Single   \n",
       "\n",
       "       DEPENDENTS REGISTRATION_DATE  ... INSTALLMENTS_PURCHASES  \\\n",
       "0  Two Dependents        2004-11-12  ...                    0.0   \n",
       "1   No Dependents        2023-07-12  ...                    0.0   \n",
       "2   No Dependents        2021-11-12  ...                    0.0   \n",
       "3   One Dependent        2019-07-12  ...                    0.0   \n",
       "4   One Dependent        2022-09-12  ...                    0.0   \n",
       "\n",
       "   PURCHASES_FREQUENCY ONEOFF_PURCHASES_FREQUENCY  \\\n",
       "0             Very low                   Very low   \n",
       "1            Very high                  Very high   \n",
       "2            Very high                  Very high   \n",
       "3             Very low                   Very low   \n",
       "4             Very low                   Very low   \n",
       "\n",
       "   PURCHASES_INSTALLMENTS_FREQUENCY  PURCHASES_TRX     PAYMENTS  \\\n",
       "0                          Very low          0.000  3774.789989   \n",
       "1                          Very low         11.400   665.611414   \n",
       "2                          Very low         10.920   653.170079   \n",
       "3                          Very low          0.965     0.000000   \n",
       "4                          Very low          1.060     0.000000   \n",
       "\n",
       "   MINIMUM_PAYMENTS  PRC_FULL_PAYMENT  Cluster           Cluster_Type  \n",
       "0       1007.999804          0.214444        2     Cash Advance Users  \n",
       "1        589.647700          0.000000        0  Conservative Spenders  \n",
       "2        570.829156          0.000000        0  Conservative Spenders  \n",
       "3          0.000000          0.000000        0  Conservative Spenders  \n",
       "4          0.000000          0.000000        0  Conservative Spenders  \n",
       "\n",
       "[5 rows x 29 columns]"
      ]
     },
     "execution_count": 52,
     "metadata": {},
     "output_type": "execute_result"
    }
   ],
   "source": [
    "df.head()"
   ]
  },
  {
   "cell_type": "code",
   "execution_count": 55,
   "id": "d2a0e6f0",
   "metadata": {},
   "outputs": [],
   "source": [
    "df['PREDICTION'] = clf.predict(df[X_train.columns])"
   ]
  },
  {
   "cell_type": "code",
   "execution_count": 56,
   "id": "ff39c325",
   "metadata": {
    "scrolled": true
   },
   "outputs": [
    {
     "name": "stdout",
     "output_type": "stream",
     "text": [
      "              precision    recall  f1-score   support\n",
      "\n",
      "           0       1.00      1.00      1.00     85997\n",
      "           1       0.99      0.99      0.99      1062\n",
      "           2       0.99      0.99      0.99     20461\n",
      "           3       0.99      0.99      0.99     15362\n",
      "\n",
      "    accuracy                           1.00    122882\n",
      "   macro avg       0.99      0.99      0.99    122882\n",
      "weighted avg       1.00      1.00      1.00    122882\n",
      "\n"
     ]
    }
   ],
   "source": [
    "print(classification_report(df['Cluster'], df['PREDICTION']))"
   ]
  },
  {
   "cell_type": "code",
   "execution_count": 57,
   "id": "88c7095c",
   "metadata": {},
   "outputs": [],
   "source": [
    "from snowflake.snowpark import Session\n",
    "import warnings; warnings.simplefilter('ignore')\n",
    "import configparser"
   ]
  },
  {
   "cell_type": "code",
   "execution_count": 58,
   "id": "2dbd5dea",
   "metadata": {},
   "outputs": [],
   "source": [
    "#Import all snowflake connection details from template variables.\n",
    "db_user = 'MANISH'\n",
    "db_password = 'Password@2023'\n",
    "db_account = 'ug94937.us-east4.gcp'\n",
    "db_database =  'FDC_Insurance'\n",
    "db_role = 'MANISH'\n",
    "db_warehouse = 'FOSFOR_SOLUTIONS_WH'\n",
    "db_schema = 'INS_CUST_SEGMT_SCHEMA'"
   ]
  },
  {
   "cell_type": "code",
   "execution_count": 59,
   "id": "2e970c9a",
   "metadata": {},
   "outputs": [],
   "source": [
    "from snowflake.snowpark.session import Session\n",
    "connection_params = {\n",
    "    'user': db_user,\n",
    "    'password': db_password,\n",
    "    'account': db_account,\n",
    "    'warehouse': db_warehouse,\n",
    "    'database': db_database,\n",
    "    'schema': db_schema,\n",
    "    'role': db_role\n",
    "}\n",
    "session1 = Session.builder.configs(connection_params).create()"
   ]
  },
  {
   "cell_type": "code",
   "execution_count": 60,
   "id": "b4c892f2",
   "metadata": {},
   "outputs": [
    {
     "data": {
      "text/plain": [
       "(122882, 30)"
      ]
     },
     "execution_count": 60,
     "metadata": {},
     "output_type": "execute_result"
    }
   ],
   "source": [
    "df.shape"
   ]
  },
  {
   "cell_type": "code",
   "execution_count": 61,
   "id": "5d836a2d",
   "metadata": {},
   "outputs": [],
   "source": [
    "df_train = df.head(80000)\n",
    "df_test = df.tail(40000)"
   ]
  },
  {
   "cell_type": "code",
   "execution_count": null,
   "id": "36426f10",
   "metadata": {},
   "outputs": [],
   "source": [
    "df_train_sf=session1.createDataFrame(\n",
    "        df_train.values.tolist(),\n",
    "        schema=df_train.columns.tolist())\n",
    "df_train_sf.write.mode(\"overwrite\").save_as_table(\"FDC_Insurance.INS_CUST_SEGMT_SCHEMA.ATM_TRANSACTION_TRAIN_OUTPUT\")"
   ]
  },
  {
   "cell_type": "code",
   "execution_count": null,
   "id": "83e56341",
   "metadata": {},
   "outputs": [],
   "source": [
    "df_test_sf=session1.createDataFrame(\n",
    "        df_test.values.tolist(),\n",
    "        schema=df_test.columns.tolist())\n",
    "df_test_sf.write.mode(\"overwrite\").save_as_table(\"FDC_Insurance.INS_CUST_SEGMT_SCHEMA.ATM_TRANSACTION_TEST_OUTPUT\")"
   ]
  },
  {
   "cell_type": "code",
   "execution_count": null,
   "id": "518d44b5",
   "metadata": {},
   "outputs": [],
   "source": []
  }
 ],
 "metadata": {
  "kernelspec": {
   "display_name": "Python 3",
   "language": "python",
   "name": "python3"
  },
  "language_info": {
   "codemirror_mode": {
    "name": "ipython",
    "version": 3
   },
   "file_extension": ".py",
   "mimetype": "text/x-python",
   "name": "python",
   "nbconvert_exporter": "python",
   "pygments_lexer": "ipython3",
   "version": "3.8.18"
  }
 },
 "nbformat": 4,
 "nbformat_minor": 5
}
