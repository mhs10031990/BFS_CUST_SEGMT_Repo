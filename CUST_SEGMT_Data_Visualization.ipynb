{
 "cells": [
  {
   "cell_type": "markdown",
   "id": "70bcab9b",
   "metadata": {},
   "source": [
    "# Use Customer_Segmentation Notebook Template"
   ]
  },
  {
   "cell_type": "code",
   "execution_count": 1,
   "id": "9058a6cf",
   "metadata": {},
   "outputs": [
    {
     "name": "stderr",
     "output_type": "stream",
     "text": [
      "Matplotlib created a temporary cache directory at /tmp/matplotlib-46dc4k36 because the default path (/home/mosaic-ai/.cache/matplotlib) is not a writable directory; it is highly recommended to set the MPLCONFIGDIR environment variable to a writable directory, in particular to speed up the import of Matplotlib and to better support multiprocessing.\n"
     ]
    }
   ],
   "source": [
    "import pandas as pd\n",
    "import numpy as np\n",
    "import matplotlib.pyplot as plt\n",
    "import seaborn as sns"
   ]
  },
  {
   "cell_type": "code",
   "execution_count": 2,
   "id": "17be0dd8",
   "metadata": {},
   "outputs": [
    {
     "name": "stdout",
     "output_type": "stream",
     "text": [
      "Connection manager service url initialised to http://fdc-project-manager:80/project-manager\n",
      "If you need to update its value then update the variable CONNECTION_MANAGER_BASE_URL in os env.\n"
     ]
    }
   ],
   "source": [
    "from fosforio import snowflake"
   ]
  },
  {
   "cell_type": "code",
   "execution_count": 3,
   "id": "d200ff3b",
   "metadata": {},
   "outputs": [
    {
     "name": "stdout",
     "output_type": "stream",
     "text": [
      "Exception occurred in getting snowflake connection: 'connectionSources'\n"
     ]
    }
   ],
   "source": [
    "# To get snowflake connection object with a default snowflake connection created by the user, if available.\n",
    "#snowflake.get_connection()\n",
    "\n",
    "# To get snowflake connection object with a specific connection name\n",
    "snowflake.get_connection(connection_name=\"FDC_Insurance_Snowflake\")"
   ]
  },
  {
   "cell_type": "code",
   "execution_count": 4,
   "id": "7b3d44c7",
   "metadata": {},
   "outputs": [],
   "source": [
    "# To read a specific dataset published from a snowflake connection\n",
    "df = snowflake.get_dataframe(\"CUSTOMER_TRANSACTION_MASTER\")"
   ]
  },
  {
   "cell_type": "code",
   "execution_count": 5,
   "id": "afedf581",
   "metadata": {},
   "outputs": [
    {
     "data": {
      "text/plain": [
       "(122882, 27)"
      ]
     },
     "execution_count": 5,
     "metadata": {},
     "output_type": "execute_result"
    }
   ],
   "source": [
    "df.shape"
   ]
  },
  {
   "cell_type": "code",
   "execution_count": 6,
   "id": "6742d091",
   "metadata": {},
   "outputs": [
    {
     "name": "stdout",
     "output_type": "stream",
     "text": [
      "<class 'pandas.core.frame.DataFrame'>\n",
      "RangeIndex: 122882 entries, 0 to 122881\n",
      "Data columns (total 27 columns):\n",
      " #   Column                            Non-Null Count   Dtype  \n",
      "---  ------                            --------------   -----  \n",
      " 0   CUSTOMER_ID                       122882 non-null  object \n",
      " 1   DATE                              122882 non-null  object \n",
      " 2   AGE                               122882 non-null  int8   \n",
      " 3   SEX                               122882 non-null  object \n",
      " 4   EDUCATION_LEVEL                   122882 non-null  object \n",
      " 5   EMPLOYMENT_STATUS                 122882 non-null  object \n",
      " 6   HOBBIES                           122882 non-null  object \n",
      " 7   MARITAL_STATUS                    122882 non-null  object \n",
      " 8   DEPENDENTS                        122882 non-null  object \n",
      " 9   REGISTRATION_DATE                 122882 non-null  object \n",
      " 10  BANK_ACCOUNT_TYPE                 122882 non-null  object \n",
      " 11  BALANCE                           122882 non-null  float64\n",
      " 12  BALANCE_FREQUENCY                 122882 non-null  object \n",
      " 13  CREDIT_LIMIT                      122882 non-null  float64\n",
      " 14  CASH_ADVANCE                      122882 non-null  float64\n",
      " 15  CASH_ADVANCE_FREQUENCY            122882 non-null  float64\n",
      " 16  CASH_ADVANCE_TRX                  122882 non-null  float64\n",
      " 17  PURCHASES                         122882 non-null  float64\n",
      " 18  ONEOFF_PURCHASES                  122882 non-null  float64\n",
      " 19  INSTALLMENTS_PURCHASES            122882 non-null  float64\n",
      " 20  PURCHASES_FREQUENCY               122882 non-null  object \n",
      " 21  ONEOFF_PURCHASES_FREQUENCY        122882 non-null  object \n",
      " 22  PURCHASES_INSTALLMENTS_FREQUENCY  122882 non-null  object \n",
      " 23  PURCHASES_TRX                     122882 non-null  float64\n",
      " 24  PAYMENTS                          122882 non-null  float64\n",
      " 25  MINIMUM_PAYMENTS                  122882 non-null  float64\n",
      " 26  PRC_FULL_PAYMENT                  122882 non-null  float64\n",
      "dtypes: float64(12), int8(1), object(14)\n",
      "memory usage: 24.5+ MB\n"
     ]
    }
   ],
   "source": [
    "df.info()"
   ]
  },
  {
   "cell_type": "code",
   "execution_count": 8,
   "id": "2ea3f727",
   "metadata": {},
   "outputs": [
    {
     "data": {
      "text/html": [
       "<div>\n",
       "<style scoped>\n",
       "    .dataframe tbody tr th:only-of-type {\n",
       "        vertical-align: middle;\n",
       "    }\n",
       "\n",
       "    .dataframe tbody tr th {\n",
       "        vertical-align: top;\n",
       "    }\n",
       "\n",
       "    .dataframe thead th {\n",
       "        text-align: right;\n",
       "    }\n",
       "</style>\n",
       "<table border=\"1\" class=\"dataframe\">\n",
       "  <thead>\n",
       "    <tr style=\"text-align: right;\">\n",
       "      <th></th>\n",
       "      <th>CUSTOMER_ID</th>\n",
       "      <th>DATE</th>\n",
       "      <th>AGE</th>\n",
       "      <th>SEX</th>\n",
       "      <th>EDUCATION_LEVEL</th>\n",
       "      <th>EMPLOYMENT_STATUS</th>\n",
       "      <th>HOBBIES</th>\n",
       "      <th>MARITAL_STATUS</th>\n",
       "      <th>DEPENDENTS</th>\n",
       "      <th>REGISTRATION_DATE</th>\n",
       "      <th>...</th>\n",
       "      <th>PURCHASES</th>\n",
       "      <th>ONEOFF_PURCHASES</th>\n",
       "      <th>INSTALLMENTS_PURCHASES</th>\n",
       "      <th>PURCHASES_FREQUENCY</th>\n",
       "      <th>ONEOFF_PURCHASES_FREQUENCY</th>\n",
       "      <th>PURCHASES_INSTALLMENTS_FREQUENCY</th>\n",
       "      <th>PURCHASES_TRX</th>\n",
       "      <th>PAYMENTS</th>\n",
       "      <th>MINIMUM_PAYMENTS</th>\n",
       "      <th>PRC_FULL_PAYMENT</th>\n",
       "    </tr>\n",
       "  </thead>\n",
       "  <tbody>\n",
       "    <tr>\n",
       "      <th>122877</th>\n",
       "      <td>3a7ce3d5-0f4b-4575-badc-3553f5440c92</td>\n",
       "      <td>2023-05-01</td>\n",
       "      <td>32</td>\n",
       "      <td>MALE</td>\n",
       "      <td>High School</td>\n",
       "      <td>Unemployed</td>\n",
       "      <td>reading</td>\n",
       "      <td>Single</td>\n",
       "      <td>One Dependent</td>\n",
       "      <td>2020-03-12</td>\n",
       "      <td>...</td>\n",
       "      <td>684.4068</td>\n",
       "      <td>305.7313</td>\n",
       "      <td>339.07230</td>\n",
       "      <td>Very high</td>\n",
       "      <td>Low</td>\n",
       "      <td>Very high</td>\n",
       "      <td>21.20</td>\n",
       "      <td>273.352691</td>\n",
       "      <td>242.288921</td>\n",
       "      <td>0.0</td>\n",
       "    </tr>\n",
       "    <tr>\n",
       "      <th>122878</th>\n",
       "      <td>e2a8f308-57eb-4f55-bc13-399378f246d3</td>\n",
       "      <td>2022-12-01</td>\n",
       "      <td>27</td>\n",
       "      <td>MALE</td>\n",
       "      <td>PhD</td>\n",
       "      <td>Unemployed</td>\n",
       "      <td>camping</td>\n",
       "      <td>Single</td>\n",
       "      <td>One Dependent</td>\n",
       "      <td>2009-05-12</td>\n",
       "      <td>...</td>\n",
       "      <td>535.0963</td>\n",
       "      <td>0.0000</td>\n",
       "      <td>482.58685</td>\n",
       "      <td>Very high</td>\n",
       "      <td>Very low</td>\n",
       "      <td>Very high</td>\n",
       "      <td>25.92</td>\n",
       "      <td>474.722440</td>\n",
       "      <td>165.534652</td>\n",
       "      <td>0.0</td>\n",
       "    </tr>\n",
       "    <tr>\n",
       "      <th>122879</th>\n",
       "      <td>599c0e61-9bbc-4e14-bbfd-b07f5a398669</td>\n",
       "      <td>2022-12-01</td>\n",
       "      <td>33</td>\n",
       "      <td>FEMALE</td>\n",
       "      <td>High School</td>\n",
       "      <td>Unemployed</td>\n",
       "      <td>video-games</td>\n",
       "      <td>Single</td>\n",
       "      <td>One Dependent</td>\n",
       "      <td>2007-02-12</td>\n",
       "      <td>...</td>\n",
       "      <td>0.0000</td>\n",
       "      <td>0.0000</td>\n",
       "      <td>0.00000</td>\n",
       "      <td>Very low</td>\n",
       "      <td>Very low</td>\n",
       "      <td>Very low</td>\n",
       "      <td>0.00</td>\n",
       "      <td>568.542708</td>\n",
       "      <td>549.300475</td>\n",
       "      <td>0.0</td>\n",
       "    </tr>\n",
       "    <tr>\n",
       "      <th>122880</th>\n",
       "      <td>77298902-f899-4c3e-9104-06d1736fb089</td>\n",
       "      <td>2023-06-01</td>\n",
       "      <td>33</td>\n",
       "      <td>FEMALE</td>\n",
       "      <td>College</td>\n",
       "      <td>Unemployed</td>\n",
       "      <td>basketball</td>\n",
       "      <td>Single</td>\n",
       "      <td>One Dependent</td>\n",
       "      <td>2001-02-12</td>\n",
       "      <td>...</td>\n",
       "      <td>0.0000</td>\n",
       "      <td>0.0000</td>\n",
       "      <td>0.00000</td>\n",
       "      <td>Very low</td>\n",
       "      <td>Very low</td>\n",
       "      <td>Very low</td>\n",
       "      <td>0.00</td>\n",
       "      <td>517.588408</td>\n",
       "      <td>544.214360</td>\n",
       "      <td>0.0</td>\n",
       "    </tr>\n",
       "    <tr>\n",
       "      <th>122881</th>\n",
       "      <td>cd75294e-c31f-41b3-b78c-1d3e7322ddcf</td>\n",
       "      <td>2022-12-01</td>\n",
       "      <td>44</td>\n",
       "      <td>FEMALE</td>\n",
       "      <td>High School</td>\n",
       "      <td>Employed</td>\n",
       "      <td>exercise</td>\n",
       "      <td>Married</td>\n",
       "      <td>Two Dependents</td>\n",
       "      <td>2001-02-12</td>\n",
       "      <td>...</td>\n",
       "      <td>0.0000</td>\n",
       "      <td>0.0000</td>\n",
       "      <td>0.00000</td>\n",
       "      <td>Very low</td>\n",
       "      <td>Very low</td>\n",
       "      <td>Very low</td>\n",
       "      <td>0.00</td>\n",
       "      <td>1029.696570</td>\n",
       "      <td>1552.899035</td>\n",
       "      <td>0.0</td>\n",
       "    </tr>\n",
       "  </tbody>\n",
       "</table>\n",
       "<p>5 rows × 27 columns</p>\n",
       "</div>"
      ],
      "text/plain": [
       "                                 CUSTOMER_ID        DATE  AGE     SEX  \\\n",
       "122877  3a7ce3d5-0f4b-4575-badc-3553f5440c92  2023-05-01   32    MALE   \n",
       "122878  e2a8f308-57eb-4f55-bc13-399378f246d3  2022-12-01   27    MALE   \n",
       "122879  599c0e61-9bbc-4e14-bbfd-b07f5a398669  2022-12-01   33  FEMALE   \n",
       "122880  77298902-f899-4c3e-9104-06d1736fb089  2023-06-01   33  FEMALE   \n",
       "122881  cd75294e-c31f-41b3-b78c-1d3e7322ddcf  2022-12-01   44  FEMALE   \n",
       "\n",
       "       EDUCATION_LEVEL EMPLOYMENT_STATUS      HOBBIES MARITAL_STATUS  \\\n",
       "122877     High School        Unemployed      reading         Single   \n",
       "122878             PhD        Unemployed      camping         Single   \n",
       "122879     High School        Unemployed  video-games         Single   \n",
       "122880         College        Unemployed   basketball         Single   \n",
       "122881     High School          Employed     exercise        Married   \n",
       "\n",
       "            DEPENDENTS REGISTRATION_DATE  ... PURCHASES  ONEOFF_PURCHASES  \\\n",
       "122877   One Dependent        2020-03-12  ...  684.4068          305.7313   \n",
       "122878   One Dependent        2009-05-12  ...  535.0963            0.0000   \n",
       "122879   One Dependent        2007-02-12  ...    0.0000            0.0000   \n",
       "122880   One Dependent        2001-02-12  ...    0.0000            0.0000   \n",
       "122881  Two Dependents        2001-02-12  ...    0.0000            0.0000   \n",
       "\n",
       "       INSTALLMENTS_PURCHASES  PURCHASES_FREQUENCY  \\\n",
       "122877              339.07230            Very high   \n",
       "122878              482.58685            Very high   \n",
       "122879                0.00000             Very low   \n",
       "122880                0.00000             Very low   \n",
       "122881                0.00000             Very low   \n",
       "\n",
       "        ONEOFF_PURCHASES_FREQUENCY  PURCHASES_INSTALLMENTS_FREQUENCY  \\\n",
       "122877                         Low                         Very high   \n",
       "122878                    Very low                         Very high   \n",
       "122879                    Very low                          Very low   \n",
       "122880                    Very low                          Very low   \n",
       "122881                    Very low                          Very low   \n",
       "\n",
       "        PURCHASES_TRX     PAYMENTS  MINIMUM_PAYMENTS  PRC_FULL_PAYMENT  \n",
       "122877          21.20   273.352691        242.288921               0.0  \n",
       "122878          25.92   474.722440        165.534652               0.0  \n",
       "122879           0.00   568.542708        549.300475               0.0  \n",
       "122880           0.00   517.588408        544.214360               0.0  \n",
       "122881           0.00  1029.696570       1552.899035               0.0  \n",
       "\n",
       "[5 rows x 27 columns]"
      ]
     },
     "execution_count": 8,
     "metadata": {},
     "output_type": "execute_result"
    }
   ],
   "source": [
    "df.tail()"
   ]
  },
  {
   "cell_type": "code",
   "execution_count": 7,
   "id": "38bad0c5",
   "metadata": {},
   "outputs": [],
   "source": [
    "cols = ['SEX','EDUCATION_LEVEL','EMPLOYMENT_STATUS','HOBBIES','MARITAL_STATUS','DEPENDENTS','PURCHASES_FREQUENCY','ONEOFF_PURCHASES_FREQUENCY','PURCHASES_INSTALLMENTS_FREQUENCY']"
   ]
  }
 ],
 "metadata": {
  "kernelspec": {
   "display_name": "Python 3",
   "language": "python",
   "name": "python3"
  },
  "language_info": {
   "codemirror_mode": {
    "name": "ipython",
    "version": 3
   },
   "file_extension": ".py",
   "mimetype": "text/x-python",
   "name": "python",
   "nbconvert_exporter": "python",
   "pygments_lexer": "ipython3",
   "version": "3.8.18"
  }
 },
 "nbformat": 4,
 "nbformat_minor": 5
}
