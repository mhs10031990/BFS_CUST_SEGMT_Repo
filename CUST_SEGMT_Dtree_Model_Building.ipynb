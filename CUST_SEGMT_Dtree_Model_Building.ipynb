{
 "cells": [
  {
   "cell_type": "markdown",
   "id": "70bcab9b",
   "metadata": {},
   "source": [
    "# Use Customer_Segmentation Notebook Template"
   ]
  },
  {
   "cell_type": "code",
   "execution_count": 1,
   "id": "7bcbf530-1373-44bc-8a47-a6806ca39f0c",
   "metadata": {},
   "outputs": [],
   "source": [
    "!pip install --q --upgrade pip"
   ]
  },
  {
   "cell_type": "code",
   "execution_count": 2,
   "id": "8a75f9ef-c6f8-4356-a428-d35d85a686da",
   "metadata": {},
   "outputs": [],
   "source": [
    "!pip install --q seaborn"
   ]
  },
  {
   "cell_type": "markdown",
   "id": "76d31283-857d-4d45-b85d-33ae6a5aa613",
   "metadata": {},
   "source": [
    "# Kernel Restart here"
   ]
  },
  {
   "cell_type": "code",
   "execution_count": 3,
   "id": "af46dab4",
   "metadata": {
    "scrolled": true
   },
   "outputs": [],
   "source": [
    "import numpy as np # linear algebra\n",
    "import pandas as pd\n",
    "\n",
    "import matplotlib.pyplot as plt\n",
    "import seaborn as sns\n",
    "\n",
    "from sklearn.model_selection import train_test_split\n",
    "from sklearn.tree import DecisionTreeClassifier\n",
    "from sklearn.metrics import classification_report, confusion_matrix\n",
    "\n",
    "from fosforml.model_manager.snowflakesession import get_session\n",
    "my_session = get_session()\n",
    "\n",
    "import warnings\n",
    "warnings.filterwarnings('ignore')"
   ]
  },
  {
   "cell_type": "code",
   "execution_count": 4,
   "id": "af9a4ec4-ef09-4a59-b437-1a545c5b7147",
   "metadata": {},
   "outputs": [],
   "source": [
    "table_name = 'CUSTOMER_DATA_INSIGHT_TRAIN_OUTPUT'\n",
    "\n",
    "sf_df = my_session.sql(\"select * from {}\".format(table_name))\n",
    "train = sf_df.to_pandas()"
   ]
  },
  {
   "cell_type": "code",
   "execution_count": 5,
   "id": "b38c62e0-4d2a-4c7e-9659-06d3812077a0",
   "metadata": {},
   "outputs": [],
   "source": [
    "table_name = 'CUSTOMER_DATA_INSIGHT_TEST_OUTPUT'\n",
    "\n",
    "sf_df = my_session.sql(\"select * from {}\".format(table_name))\n",
    "test = sf_df.to_pandas()"
   ]
  },
  {
   "cell_type": "code",
   "execution_count": 8,
   "id": "b4bd561f-b2dd-44fc-ac44-a30a6b7e6557",
   "metadata": {},
   "outputs": [
    {
     "data": {
      "text/plain": [
       "(40000, 32)"
      ]
     },
     "execution_count": 8,
     "metadata": {},
     "output_type": "execute_result"
    }
   ],
   "source": [
    "test.shape"
   ]
  },
  {
   "cell_type": "code",
   "execution_count": 10,
   "id": "ef7c518a-e112-4900-8daf-24a712d19ff6",
   "metadata": {},
   "outputs": [],
   "source": [
    "train = train[['CUSTOMER_ID', 'DATE', 'AGE', 'SEX', 'EDUCATION_LEVEL',\n",
    "       'EMPLOYMENT_STATUS', 'HOBBIES', 'MARITAL_STATUS', 'DEPENDENTS',\n",
    "       'REGISTRATION_DATE', 'BANK_ACCOUNT_TYPE', 'BALANCE',\n",
    "       'BALANCE_FREQUENCY', 'CREDIT_LIMIT', 'CASH_ADVANCE',\n",
    "       'CASH_ADVANCE_FREQUENCY', 'CASH_ADVANCE_TRX', 'PURCHASES',\n",
    "       'ONEOFF_PURCHASES', 'INSTALLMENTS_PURCHASES', 'PURCHASES_FREQUENCY',\n",
    "       'ONEOFF_PURCHASES_FREQUENCY', 'PURCHASES_INSTALLMENTS_FREQUENCY',\n",
    "       'PURCHASES_TRX', 'PAYMENTS', 'MINIMUM_PAYMENTS', 'PRC_FULL_PAYMENT',\n",
    "       'CLUSTER', 'CLUSTER_TYPE']]"
   ]
  },
  {
   "cell_type": "code",
   "execution_count": 11,
   "id": "f406fe9a-6889-4dc1-94ad-553387dd6908",
   "metadata": {},
   "outputs": [],
   "source": [
    "test = test[['CUSTOMER_ID', 'DATE', 'AGE', 'SEX', 'EDUCATION_LEVEL',\n",
    "       'EMPLOYMENT_STATUS', 'HOBBIES', 'MARITAL_STATUS', 'DEPENDENTS',\n",
    "       'REGISTRATION_DATE', 'BANK_ACCOUNT_TYPE', 'BALANCE',\n",
    "       'BALANCE_FREQUENCY', 'CREDIT_LIMIT', 'CASH_ADVANCE',\n",
    "       'CASH_ADVANCE_FREQUENCY', 'CASH_ADVANCE_TRX', 'PURCHASES',\n",
    "       'ONEOFF_PURCHASES', 'INSTALLMENTS_PURCHASES', 'PURCHASES_FREQUENCY',\n",
    "       'ONEOFF_PURCHASES_FREQUENCY', 'PURCHASES_INSTALLMENTS_FREQUENCY',\n",
    "       'PURCHASES_TRX', 'PAYMENTS', 'MINIMUM_PAYMENTS', 'PRC_FULL_PAYMENT',\n",
    "       'CLUSTER', 'CLUSTER_TYPE']]"
   ]
  },
  {
   "cell_type": "code",
   "execution_count": 12,
   "id": "6853da12-e68f-4b97-9bdd-713828a83edc",
   "metadata": {},
   "outputs": [],
   "source": [
    "df = pd.concat([train, test], axis=0)"
   ]
  },
  {
   "cell_type": "code",
   "execution_count": 13,
   "id": "0a85374f-08b3-43ee-a3cf-7981469d2b3d",
   "metadata": {},
   "outputs": [
    {
     "data": {
      "text/plain": [
       "(120000, 29)"
      ]
     },
     "execution_count": 13,
     "metadata": {},
     "output_type": "execute_result"
    }
   ],
   "source": [
    "df.shape"
   ]
  },
  {
   "cell_type": "code",
   "execution_count": 14,
   "id": "2ea3f727",
   "metadata": {},
   "outputs": [
    {
     "data": {
      "text/html": [
       "<div>\n",
       "<style scoped>\n",
       "    .dataframe tbody tr th:only-of-type {\n",
       "        vertical-align: middle;\n",
       "    }\n",
       "\n",
       "    .dataframe tbody tr th {\n",
       "        vertical-align: top;\n",
       "    }\n",
       "\n",
       "    .dataframe thead th {\n",
       "        text-align: right;\n",
       "    }\n",
       "</style>\n",
       "<table border=\"1\" class=\"dataframe\">\n",
       "  <thead>\n",
       "    <tr style=\"text-align: right;\">\n",
       "      <th></th>\n",
       "      <th>CUSTOMER_ID</th>\n",
       "      <th>DATE</th>\n",
       "      <th>AGE</th>\n",
       "      <th>SEX</th>\n",
       "      <th>EDUCATION_LEVEL</th>\n",
       "      <th>EMPLOYMENT_STATUS</th>\n",
       "      <th>HOBBIES</th>\n",
       "      <th>MARITAL_STATUS</th>\n",
       "      <th>DEPENDENTS</th>\n",
       "      <th>REGISTRATION_DATE</th>\n",
       "      <th>...</th>\n",
       "      <th>INSTALLMENTS_PURCHASES</th>\n",
       "      <th>PURCHASES_FREQUENCY</th>\n",
       "      <th>ONEOFF_PURCHASES_FREQUENCY</th>\n",
       "      <th>PURCHASES_INSTALLMENTS_FREQUENCY</th>\n",
       "      <th>PURCHASES_TRX</th>\n",
       "      <th>PAYMENTS</th>\n",
       "      <th>MINIMUM_PAYMENTS</th>\n",
       "      <th>PRC_FULL_PAYMENT</th>\n",
       "      <th>CLUSTER</th>\n",
       "      <th>CLUSTER_TYPE</th>\n",
       "    </tr>\n",
       "  </thead>\n",
       "  <tbody>\n",
       "    <tr>\n",
       "      <th>39995</th>\n",
       "      <td>60e2911b-6a1c-4d35-bd6f-700a96055b7d</td>\n",
       "      <td>2022-12-01</td>\n",
       "      <td>32</td>\n",
       "      <td>FEMALE</td>\n",
       "      <td>JD</td>\n",
       "      <td>Employed</td>\n",
       "      <td>reading</td>\n",
       "      <td>Single</td>\n",
       "      <td>One Dependent</td>\n",
       "      <td>2020-02-12</td>\n",
       "      <td>...</td>\n",
       "      <td>0.0000</td>\n",
       "      <td>Very low</td>\n",
       "      <td>Very low</td>\n",
       "      <td>Very low</td>\n",
       "      <td>0.00</td>\n",
       "      <td>1911.368074</td>\n",
       "      <td>381.694812</td>\n",
       "      <td>0.00</td>\n",
       "      <td>2</td>\n",
       "      <td>Cash Advance Users</td>\n",
       "    </tr>\n",
       "    <tr>\n",
       "      <th>39996</th>\n",
       "      <td>96454f77-584a-442b-8f70-bc38e8630908</td>\n",
       "      <td>2024-02-01</td>\n",
       "      <td>25</td>\n",
       "      <td>FEMALE</td>\n",
       "      <td>JD</td>\n",
       "      <td>Unemployed</td>\n",
       "      <td>reading</td>\n",
       "      <td>Single</td>\n",
       "      <td>One Dependent</td>\n",
       "      <td>2017-04-12</td>\n",
       "      <td>...</td>\n",
       "      <td>109.2648</td>\n",
       "      <td>Low</td>\n",
       "      <td>Very low</td>\n",
       "      <td>Low</td>\n",
       "      <td>4.32</td>\n",
       "      <td>0.000000</td>\n",
       "      <td>0.000000</td>\n",
       "      <td>0.00</td>\n",
       "      <td>0</td>\n",
       "      <td>Conservative Spenders</td>\n",
       "    </tr>\n",
       "    <tr>\n",
       "      <th>39997</th>\n",
       "      <td>1429938e-ab3d-4d43-b0a4-e0d3331501a6</td>\n",
       "      <td>2024-05-01</td>\n",
       "      <td>33</td>\n",
       "      <td>FEMALE</td>\n",
       "      <td>JD</td>\n",
       "      <td>Unemployed</td>\n",
       "      <td>hiking</td>\n",
       "      <td>Single</td>\n",
       "      <td>One Dependent</td>\n",
       "      <td>2019-04-12</td>\n",
       "      <td>...</td>\n",
       "      <td>269.8800</td>\n",
       "      <td>Very high</td>\n",
       "      <td>Very low</td>\n",
       "      <td>Very high</td>\n",
       "      <td>26.00</td>\n",
       "      <td>4086.277963</td>\n",
       "      <td>1723.818986</td>\n",
       "      <td>0.50</td>\n",
       "      <td>0</td>\n",
       "      <td>Conservative Spenders</td>\n",
       "    </tr>\n",
       "    <tr>\n",
       "      <th>39998</th>\n",
       "      <td>558c05aa-e580-47a3-8257-c3b9dbbcca6f</td>\n",
       "      <td>2023-09-01</td>\n",
       "      <td>33</td>\n",
       "      <td>FEMALE</td>\n",
       "      <td>MD</td>\n",
       "      <td>Unemployed</td>\n",
       "      <td>board-games</td>\n",
       "      <td>Single</td>\n",
       "      <td>One Dependent</td>\n",
       "      <td>2005-11-12</td>\n",
       "      <td>...</td>\n",
       "      <td>250.9884</td>\n",
       "      <td>Very high</td>\n",
       "      <td>Very low</td>\n",
       "      <td>Very high</td>\n",
       "      <td>28.08</td>\n",
       "      <td>4372.317420</td>\n",
       "      <td>1663.485321</td>\n",
       "      <td>0.54</td>\n",
       "      <td>0</td>\n",
       "      <td>Conservative Spenders</td>\n",
       "    </tr>\n",
       "    <tr>\n",
       "      <th>39999</th>\n",
       "      <td>1e307f04-29b5-497d-b47f-e1aa0ee43fa0</td>\n",
       "      <td>2023-11-01</td>\n",
       "      <td>41</td>\n",
       "      <td>MALE</td>\n",
       "      <td>JD</td>\n",
       "      <td>Unemployed</td>\n",
       "      <td>base-jumping</td>\n",
       "      <td>Single</td>\n",
       "      <td>Two Dependents</td>\n",
       "      <td>2021-09-12</td>\n",
       "      <td>...</td>\n",
       "      <td>2548.1092</td>\n",
       "      <td>Very high</td>\n",
       "      <td>Very low</td>\n",
       "      <td>Very high</td>\n",
       "      <td>46.20</td>\n",
       "      <td>2666.034909</td>\n",
       "      <td>161.259890</td>\n",
       "      <td>0.70</td>\n",
       "      <td>3</td>\n",
       "      <td>Active Credit Users</td>\n",
       "    </tr>\n",
       "  </tbody>\n",
       "</table>\n",
       "<p>5 rows × 29 columns</p>\n",
       "</div>"
      ],
      "text/plain": [
       "                                CUSTOMER_ID        DATE  AGE     SEX  \\\n",
       "39995  60e2911b-6a1c-4d35-bd6f-700a96055b7d  2022-12-01   32  FEMALE   \n",
       "39996  96454f77-584a-442b-8f70-bc38e8630908  2024-02-01   25  FEMALE   \n",
       "39997  1429938e-ab3d-4d43-b0a4-e0d3331501a6  2024-05-01   33  FEMALE   \n",
       "39998  558c05aa-e580-47a3-8257-c3b9dbbcca6f  2023-09-01   33  FEMALE   \n",
       "39999  1e307f04-29b5-497d-b47f-e1aa0ee43fa0  2023-11-01   41    MALE   \n",
       "\n",
       "      EDUCATION_LEVEL EMPLOYMENT_STATUS       HOBBIES MARITAL_STATUS  \\\n",
       "39995              JD          Employed       reading         Single   \n",
       "39996              JD        Unemployed       reading         Single   \n",
       "39997              JD        Unemployed        hiking         Single   \n",
       "39998              MD        Unemployed   board-games         Single   \n",
       "39999              JD        Unemployed  base-jumping         Single   \n",
       "\n",
       "           DEPENDENTS REGISTRATION_DATE  ... INSTALLMENTS_PURCHASES  \\\n",
       "39995   One Dependent        2020-02-12  ...                 0.0000   \n",
       "39996   One Dependent        2017-04-12  ...               109.2648   \n",
       "39997   One Dependent        2019-04-12  ...               269.8800   \n",
       "39998   One Dependent        2005-11-12  ...               250.9884   \n",
       "39999  Two Dependents        2021-09-12  ...              2548.1092   \n",
       "\n",
       "       PURCHASES_FREQUENCY ONEOFF_PURCHASES_FREQUENCY  \\\n",
       "39995             Very low                   Very low   \n",
       "39996                  Low                   Very low   \n",
       "39997            Very high                   Very low   \n",
       "39998            Very high                   Very low   \n",
       "39999            Very high                   Very low   \n",
       "\n",
       "       PURCHASES_INSTALLMENTS_FREQUENCY  PURCHASES_TRX     PAYMENTS  \\\n",
       "39995                          Very low           0.00  1911.368074   \n",
       "39996                               Low           4.32     0.000000   \n",
       "39997                         Very high          26.00  4086.277963   \n",
       "39998                         Very high          28.08  4372.317420   \n",
       "39999                         Very high          46.20  2666.034909   \n",
       "\n",
       "       MINIMUM_PAYMENTS  PRC_FULL_PAYMENT  CLUSTER           CLUSTER_TYPE  \n",
       "39995        381.694812              0.00        2     Cash Advance Users  \n",
       "39996          0.000000              0.00        0  Conservative Spenders  \n",
       "39997       1723.818986              0.50        0  Conservative Spenders  \n",
       "39998       1663.485321              0.54        0  Conservative Spenders  \n",
       "39999        161.259890              0.70        3    Active Credit Users  \n",
       "\n",
       "[5 rows x 29 columns]"
      ]
     },
     "execution_count": 14,
     "metadata": {},
     "output_type": "execute_result"
    }
   ],
   "source": [
    "df.tail()"
   ]
  },
  {
   "cell_type": "code",
   "execution_count": 17,
   "id": "d41ed480",
   "metadata": {},
   "outputs": [],
   "source": [
    "to_drop = ['CUSTOMER_ID','DATE','AGE','SEX','EDUCATION_LEVEL','EMPLOYMENT_STATUS','HOBBIES','MARITAL_STATUS','BANK_ACCOUNT_TYPE',\n",
    " 'DEPENDENTS','REGISTRATION_DATE','PURCHASES_FREQUENCY','ONEOFF_PURCHASES_FREQUENCY','PURCHASES_INSTALLMENTS_FREQUENCY','BALANCE_FREQUENCY','CLUSTER_TYPE']"
   ]
  },
  {
   "cell_type": "code",
   "execution_count": 18,
   "id": "8ec73c6f",
   "metadata": {},
   "outputs": [],
   "source": [
    "df.drop(to_drop, axis= 1, inplace= True)"
   ]
  },
  {
   "cell_type": "code",
   "execution_count": 19,
   "id": "3f8e2352",
   "metadata": {
    "scrolled": true
   },
   "outputs": [
    {
     "name": "stdout",
     "output_type": "stream",
     "text": [
      "<class 'pandas.core.frame.DataFrame'>\n",
      "Index: 120000 entries, 0 to 39999\n",
      "Data columns (total 13 columns):\n",
      " #   Column                  Non-Null Count   Dtype  \n",
      "---  ------                  --------------   -----  \n",
      " 0   BALANCE                 120000 non-null  float64\n",
      " 1   CREDIT_LIMIT            120000 non-null  float64\n",
      " 2   CASH_ADVANCE            120000 non-null  float64\n",
      " 3   CASH_ADVANCE_FREQUENCY  120000 non-null  float64\n",
      " 4   CASH_ADVANCE_TRX        120000 non-null  float64\n",
      " 5   PURCHASES               120000 non-null  float64\n",
      " 6   ONEOFF_PURCHASES        120000 non-null  float64\n",
      " 7   INSTALLMENTS_PURCHASES  120000 non-null  float64\n",
      " 8   PURCHASES_TRX           120000 non-null  float64\n",
      " 9   PAYMENTS                120000 non-null  float64\n",
      " 10  MINIMUM_PAYMENTS        120000 non-null  float64\n",
      " 11  PRC_FULL_PAYMENT        120000 non-null  float64\n",
      " 12  CLUSTER                 120000 non-null  int8   \n",
      "dtypes: float64(12), int8(1)\n",
      "memory usage: 12.0 MB\n"
     ]
    }
   ],
   "source": [
    "df.info()"
   ]
  },
  {
   "cell_type": "code",
   "execution_count": 20,
   "id": "2433e840",
   "metadata": {},
   "outputs": [],
   "source": [
    "X = df.drop(['CLUSTER'],axis = 1 )\n",
    "y = df[['CLUSTER']]\n",
    "X_train, X_test, y_train, y_test = train_test_split(X, y, test_size = 0.3,random_state = 101)"
   ]
  },
  {
   "cell_type": "code",
   "execution_count": 21,
   "id": "14c79355",
   "metadata": {},
   "outputs": [
    {
     "data": {
      "text/plain": [
       "((84000, 12), (36000, 12))"
      ]
     },
     "execution_count": 21,
     "metadata": {},
     "output_type": "execute_result"
    }
   ],
   "source": [
    "X_train.shape, X_test.shape"
   ]
  },
  {
   "cell_type": "markdown",
   "id": "940236ef",
   "metadata": {},
   "source": [
    "# Decision Tree Classifier"
   ]
  },
  {
   "cell_type": "code",
   "execution_count": 22,
   "id": "2ebed219",
   "metadata": {},
   "outputs": [],
   "source": [
    "#Training our algorithm\n",
    "clf = DecisionTreeClassifier()\n",
    "clf.fit(X_train, y_train)\n",
    "clf_prediction = clf.predict(X_test)"
   ]
  },
  {
   "cell_type": "code",
   "execution_count": 23,
   "id": "7861a2c5",
   "metadata": {},
   "outputs": [
    {
     "name": "stdout",
     "output_type": "stream",
     "text": [
      "[[24975     0   124   108]\n",
      " [    0   288     0    12]\n",
      " [  121     0  5845    21]\n",
      " [  115     9    23  4359]]\n"
     ]
    }
   ],
   "source": [
    "#Checking our prediction accuracy score\n",
    "print(confusion_matrix(y_test, clf_prediction))"
   ]
  },
  {
   "cell_type": "code",
   "execution_count": 24,
   "id": "8e70ff25",
   "metadata": {
    "scrolled": true
   },
   "outputs": [
    {
     "name": "stdout",
     "output_type": "stream",
     "text": [
      "              precision    recall  f1-score   support\n",
      "\n",
      "           0       0.99      0.99      0.99     25207\n",
      "           1       0.97      0.96      0.96       300\n",
      "           2       0.98      0.98      0.98      5987\n",
      "           3       0.97      0.97      0.97      4506\n",
      "\n",
      "    accuracy                           0.99     36000\n",
      "   macro avg       0.98      0.97      0.97     36000\n",
      "weighted avg       0.99      0.99      0.99     36000\n",
      "\n"
     ]
    }
   ],
   "source": [
    "print(classification_report(y_test, clf_prediction))"
   ]
  },
  {
   "cell_type": "code",
   "execution_count": 25,
   "id": "cfbf63ff",
   "metadata": {
    "scrolled": true
   },
   "outputs": [
    {
     "data": {
      "text/plain": [
       "array([0.08211526, 0.03631013, 0.28738298, 0.03441241, 0.10608844,\n",
       "       0.34331389, 0.00521996, 0.01469608, 0.04108736, 0.0238691 ,\n",
       "       0.01311726, 0.01238713])"
      ]
     },
     "execution_count": 25,
     "metadata": {},
     "output_type": "execute_result"
    }
   ],
   "source": [
    "clf.feature_importances_"
   ]
  },
  {
   "cell_type": "code",
   "execution_count": 26,
   "id": "637cd870",
   "metadata": {},
   "outputs": [
    {
     "data": {
      "text/plain": [
       "PURCHASES                 0.343314\n",
       "CASH_ADVANCE              0.287383\n",
       "CASH_ADVANCE_TRX          0.106088\n",
       "BALANCE                   0.082115\n",
       "PURCHASES_TRX             0.041087\n",
       "CREDIT_LIMIT              0.036310\n",
       "CASH_ADVANCE_FREQUENCY    0.034412\n",
       "PAYMENTS                  0.023869\n",
       "INSTALLMENTS_PURCHASES    0.014696\n",
       "MINIMUM_PAYMENTS          0.013117\n",
       "PRC_FULL_PAYMENT          0.012387\n",
       "ONEOFF_PURCHASES          0.005220\n",
       "dtype: float64"
      ]
     },
     "execution_count": 26,
     "metadata": {},
     "output_type": "execute_result"
    }
   ],
   "source": [
    "pd.Series(clf.feature_importances_,index=X_train.columns).sort_values(ascending=False)"
   ]
  },
  {
   "cell_type": "markdown",
   "id": "d6b01c1b",
   "metadata": {},
   "source": [
    "# Model registration Code"
   ]
  },
  {
   "cell_type": "code",
   "execution_count": 27,
   "id": "7029d94e-cb82-4b53-8efc-7aed0615f5cb",
   "metadata": {},
   "outputs": [
    {
     "data": {
      "text/plain": [
       "(pandas.core.frame.DataFrame,\n",
       " pandas.core.frame.DataFrame,\n",
       " pandas.core.frame.DataFrame,\n",
       " pandas.core.frame.DataFrame,\n",
       " numpy.ndarray)"
      ]
     },
     "execution_count": 27,
     "metadata": {},
     "output_type": "execute_result"
    }
   ],
   "source": [
    "type(X_train),type(X_test),type(y_train), type(y_test), type(clf_prediction)"
   ]
  },
  {
   "cell_type": "code",
   "execution_count": null,
   "id": "c27869eb-5705-4f39-bf14-b2cef3181b0d",
   "metadata": {},
   "outputs": [],
   "source": []
  },
  {
   "cell_type": "code",
   "execution_count": 45,
   "id": "7e1fa822",
   "metadata": {},
   "outputs": [
    {
     "name": "stdout",
     "output_type": "stream",
     "text": [
      "Calculating build time metrics\n",
      "\n",
      "Progress: ██████████████████████████████████████████████████████████████████████ 100.0%\n"
     ]
    },
    {
     "data": {
      "application/vnd.jupyter.widget-view+json": {
       "model_id": "c5a2b0bac0434091b82e0b3ad93384b1",
       "version_major": 2,
       "version_minor": 0
      },
      "text/plain": [
       "VBox(children=(HTML(value='<style>.grad_1{background: #2468a4;} .grad_2{ color:white; background: #2468a4;}</s…"
      ]
     },
     "metadata": {},
     "output_type": "display_data"
    }
   ],
   "source": [
    "## registering the model in Fosfor.\n",
    "model_reg = register_model(clf,\n",
    "               score, \n",
    "               name=\"Customer_Segmentation_Dtree_Cluster_Classifier\", \n",
    "               description=\"Customer_Segmentation_Dtree_Cluster_Classifier\",\n",
    "               flavour=MLModelFlavours.sklearn,\n",
    "               model_type=\"classification\",\n",
    "               init_script=\"\\\\n pip install fosforml \\\\n pip install fosforio[snowflake] \\\\n pip install seaborn \\\\n pip install snowflake-connector-python[pandas]\",\n",
    "               y_true=y_test,\n",
    "               y_pred=clf_prediction,\n",
    "               prob=clf_prediction,\n",
    "               features=X_train.columns,\n",
    "               input_type=\"json\", \n",
    "               explain_ai=True,\n",
    "               x_train=X_train, \n",
    "               x_test=X_test, \n",
    "               y_train=y_train,\n",
    "               y_test=y_test,\n",
    "               feature_names=X_train.columns.tolist(),\n",
    "               original_features=X_train.columns.tolist(),\n",
    "               feature_ids=X_train.columns,\n",
    "               kyd=True, kyd_score = True)"
   ]
  },
  {
   "cell_type": "markdown",
   "id": "071dec83",
   "metadata": {},
   "source": [
    "# Another Version"
   ]
  },
  {
   "cell_type": "code",
   "execution_count": 46,
   "id": "d1482398",
   "metadata": {},
   "outputs": [],
   "source": [
    "clf_prediction = clf.predict(X_train)"
   ]
  },
  {
   "cell_type": "code",
   "execution_count": 47,
   "id": "c0d6ac81",
   "metadata": {},
   "outputs": [
    {
     "name": "stdout",
     "output_type": "stream",
     "text": [
      "Calculating build time metrics\n",
      "\n",
      "Progress: ██████████████████████████████████████████████████████████████████████ 100.0%\n"
     ]
    },
    {
     "data": {
      "application/vnd.jupyter.widget-view+json": {
       "model_id": "83b52cbaeebb43b585e2fc9525f5676c",
       "version_major": 2,
       "version_minor": 0
      },
      "text/plain": [
       "VBox(children=(HTML(value='<style>.grad_1{background: #2468a4;} .grad_2{ color:white; background: #2468a4;}</s…"
      ]
     },
     "metadata": {},
     "output_type": "display_data"
    }
   ],
   "source": [
    "## registering the model in Fosfor.\n",
    "model_reg = register_model(clf,\n",
    "               score, \n",
    "               name=\"Customer_Segmentation_Dtree_Cluster_Classifier\", \n",
    "               description=\"Customer_Segmentation_Dtree_Cluster_Classifier\",\n",
    "               flavour=MLModelFlavours.sklearn,\n",
    "               model_type=\"classification\",\n",
    "               init_script=\"\\\\n pip install fosforml \\\\n pip install fosforio[snowflake] \\\\n pip install seaborn \\\\n pip install snowflake-connector-python[pandas]\",\n",
    "               y_true=y_train,\n",
    "               y_pred=clf_prediction,\n",
    "               prob=clf_prediction,\n",
    "               features=X_train.columns,\n",
    "               input_type=\"json\", \n",
    "               explain_ai=True,\n",
    "               x_train=X_test, \n",
    "               x_test=X_train, \n",
    "               y_train=y_test,\n",
    "               y_test=y_train,\n",
    "               feature_names=X_train.columns.tolist(),\n",
    "               original_features=X_train.columns.tolist(),\n",
    "               feature_ids=X_train.columns,\n",
    "               kyd=True, kyd_score = True)"
   ]
  },
  {
   "cell_type": "markdown",
   "id": "498555df",
   "metadata": {},
   "source": [
    "# Write back the output to Snowflake"
   ]
  },
  {
   "cell_type": "code",
   "execution_count": 49,
   "id": "de91dbff",
   "metadata": {},
   "outputs": [],
   "source": [
    "df = pd.read_csv('/data/Output/kmeans_clustered_customer_Data.csv')"
   ]
  },
  {
   "cell_type": "code",
   "execution_count": 52,
   "id": "7ff014cf",
   "metadata": {
    "scrolled": true
   },
   "outputs": [
    {
     "data": {
      "text/html": [
       "<div>\n",
       "<style scoped>\n",
       "    .dataframe tbody tr th:only-of-type {\n",
       "        vertical-align: middle;\n",
       "    }\n",
       "\n",
       "    .dataframe tbody tr th {\n",
       "        vertical-align: top;\n",
       "    }\n",
       "\n",
       "    .dataframe thead th {\n",
       "        text-align: right;\n",
       "    }\n",
       "</style>\n",
       "<table border=\"1\" class=\"dataframe\">\n",
       "  <thead>\n",
       "    <tr style=\"text-align: right;\">\n",
       "      <th></th>\n",
       "      <th>CUSTOMER_ID</th>\n",
       "      <th>DATE</th>\n",
       "      <th>AGE</th>\n",
       "      <th>SEX</th>\n",
       "      <th>EDUCATION_LEVEL</th>\n",
       "      <th>EMPLOYMENT_STATUS</th>\n",
       "      <th>HOBBIES</th>\n",
       "      <th>MARITAL_STATUS</th>\n",
       "      <th>DEPENDENTS</th>\n",
       "      <th>REGISTRATION_DATE</th>\n",
       "      <th>...</th>\n",
       "      <th>INSTALLMENTS_PURCHASES</th>\n",
       "      <th>PURCHASES_FREQUENCY</th>\n",
       "      <th>ONEOFF_PURCHASES_FREQUENCY</th>\n",
       "      <th>PURCHASES_INSTALLMENTS_FREQUENCY</th>\n",
       "      <th>PURCHASES_TRX</th>\n",
       "      <th>PAYMENTS</th>\n",
       "      <th>MINIMUM_PAYMENTS</th>\n",
       "      <th>PRC_FULL_PAYMENT</th>\n",
       "      <th>Cluster</th>\n",
       "      <th>Cluster_Type</th>\n",
       "    </tr>\n",
       "  </thead>\n",
       "  <tbody>\n",
       "    <tr>\n",
       "      <th>0</th>\n",
       "      <td>PNC32940ed8-682f-4052-92b2-cfdc7f41e</td>\n",
       "      <td>2023-12-01</td>\n",
       "      <td>49</td>\n",
       "      <td>FEMALE</td>\n",
       "      <td>Undisclosed</td>\n",
       "      <td>Employed</td>\n",
       "      <td>Undisclosed</td>\n",
       "      <td>Married</td>\n",
       "      <td>Two Dependents</td>\n",
       "      <td>2004-11-12</td>\n",
       "      <td>...</td>\n",
       "      <td>0.0</td>\n",
       "      <td>Very low</td>\n",
       "      <td>Very low</td>\n",
       "      <td>Very low</td>\n",
       "      <td>0.000</td>\n",
       "      <td>3774.789989</td>\n",
       "      <td>1007.999804</td>\n",
       "      <td>0.214444</td>\n",
       "      <td>2</td>\n",
       "      <td>Cash Advance Users</td>\n",
       "    </tr>\n",
       "    <tr>\n",
       "      <th>1</th>\n",
       "      <td>PNCe415caf5-6212-4f50-a062-c12bf1eea</td>\n",
       "      <td>2024-01-01</td>\n",
       "      <td>34</td>\n",
       "      <td>MALE</td>\n",
       "      <td>Undisclosed</td>\n",
       "      <td>Unemployed</td>\n",
       "      <td>Undisclosed</td>\n",
       "      <td>Married</td>\n",
       "      <td>No Dependents</td>\n",
       "      <td>2023-07-12</td>\n",
       "      <td>...</td>\n",
       "      <td>0.0</td>\n",
       "      <td>Very high</td>\n",
       "      <td>Very high</td>\n",
       "      <td>Very low</td>\n",
       "      <td>11.400</td>\n",
       "      <td>665.611414</td>\n",
       "      <td>589.647700</td>\n",
       "      <td>0.000000</td>\n",
       "      <td>0</td>\n",
       "      <td>Conservative Spenders</td>\n",
       "    </tr>\n",
       "    <tr>\n",
       "      <th>2</th>\n",
       "      <td>PNC1ef5b665-11ae-40d7-b364-be8fa02b9</td>\n",
       "      <td>2023-02-01</td>\n",
       "      <td>34</td>\n",
       "      <td>MALE</td>\n",
       "      <td>Undisclosed</td>\n",
       "      <td>Unemployed</td>\n",
       "      <td>Undisclosed</td>\n",
       "      <td>Married</td>\n",
       "      <td>No Dependents</td>\n",
       "      <td>2021-11-12</td>\n",
       "      <td>...</td>\n",
       "      <td>0.0</td>\n",
       "      <td>Very high</td>\n",
       "      <td>Very high</td>\n",
       "      <td>Very low</td>\n",
       "      <td>10.920</td>\n",
       "      <td>653.170079</td>\n",
       "      <td>570.829156</td>\n",
       "      <td>0.000000</td>\n",
       "      <td>0</td>\n",
       "      <td>Conservative Spenders</td>\n",
       "    </tr>\n",
       "    <tr>\n",
       "      <th>3</th>\n",
       "      <td>PNC436a6069-0e61-47f2-96e8-d11c19e4b</td>\n",
       "      <td>2024-04-01</td>\n",
       "      <td>29</td>\n",
       "      <td>MALE</td>\n",
       "      <td>Undisclosed</td>\n",
       "      <td>Unemployed</td>\n",
       "      <td>Undisclosed</td>\n",
       "      <td>Single</td>\n",
       "      <td>One Dependent</td>\n",
       "      <td>2019-07-12</td>\n",
       "      <td>...</td>\n",
       "      <td>0.0</td>\n",
       "      <td>Very low</td>\n",
       "      <td>Very low</td>\n",
       "      <td>Very low</td>\n",
       "      <td>0.965</td>\n",
       "      <td>0.000000</td>\n",
       "      <td>0.000000</td>\n",
       "      <td>0.000000</td>\n",
       "      <td>0</td>\n",
       "      <td>Conservative Spenders</td>\n",
       "    </tr>\n",
       "    <tr>\n",
       "      <th>4</th>\n",
       "      <td>PNCaaa1c8bb-7289-4c25-a05e-efe26e316</td>\n",
       "      <td>2024-02-01</td>\n",
       "      <td>29</td>\n",
       "      <td>MALE</td>\n",
       "      <td>Undisclosed</td>\n",
       "      <td>Unemployed</td>\n",
       "      <td>Undisclosed</td>\n",
       "      <td>Single</td>\n",
       "      <td>One Dependent</td>\n",
       "      <td>2022-09-12</td>\n",
       "      <td>...</td>\n",
       "      <td>0.0</td>\n",
       "      <td>Very low</td>\n",
       "      <td>Very low</td>\n",
       "      <td>Very low</td>\n",
       "      <td>1.060</td>\n",
       "      <td>0.000000</td>\n",
       "      <td>0.000000</td>\n",
       "      <td>0.000000</td>\n",
       "      <td>0</td>\n",
       "      <td>Conservative Spenders</td>\n",
       "    </tr>\n",
       "  </tbody>\n",
       "</table>\n",
       "<p>5 rows × 29 columns</p>\n",
       "</div>"
      ],
      "text/plain": [
       "                            CUSTOMER_ID        DATE  AGE     SEX  \\\n",
       "0  PNC32940ed8-682f-4052-92b2-cfdc7f41e  2023-12-01   49  FEMALE   \n",
       "1  PNCe415caf5-6212-4f50-a062-c12bf1eea  2024-01-01   34    MALE   \n",
       "2  PNC1ef5b665-11ae-40d7-b364-be8fa02b9  2023-02-01   34    MALE   \n",
       "3  PNC436a6069-0e61-47f2-96e8-d11c19e4b  2024-04-01   29    MALE   \n",
       "4  PNCaaa1c8bb-7289-4c25-a05e-efe26e316  2024-02-01   29    MALE   \n",
       "\n",
       "  EDUCATION_LEVEL EMPLOYMENT_STATUS      HOBBIES MARITAL_STATUS  \\\n",
       "0     Undisclosed          Employed  Undisclosed        Married   \n",
       "1     Undisclosed        Unemployed  Undisclosed        Married   \n",
       "2     Undisclosed        Unemployed  Undisclosed        Married   \n",
       "3     Undisclosed        Unemployed  Undisclosed         Single   \n",
       "4     Undisclosed        Unemployed  Undisclosed         Single   \n",
       "\n",
       "       DEPENDENTS REGISTRATION_DATE  ... INSTALLMENTS_PURCHASES  \\\n",
       "0  Two Dependents        2004-11-12  ...                    0.0   \n",
       "1   No Dependents        2023-07-12  ...                    0.0   \n",
       "2   No Dependents        2021-11-12  ...                    0.0   \n",
       "3   One Dependent        2019-07-12  ...                    0.0   \n",
       "4   One Dependent        2022-09-12  ...                    0.0   \n",
       "\n",
       "   PURCHASES_FREQUENCY ONEOFF_PURCHASES_FREQUENCY  \\\n",
       "0             Very low                   Very low   \n",
       "1            Very high                  Very high   \n",
       "2            Very high                  Very high   \n",
       "3             Very low                   Very low   \n",
       "4             Very low                   Very low   \n",
       "\n",
       "   PURCHASES_INSTALLMENTS_FREQUENCY  PURCHASES_TRX     PAYMENTS  \\\n",
       "0                          Very low          0.000  3774.789989   \n",
       "1                          Very low         11.400   665.611414   \n",
       "2                          Very low         10.920   653.170079   \n",
       "3                          Very low          0.965     0.000000   \n",
       "4                          Very low          1.060     0.000000   \n",
       "\n",
       "   MINIMUM_PAYMENTS  PRC_FULL_PAYMENT  Cluster           Cluster_Type  \n",
       "0       1007.999804          0.214444        2     Cash Advance Users  \n",
       "1        589.647700          0.000000        0  Conservative Spenders  \n",
       "2        570.829156          0.000000        0  Conservative Spenders  \n",
       "3          0.000000          0.000000        0  Conservative Spenders  \n",
       "4          0.000000          0.000000        0  Conservative Spenders  \n",
       "\n",
       "[5 rows x 29 columns]"
      ]
     },
     "execution_count": 52,
     "metadata": {},
     "output_type": "execute_result"
    }
   ],
   "source": [
    "df.head()"
   ]
  },
  {
   "cell_type": "code",
   "execution_count": 55,
   "id": "f96e35d5",
   "metadata": {},
   "outputs": [],
   "source": [
    "df['PREDICTION'] = clf.predict(df[X_train.columns])"
   ]
  },
  {
   "cell_type": "code",
   "execution_count": 56,
   "id": "30c7446e",
   "metadata": {
    "scrolled": true
   },
   "outputs": [
    {
     "name": "stdout",
     "output_type": "stream",
     "text": [
      "              precision    recall  f1-score   support\n",
      "\n",
      "           0       1.00      1.00      1.00     85997\n",
      "           1       0.99      0.99      0.99      1062\n",
      "           2       0.99      0.99      0.99     20461\n",
      "           3       0.99      0.99      0.99     15362\n",
      "\n",
      "    accuracy                           1.00    122882\n",
      "   macro avg       0.99      0.99      0.99    122882\n",
      "weighted avg       1.00      1.00      1.00    122882\n",
      "\n"
     ]
    }
   ],
   "source": [
    "print(classification_report(df['Cluster'], df['PREDICTION']))"
   ]
  },
  {
   "cell_type": "code",
   "execution_count": 57,
   "id": "753142cc",
   "metadata": {},
   "outputs": [],
   "source": [
    "from snowflake.snowpark import Session\n",
    "import warnings; warnings.simplefilter('ignore')\n",
    "import configparser"
   ]
  },
  {
   "cell_type": "code",
   "execution_count": 58,
   "id": "c80def78",
   "metadata": {},
   "outputs": [],
   "source": [
    "#Import all snowflake connection details from template variables.\n",
    "db_user = 'MANISH'\n",
    "db_password = 'Password@2023'\n",
    "db_account = 'ug94937.us-east4.gcp'\n",
    "db_database =  'FDC_Insurance'\n",
    "db_role = 'MANISH'\n",
    "db_warehouse = 'FOSFOR_SOLUTIONS_WH'\n",
    "db_schema = 'INS_CUST_SEGMT_SCHEMA'"
   ]
  },
  {
   "cell_type": "code",
   "execution_count": 59,
   "id": "012b87c5",
   "metadata": {},
   "outputs": [],
   "source": [
    "from snowflake.snowpark.session import Session\n",
    "connection_params = {\n",
    "    'user': db_user,\n",
    "    'password': db_password,\n",
    "    'account': db_account,\n",
    "    'warehouse': db_warehouse,\n",
    "    'database': db_database,\n",
    "    'schema': db_schema,\n",
    "    'role': db_role\n",
    "}\n",
    "session1 = Session.builder.configs(connection_params).create()"
   ]
  },
  {
   "cell_type": "code",
   "execution_count": 60,
   "id": "f503c710",
   "metadata": {},
   "outputs": [
    {
     "data": {
      "text/plain": [
       "(122882, 30)"
      ]
     },
     "execution_count": 60,
     "metadata": {},
     "output_type": "execute_result"
    }
   ],
   "source": [
    "df.shape"
   ]
  },
  {
   "cell_type": "code",
   "execution_count": 61,
   "id": "391d6f76",
   "metadata": {},
   "outputs": [],
   "source": [
    "df_train = df.head(80000)\n",
    "df_test = df.tail(40000)"
   ]
  },
  {
   "cell_type": "code",
   "execution_count": 62,
   "id": "744c62dd",
   "metadata": {},
   "outputs": [],
   "source": [
    "df_train_sf=session1.createDataFrame(\n",
    "        df_train.values.tolist(),\n",
    "        schema=df_train.columns.tolist())\n",
    "df_train_sf.write.mode(\"overwrite\").save_as_table(\"FDC_Insurance.INS_CUST_SEGMT_SCHEMA.B\")"
   ]
  },
  {
   "cell_type": "code",
   "execution_count": 63,
   "id": "dce8d29d",
   "metadata": {},
   "outputs": [],
   "source": [
    "df_test_sf=session1.createDataFrame(\n",
    "        df_test.values.tolist(),\n",
    "        schema=df_test.columns.tolist())\n",
    "df_test_sf.write.mode(\"overwrite\").save_as_table(\"FDC_Insurance.INS_CUST_SEGMT_SCHEMA.CUSTOMER_DATA_INSIGHT_TEST_OUTPUT\")"
   ]
  },
  {
   "cell_type": "markdown",
   "id": "734974f4",
   "metadata": {},
   "source": [
    "# Alter and Update Column REPORT_DATE\n",
    "###### ALTER TABLE FDC_INSURANCE.INS_CUST_SEGMT_SCHEMA.CUSTOMER_DATA_INSIGHT_TRAIN_OUTPUT ADD COLUMN REPORT_DATE DATE\n",
    "\n",
    "###### UPDATE FDC_INSURANCE.INS_CUST_SEGMT_SCHEMA.CUSTOMER_DATA_INSIGHT_TRAIN_OUTPUT SET REPORT_DATE = TO_DATE(DATE)\n",
    "\n",
    "###### ALTER TABLE FDC_INSURANCE.INS_CUST_SEGMT_SCHEMA.CUSTOMER_DATA_INSIGHT_TEST_OUTPUT ADD COLUMN REPORT_DATE DATE\n",
    "\n",
    "###### UPDATE FDC_INSURANCE.INS_CUST_SEGMT_SCHEMA.CUSTOMER_DATA_INSIGHT_TEST_OUTPUT SET REPORT_DATE = TO_DATE(DATE)"
   ]
  },
  {
   "cell_type": "markdown",
   "id": "9274abfb",
   "metadata": {},
   "source": [
    "# Alter and Add CLUSTER_ID column for Decision designer setup\n",
    "\n",
    "ALTER TABLE FDC_INSURANCE.INS_CUST_SEGMT_SCHEMA.CUSTOMER_DATA_INSIGHT_TRAIN_OUTPUT ADD COLUMN CLUSTER_ID VARCHAR\n",
    "\n",
    "ALTER TABLE FDC_INSURANCE.INS_CUST_SEGMT_SCHEMA.CUSTOMER_DATA_INSIGHT_TEST_OUTPUT ADD COLUMN CLUSTER_ID VARCHAR\n",
    "\n",
    "UPDATE FDC_INSURANCE.INS_CUST_SEGMT_SCHEMA.CUSTOMER_DATA_INSIGHT_TRAIN_OUTPUT\n",
    "SET CLUSTER_ID = CASE\n",
    "    WHEN (CLUSTER = 0) THEN 'CLUSTER_0'\n",
    "    WHEN (CLUSTER = 1) THEN 'CLUSTER_1'\n",
    "    WHEN (CLUSTER = 2) THEN 'CLUSTER_2'\n",
    "    ELSE 'CLUSTER_3'\n",
    "END\n",
    "\n",
    "\n",
    "UPDATE FDC_INSURANCE.INS_CUST_SEGMT_SCHEMA.CUSTOMER_DATA_INSIGHT_TEST_OUTPUT\n",
    "SET CLUSTER_ID = CASE\n",
    "    WHEN (CLUSTER = 0) THEN 'CLUSTER_0'\n",
    "    WHEN (CLUSTER = 1) THEN 'CLUSTER_1'\n",
    "    WHEN (CLUSTER = 2) THEN 'CLUSTER_2'\n",
    "    ELSE 'CLUSTER_3'\n",
    "END\n"
   ]
  },
  {
   "cell_type": "markdown",
   "id": "10f27028",
   "metadata": {},
   "source": [
    "# Prepare Input data to Run Sample Multi Classification experiments for demo"
   ]
  },
  {
   "cell_type": "code",
   "execution_count": 65,
   "id": "646be10a",
   "metadata": {},
   "outputs": [],
   "source": [
    "experiment_feature = ['AGE', 'SEX', 'EDUCATION_LEVEL',\n",
    "       'EMPLOYMENT_STATUS', 'HOBBIES', 'MARITAL_STATUS', 'DEPENDENTS','BANK_ACCOUNT_TYPE', 'BALANCE',\n",
    "       'BALANCE_FREQUENCY', 'CREDIT_LIMIT', 'CASH_ADVANCE','CASH_ADVANCE_FREQUENCY', 'CASH_ADVANCE_TRX', 'PURCHASES',\n",
    "       'ONEOFF_PURCHASES', 'INSTALLMENTS_PURCHASES', 'PURCHASES_FREQUENCY','ONEOFF_PURCHASES_FREQUENCY', 'PURCHASES_INSTALLMENTS_FREQUENCY',\n",
    "       'PURCHASES_TRX', 'PAYMENTS', 'MINIMUM_PAYMENTS', 'PRC_FULL_PAYMENT','Cluster']"
   ]
  },
  {
   "cell_type": "code",
   "execution_count": 67,
   "id": "ace5c3f8",
   "metadata": {},
   "outputs": [],
   "source": [
    "df[experiment_feature].to_csv('/data/Output/kmeans_clustered_experiment_input.csv',index=False)"
   ]
  }
 ],
 "metadata": {
  "kernelspec": {
   "display_name": "Python 3 (ipykernel)",
   "language": "python",
   "name": "python3"
  },
  "language_info": {
   "codemirror_mode": {
    "name": "ipython",
    "version": 3
   },
   "file_extension": ".py",
   "mimetype": "text/x-python",
   "name": "python",
   "nbconvert_exporter": "python",
   "pygments_lexer": "ipython3",
   "version": "3.9.19"
  }
 },
 "nbformat": 4,
 "nbformat_minor": 5
}
