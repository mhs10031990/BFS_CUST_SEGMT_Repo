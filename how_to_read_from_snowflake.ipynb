{
 "cells": [
  {
   "cell_type": "markdown",
   "id": "632503b3",
   "metadata": {},
   "source": [
    "# Use Customer_Segmentation Notebook template"
   ]
  },
  {
   "cell_type": "code",
   "execution_count": 1,
   "id": "4871a0ed",
   "metadata": {},
   "outputs": [],
   "source": [
    "#Snowpark lib\n",
    "from snowflake.snowpark import Session\n",
    "\n",
    "# Data Science Libs\n",
    "import numpy as np\n",
    "import pandas as pd\n",
    "\n",
    "# create_temp_table warning suppresion\n",
    "import warnings; warnings.simplefilter('ignore')\n",
    "\n",
    "#ConfigParser to read ini file\n",
    "import configparser"
   ]
  },
  {
   "cell_type": "markdown",
   "id": "c59822ac",
   "metadata": {},
   "source": [
    "# How to use Notebook Variables declared in customized template"
   ]
  },
  {
   "cell_type": "code",
   "execution_count": 2,
   "id": "488e8de0",
   "metadata": {},
   "outputs": [
    {
     "name": "stdout",
     "output_type": "stream",
     "text": [
      "PrPr\n"
     ]
    }
   ],
   "source": [
    "import os\n",
    "print (os.getenv('notebook_environment'))"
   ]
  },
  {
   "cell_type": "code",
   "execution_count": 3,
   "id": "b518662d",
   "metadata": {
    "scrolled": true
   },
   "outputs": [
    {
     "name": "stdout",
     "output_type": "stream",
     "text": [
      "Customer_Segmentation\n"
     ]
    }
   ],
   "source": [
    "print (os.getenv('notebook_template'))"
   ]
  },
  {
   "cell_type": "markdown",
   "id": "70ec341a",
   "metadata": {},
   "source": [
    "# How to use Project Parameters declared under Notebooks section"
   ]
  },
  {
   "cell_type": "code",
   "execution_count": 4,
   "id": "5e3246d4",
   "metadata": {},
   "outputs": [
    {
     "name": "stdout",
     "output_type": "stream",
     "text": [
      "mhs10031990\n"
     ]
    }
   ],
   "source": [
    "print (os.getenv('github_id'))"
   ]
  },
  {
   "cell_type": "code",
   "execution_count": 5,
   "id": "d92394d7",
   "metadata": {},
   "outputs": [
    {
     "name": "stdout",
     "output_type": "stream",
     "text": [
      "https://github.com/mhs10031990/Customer_Segmentation.git\n"
     ]
    }
   ],
   "source": [
    "print (os.getenv('github_repo_url'))"
   ]
  },
  {
   "cell_type": "markdown",
   "id": "b1aaba03",
   "metadata": {},
   "source": [
    "# Different ways to achieve Snowflake Connection"
   ]
  },
  {
   "cell_type": "markdown",
   "id": "6c5f49da",
   "metadata": {},
   "source": [
    "## 1. Code to establish connection using Config Parser and .ini file"
   ]
  },
  {
   "cell_type": "code",
   "execution_count": 7,
   "id": "8a5fa270",
   "metadata": {},
   "outputs": [
    {
     "data": {
      "text/plain": [
       "['credentials.ini']"
      ]
     },
     "execution_count": 7,
     "metadata": {},
     "output_type": "execute_result"
    }
   ],
   "source": [
    "config = configparser.ConfigParser()\n",
    "config.read(\"credentials.ini\")"
   ]
  },
  {
   "cell_type": "code",
   "execution_count": 8,
   "id": "d933cdd5",
   "metadata": {},
   "outputs": [],
   "source": [
    "connection_parameters = {\n",
    "    \"user\": f'{config[\"Snowflake\"][\"user\"]}',\n",
    "    \"password\": os.getenv('Snowflake_password'),\n",
    "    \"account\": f'{config[\"Snowflake\"][\"account\"]}',\n",
    "    \"WAREHOUSE\": f'{config[\"Snowflake\"][\"WAREHOUSE\"]}',\n",
    "    \"DATABASE\": f'{config[\"Snowflake\"][\"DATABASE\"]}',\n",
    "    \"SCHEMA\": f'{config[\"Snowflake\"][\"SCHEMA\"]}'\n",
    "}"
   ]
  },
  {
   "cell_type": "code",
   "execution_count": 9,
   "id": "18e767bd",
   "metadata": {},
   "outputs": [
    {
     "name": "stdout",
     "output_type": "stream",
     "text": [
      "connection successful!\n"
     ]
    }
   ],
   "source": [
    "def snowflake_connector(conn):\n",
    "    try:\n",
    "        session = Session.builder.configs(conn).create()\n",
    "        print(\"connection successful!\")\n",
    "    except:\n",
    "        raise ValueError(\"error while connecting with db\")\n",
    "    return session\n",
    "\n",
    "session = snowflake_connector(connection_parameters)"
   ]
  },
  {
   "cell_type": "code",
   "execution_count": 10,
   "id": "c19cce94",
   "metadata": {},
   "outputs": [],
   "source": [
    "df = session.table(\"CUSTOMER_MASTER_DIM\")"
   ]
  },
  {
   "cell_type": "code",
   "execution_count": 11,
   "id": "3af9c5da",
   "metadata": {},
   "outputs": [],
   "source": [
    "df = df.to_pandas()"
   ]
  },
  {
   "cell_type": "code",
   "execution_count": 7,
   "id": "e8617158",
   "metadata": {
    "scrolled": true
   },
   "outputs": [
    {
     "data": {
      "text/html": [
       "<div>\n",
       "<style scoped>\n",
       "    .dataframe tbody tr th:only-of-type {\n",
       "        vertical-align: middle;\n",
       "    }\n",
       "\n",
       "    .dataframe tbody tr th {\n",
       "        vertical-align: top;\n",
       "    }\n",
       "\n",
       "    .dataframe thead th {\n",
       "        text-align: right;\n",
       "    }\n",
       "</style>\n",
       "<table border=\"1\" class=\"dataframe\">\n",
       "  <thead>\n",
       "    <tr style=\"text-align: right;\">\n",
       "      <th></th>\n",
       "      <th>CUSTOMER_ID</th>\n",
       "      <th>SEX</th>\n",
       "      <th>AGE</th>\n",
       "      <th>OCCUPATION</th>\n",
       "      <th>EDUCATION_LEVEL</th>\n",
       "      <th>REGISTRATION_DATE</th>\n",
       "      <th>HOBBIES</th>\n",
       "    </tr>\n",
       "  </thead>\n",
       "  <tbody>\n",
       "    <tr>\n",
       "      <th>122877</th>\n",
       "      <td>985b3294-043a-4fc6-af11-b5957f319f3c</td>\n",
       "      <td>MALE</td>\n",
       "      <td>19</td>\n",
       "      <td>protective-serv</td>\n",
       "      <td>Masters</td>\n",
       "      <td>2023-07-12</td>\n",
       "      <td>kayaking</td>\n",
       "    </tr>\n",
       "    <tr>\n",
       "      <th>122878</th>\n",
       "      <td>8428f6d4-777b-4029-ba98-99696a9f8831</td>\n",
       "      <td>MALE</td>\n",
       "      <td>23</td>\n",
       "      <td>tech-support</td>\n",
       "      <td>Associate</td>\n",
       "      <td>2021-03-12</td>\n",
       "      <td>camping</td>\n",
       "    </tr>\n",
       "    <tr>\n",
       "      <th>122879</th>\n",
       "      <td>a5062f35-0ef7-4139-90c4-30a8dd605bf1</td>\n",
       "      <td>MALE</td>\n",
       "      <td>67</td>\n",
       "      <td>prof-specialty</td>\n",
       "      <td>MD</td>\n",
       "      <td>2021-04-12</td>\n",
       "      <td>reading</td>\n",
       "    </tr>\n",
       "    <tr>\n",
       "      <th>122880</th>\n",
       "      <td>7e48a5f0-c763-46b7-8c0a-2f1b194e120e</td>\n",
       "      <td>FEMALE</td>\n",
       "      <td>66</td>\n",
       "      <td>other-service</td>\n",
       "      <td>JD</td>\n",
       "      <td>2018-05-12</td>\n",
       "      <td>polo</td>\n",
       "    </tr>\n",
       "    <tr>\n",
       "      <th>122881</th>\n",
       "      <td>151b4a3e-7c7f-40f5-9662-1b89ca4d2951</td>\n",
       "      <td>MALE</td>\n",
       "      <td>42</td>\n",
       "      <td>adm-clerical</td>\n",
       "      <td>Masters</td>\n",
       "      <td>2020-07-12</td>\n",
       "      <td>basketball</td>\n",
       "    </tr>\n",
       "  </tbody>\n",
       "</table>\n",
       "</div>"
      ],
      "text/plain": [
       "                                 CUSTOMER_ID     SEX  AGE       OCCUPATION  \\\n",
       "122877  985b3294-043a-4fc6-af11-b5957f319f3c    MALE   19  protective-serv   \n",
       "122878  8428f6d4-777b-4029-ba98-99696a9f8831    MALE   23     tech-support   \n",
       "122879  a5062f35-0ef7-4139-90c4-30a8dd605bf1    MALE   67   prof-specialty   \n",
       "122880  7e48a5f0-c763-46b7-8c0a-2f1b194e120e  FEMALE   66    other-service   \n",
       "122881  151b4a3e-7c7f-40f5-9662-1b89ca4d2951    MALE   42     adm-clerical   \n",
       "\n",
       "       EDUCATION_LEVEL REGISTRATION_DATE     HOBBIES  \n",
       "122877         Masters        2023-07-12    kayaking  \n",
       "122878       Associate        2021-03-12     camping  \n",
       "122879              MD        2021-04-12     reading  \n",
       "122880              JD        2018-05-12        polo  \n",
       "122881         Masters        2020-07-12  basketball  "
      ]
     },
     "execution_count": 7,
     "metadata": {},
     "output_type": "execute_result"
    }
   ],
   "source": [
    "df.tail()"
   ]
  },
  {
   "cell_type": "code",
   "execution_count": 13,
   "id": "4add7f39",
   "metadata": {},
   "outputs": [
    {
     "data": {
      "text/plain": [
       "(122882, 7)"
      ]
     },
     "execution_count": 13,
     "metadata": {},
     "output_type": "execute_result"
    }
   ],
   "source": [
    "df.shape"
   ]
  },
  {
   "cell_type": "markdown",
   "id": "b7b890d6",
   "metadata": {},
   "source": [
    "# 2 Using Inbuilt FosforIO package"
   ]
  },
  {
   "cell_type": "code",
   "execution_count": 2,
   "id": "6bdd46a1",
   "metadata": {},
   "outputs": [
    {
     "name": "stdout",
     "output_type": "stream",
     "text": [
      "Connection manager service url initialised to http://fdc-project-manager:80/project-manager\n",
      "If you need to update its value then update the variable CONNECTION_MANAGER_BASE_URL in os env.\n"
     ]
    }
   ],
   "source": [
    "from fosforio import snowflake"
   ]
  },
  {
   "cell_type": "code",
   "execution_count": 3,
   "id": "4e4447aa",
   "metadata": {},
   "outputs": [
    {
     "name": "stdout",
     "output_type": "stream",
     "text": [
      "Exception occurred in getting snowflake connection: 'connectionSources'\n"
     ]
    }
   ],
   "source": [
    "# To get snowflake connection object with a default snowflake connection created by the user, if available.\n",
    "#snowflake.get_connection()\n",
    "\n",
    "# To get snowflake connection object with a specific connection name\n",
    "snowflake.get_connection(connection_name=\"FDC_Insurance_Snowflake\")"
   ]
  },
  {
   "cell_type": "code",
   "execution_count": 4,
   "id": "1c44083b",
   "metadata": {},
   "outputs": [],
   "source": [
    "# To read a specific dataset published from a snowflake connection\n",
    "df = snowflake.get_dataframe(\"CUSTOMER_MASTER_DIM\")"
   ]
  },
  {
   "cell_type": "code",
   "execution_count": 6,
   "id": "3a276ff8",
   "metadata": {},
   "outputs": [
    {
     "data": {
      "text/html": [
       "<div>\n",
       "<style scoped>\n",
       "    .dataframe tbody tr th:only-of-type {\n",
       "        vertical-align: middle;\n",
       "    }\n",
       "\n",
       "    .dataframe tbody tr th {\n",
       "        vertical-align: top;\n",
       "    }\n",
       "\n",
       "    .dataframe thead th {\n",
       "        text-align: right;\n",
       "    }\n",
       "</style>\n",
       "<table border=\"1\" class=\"dataframe\">\n",
       "  <thead>\n",
       "    <tr style=\"text-align: right;\">\n",
       "      <th></th>\n",
       "      <th>CUSTOMER_ID</th>\n",
       "      <th>SEX</th>\n",
       "      <th>AGE</th>\n",
       "      <th>OCCUPATION</th>\n",
       "      <th>EDUCATION_LEVEL</th>\n",
       "      <th>REGISTRATION_DATE</th>\n",
       "      <th>HOBBIES</th>\n",
       "    </tr>\n",
       "  </thead>\n",
       "  <tbody>\n",
       "    <tr>\n",
       "      <th>122877</th>\n",
       "      <td>985b3294-043a-4fc6-af11-b5957f319f3c</td>\n",
       "      <td>MALE</td>\n",
       "      <td>19</td>\n",
       "      <td>protective-serv</td>\n",
       "      <td>Masters</td>\n",
       "      <td>2023-07-12</td>\n",
       "      <td>kayaking</td>\n",
       "    </tr>\n",
       "    <tr>\n",
       "      <th>122878</th>\n",
       "      <td>8428f6d4-777b-4029-ba98-99696a9f8831</td>\n",
       "      <td>MALE</td>\n",
       "      <td>23</td>\n",
       "      <td>tech-support</td>\n",
       "      <td>Associate</td>\n",
       "      <td>2021-03-12</td>\n",
       "      <td>camping</td>\n",
       "    </tr>\n",
       "    <tr>\n",
       "      <th>122879</th>\n",
       "      <td>a5062f35-0ef7-4139-90c4-30a8dd605bf1</td>\n",
       "      <td>MALE</td>\n",
       "      <td>67</td>\n",
       "      <td>prof-specialty</td>\n",
       "      <td>MD</td>\n",
       "      <td>2021-04-12</td>\n",
       "      <td>reading</td>\n",
       "    </tr>\n",
       "    <tr>\n",
       "      <th>122880</th>\n",
       "      <td>7e48a5f0-c763-46b7-8c0a-2f1b194e120e</td>\n",
       "      <td>FEMALE</td>\n",
       "      <td>66</td>\n",
       "      <td>other-service</td>\n",
       "      <td>JD</td>\n",
       "      <td>2018-05-12</td>\n",
       "      <td>polo</td>\n",
       "    </tr>\n",
       "    <tr>\n",
       "      <th>122881</th>\n",
       "      <td>151b4a3e-7c7f-40f5-9662-1b89ca4d2951</td>\n",
       "      <td>MALE</td>\n",
       "      <td>42</td>\n",
       "      <td>adm-clerical</td>\n",
       "      <td>Masters</td>\n",
       "      <td>2020-07-12</td>\n",
       "      <td>basketball</td>\n",
       "    </tr>\n",
       "  </tbody>\n",
       "</table>\n",
       "</div>"
      ],
      "text/plain": [
       "                                 CUSTOMER_ID     SEX  AGE       OCCUPATION  \\\n",
       "122877  985b3294-043a-4fc6-af11-b5957f319f3c    MALE   19  protective-serv   \n",
       "122878  8428f6d4-777b-4029-ba98-99696a9f8831    MALE   23     tech-support   \n",
       "122879  a5062f35-0ef7-4139-90c4-30a8dd605bf1    MALE   67   prof-specialty   \n",
       "122880  7e48a5f0-c763-46b7-8c0a-2f1b194e120e  FEMALE   66    other-service   \n",
       "122881  151b4a3e-7c7f-40f5-9662-1b89ca4d2951    MALE   42     adm-clerical   \n",
       "\n",
       "       EDUCATION_LEVEL REGISTRATION_DATE     HOBBIES  \n",
       "122877         Masters        2023-07-12    kayaking  \n",
       "122878       Associate        2021-03-12     camping  \n",
       "122879              MD        2021-04-12     reading  \n",
       "122880              JD        2018-05-12        polo  \n",
       "122881         Masters        2020-07-12  basketball  "
      ]
     },
     "execution_count": 6,
     "metadata": {},
     "output_type": "execute_result"
    }
   ],
   "source": [
    "df.tail()"
   ]
  },
  {
   "cell_type": "markdown",
   "id": "0c921177",
   "metadata": {},
   "source": [
    "# 3 Using Snowflake Snowpark"
   ]
  },
  {
   "cell_type": "code",
   "execution_count": 9,
   "id": "0d2beeeb",
   "metadata": {},
   "outputs": [],
   "source": [
    "#Import all snowflake connection details from Template or Project variables.\n",
    "\n",
    "db_user = os.getenv('Snowflake_user')\n",
    "db_password =  os.getenv('Snowflake_password')\n",
    "db_account = os.getenv('Snowflake_Account')\n",
    "db_database =  os.getenv('Snowflake_Database')\n",
    "db_role = os.getenv('Snowflake_user')\n",
    "db_warehouse = os.getenv('Snowflake_Warehouse')\n",
    "db_schema = os.getenv('Snowflake_Schema')"
   ]
  },
  {
   "cell_type": "code",
   "execution_count": 10,
   "id": "7514813d",
   "metadata": {},
   "outputs": [],
   "source": [
    "from snowflake.snowpark.session import Session\n",
    "connection_params = {\n",
    "    'user': db_user,\n",
    "    'password': db_password,\n",
    "    'account': db_account,\n",
    "    'warehouse': db_warehouse,\n",
    "    'database': db_database,\n",
    "    'schema': db_schema,\n",
    "    'role': db_role\n",
    "}\n",
    "session = Session.builder.configs(connection_params).create()"
   ]
  },
  {
   "cell_type": "code",
   "execution_count": 11,
   "id": "d3d71a2a",
   "metadata": {},
   "outputs": [],
   "source": [
    "session.sql('use warehouse FOSFOR_SOLUTIONS_WH;').collect()\n",
    "session.sql('use database FDC_Insurance;').collect()\n",
    "session.sql('use schema FDC_Insurance.INS_CUST_SEGMT_SCHEMA;').collect()\n",
    "\n",
    "df_customer = session.table('FDC_Insurance.INS_CUST_SEGMT_SCHEMA.CUSTOMER_MASTER_DIM').to_pandas()"
   ]
  },
  {
   "cell_type": "code",
   "execution_count": 12,
   "id": "732702db",
   "metadata": {},
   "outputs": [
    {
     "data": {
      "text/html": [
       "<div>\n",
       "<style scoped>\n",
       "    .dataframe tbody tr th:only-of-type {\n",
       "        vertical-align: middle;\n",
       "    }\n",
       "\n",
       "    .dataframe tbody tr th {\n",
       "        vertical-align: top;\n",
       "    }\n",
       "\n",
       "    .dataframe thead th {\n",
       "        text-align: right;\n",
       "    }\n",
       "</style>\n",
       "<table border=\"1\" class=\"dataframe\">\n",
       "  <thead>\n",
       "    <tr style=\"text-align: right;\">\n",
       "      <th></th>\n",
       "      <th>CUSTOMER_ID</th>\n",
       "      <th>SEX</th>\n",
       "      <th>AGE</th>\n",
       "      <th>OCCUPATION</th>\n",
       "      <th>EDUCATION_LEVEL</th>\n",
       "      <th>REGISTRATION_DATE</th>\n",
       "      <th>HOBBIES</th>\n",
       "    </tr>\n",
       "  </thead>\n",
       "  <tbody>\n",
       "    <tr>\n",
       "      <th>122877</th>\n",
       "      <td>985b3294-043a-4fc6-af11-b5957f319f3c</td>\n",
       "      <td>MALE</td>\n",
       "      <td>19</td>\n",
       "      <td>protective-serv</td>\n",
       "      <td>Masters</td>\n",
       "      <td>2023-07-12</td>\n",
       "      <td>kayaking</td>\n",
       "    </tr>\n",
       "    <tr>\n",
       "      <th>122878</th>\n",
       "      <td>8428f6d4-777b-4029-ba98-99696a9f8831</td>\n",
       "      <td>MALE</td>\n",
       "      <td>23</td>\n",
       "      <td>tech-support</td>\n",
       "      <td>Associate</td>\n",
       "      <td>2021-03-12</td>\n",
       "      <td>camping</td>\n",
       "    </tr>\n",
       "    <tr>\n",
       "      <th>122879</th>\n",
       "      <td>a5062f35-0ef7-4139-90c4-30a8dd605bf1</td>\n",
       "      <td>MALE</td>\n",
       "      <td>67</td>\n",
       "      <td>prof-specialty</td>\n",
       "      <td>MD</td>\n",
       "      <td>2021-04-12</td>\n",
       "      <td>reading</td>\n",
       "    </tr>\n",
       "    <tr>\n",
       "      <th>122880</th>\n",
       "      <td>7e48a5f0-c763-46b7-8c0a-2f1b194e120e</td>\n",
       "      <td>FEMALE</td>\n",
       "      <td>66</td>\n",
       "      <td>other-service</td>\n",
       "      <td>JD</td>\n",
       "      <td>2018-05-12</td>\n",
       "      <td>polo</td>\n",
       "    </tr>\n",
       "    <tr>\n",
       "      <th>122881</th>\n",
       "      <td>151b4a3e-7c7f-40f5-9662-1b89ca4d2951</td>\n",
       "      <td>MALE</td>\n",
       "      <td>42</td>\n",
       "      <td>adm-clerical</td>\n",
       "      <td>Masters</td>\n",
       "      <td>2020-07-12</td>\n",
       "      <td>basketball</td>\n",
       "    </tr>\n",
       "  </tbody>\n",
       "</table>\n",
       "</div>"
      ],
      "text/plain": [
       "                                 CUSTOMER_ID     SEX  AGE       OCCUPATION  \\\n",
       "122877  985b3294-043a-4fc6-af11-b5957f319f3c    MALE   19  protective-serv   \n",
       "122878  8428f6d4-777b-4029-ba98-99696a9f8831    MALE   23     tech-support   \n",
       "122879  a5062f35-0ef7-4139-90c4-30a8dd605bf1    MALE   67   prof-specialty   \n",
       "122880  7e48a5f0-c763-46b7-8c0a-2f1b194e120e  FEMALE   66    other-service   \n",
       "122881  151b4a3e-7c7f-40f5-9662-1b89ca4d2951    MALE   42     adm-clerical   \n",
       "\n",
       "       EDUCATION_LEVEL REGISTRATION_DATE     HOBBIES  \n",
       "122877         Masters        2023-07-12    kayaking  \n",
       "122878       Associate        2021-03-12     camping  \n",
       "122879              MD        2021-04-12     reading  \n",
       "122880              JD        2018-05-12        polo  \n",
       "122881         Masters        2020-07-12  basketball  "
      ]
     },
     "execution_count": 12,
     "metadata": {},
     "output_type": "execute_result"
    }
   ],
   "source": [
    "df_customer.tail()"
   ]
  }
 ],
 "metadata": {
  "kernelspec": {
   "display_name": "Python 3",
   "language": "python",
   "name": "python3"
  },
  "language_info": {
   "codemirror_mode": {
    "name": "ipython",
    "version": 3
   },
   "file_extension": ".py",
   "mimetype": "text/x-python",
   "name": "python",
   "nbconvert_exporter": "python",
   "pygments_lexer": "ipython3",
   "version": "3.8.18"
  }
 },
 "nbformat": 4,
 "nbformat_minor": 5
}
