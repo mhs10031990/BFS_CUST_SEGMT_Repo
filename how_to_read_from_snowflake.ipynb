{
 "cells": [
  {
   "cell_type": "markdown",
   "id": "632503b3",
   "metadata": {},
   "source": [
    "# Use Customer_Segmentation Notebook template"
   ]
  },
  {
   "cell_type": "code",
   "execution_count": 1,
   "id": "4871a0ed",
   "metadata": {},
   "outputs": [],
   "source": [
    "#Snowpark lib\n",
    "from snowflake.snowpark import Session\n",
    "\n",
    "# Data Science Libs\n",
    "import numpy as np\n",
    "import pandas as pd\n",
    "\n",
    "# create_temp_table warning suppresion\n",
    "import warnings; warnings.simplefilter('ignore')\n",
    "\n",
    "#ConfigParser to read ini file\n",
    "import configparser"
   ]
  },
  {
   "cell_type": "markdown",
   "id": "c59822ac",
   "metadata": {},
   "source": [
    "# How to use Notebook Variables declared in customized template"
   ]
  },
  {
   "cell_type": "code",
   "execution_count": 2,
   "id": "488e8de0",
   "metadata": {},
   "outputs": [
    {
     "name": "stdout",
     "output_type": "stream",
     "text": [
      "PrPr\n"
     ]
    }
   ],
   "source": [
    "import os\n",
    "print (os.getenv('notebook_environment'))"
   ]
  },
  {
   "cell_type": "code",
   "execution_count": 3,
   "id": "b518662d",
   "metadata": {
    "scrolled": true
   },
   "outputs": [
    {
     "name": "stdout",
     "output_type": "stream",
     "text": [
      "Customer_Segmentation\n"
     ]
    }
   ],
   "source": [
    "print (os.getenv('notebook_template'))"
   ]
  },
  {
   "cell_type": "markdown",
   "id": "70ec341a",
   "metadata": {},
   "source": [
    "# How to use Project Parameters declared under Notebooks section"
   ]
  },
  {
   "cell_type": "code",
   "execution_count": 4,
   "id": "5e3246d4",
   "metadata": {},
   "outputs": [
    {
     "name": "stdout",
     "output_type": "stream",
     "text": [
      "mhs10031990\n"
     ]
    }
   ],
   "source": [
    "print (os.getenv('github_id'))"
   ]
  },
  {
   "cell_type": "code",
   "execution_count": 5,
   "id": "d92394d7",
   "metadata": {},
   "outputs": [
    {
     "name": "stdout",
     "output_type": "stream",
     "text": [
      "https://github.com/mhs10031990/Customer_Segmentation.git\n"
     ]
    }
   ],
   "source": [
    "print (os.getenv('github_repo_url'))"
   ]
  },
  {
   "cell_type": "markdown",
   "id": "b1aaba03",
   "metadata": {},
   "source": [
    "# Different ways to achieve Snowflake Connection"
   ]
  },
  {
   "cell_type": "markdown",
   "id": "6c5f49da",
   "metadata": {},
   "source": [
    "## 1. Code to establish connection using Config Parser and .ini file"
   ]
  },
  {
   "cell_type": "code",
   "execution_count": 7,
   "id": "8a5fa270",
   "metadata": {},
   "outputs": [
    {
     "data": {
      "text/plain": [
       "['credentials.ini']"
      ]
     },
     "execution_count": 7,
     "metadata": {},
     "output_type": "execute_result"
    }
   ],
   "source": [
    "config = configparser.ConfigParser()\n",
    "config.read(\"credentials.ini\")"
   ]
  },
  {
   "cell_type": "code",
   "execution_count": 8,
   "id": "d933cdd5",
   "metadata": {},
   "outputs": [],
   "source": [
    "connection_parameters = {\n",
    "    \"user\": f'{config[\"Snowflake\"][\"user\"]}',\n",
    "    \"password\": os.getenv('Snowflake_password'),\n",
    "    \"account\": f'{config[\"Snowflake\"][\"account\"]}',\n",
    "    \"WAREHOUSE\": f'{config[\"Snowflake\"][\"WAREHOUSE\"]}',\n",
    "    \"DATABASE\": f'{config[\"Snowflake\"][\"DATABASE\"]}',\n",
    "    \"SCHEMA\": f'{config[\"Snowflake\"][\"SCHEMA\"]}'\n",
    "}"
   ]
  },
  {
   "cell_type": "code",
   "execution_count": 9,
   "id": "18e767bd",
   "metadata": {},
   "outputs": [
    {
     "name": "stdout",
     "output_type": "stream",
     "text": [
      "connection successful!\n"
     ]
    }
   ],
   "source": [
    "def snowflake_connector(conn):\n",
    "    try:\n",
    "        session = Session.builder.configs(conn).create()\n",
    "        print(\"connection successful!\")\n",
    "    except:\n",
    "        raise ValueError(\"error while connecting with db\")\n",
    "    return session\n",
    "\n",
    "session = snowflake_connector(connection_parameters)"
   ]
  },
  {
   "cell_type": "code",
   "execution_count": 10,
   "id": "c19cce94",
   "metadata": {},
   "outputs": [],
   "source": [
    "df = session.table(\"CUSTOMER_MASTER_DIM\")"
   ]
  },
  {
   "cell_type": "code",
   "execution_count": 11,
   "id": "3af9c5da",
   "metadata": {},
   "outputs": [],
   "source": [
    "df = df.to_pandas()"
   ]
  },
  {
   "cell_type": "code",
   "execution_count": 12,
   "id": "e8617158",
   "metadata": {
    "scrolled": true
   },
   "outputs": [
    {
     "data": {
      "text/html": [
       "<div>\n",
       "<style scoped>\n",
       "    .dataframe tbody tr th:only-of-type {\n",
       "        vertical-align: middle;\n",
       "    }\n",
       "\n",
       "    .dataframe tbody tr th {\n",
       "        vertical-align: top;\n",
       "    }\n",
       "\n",
       "    .dataframe thead th {\n",
       "        text-align: right;\n",
       "    }\n",
       "</style>\n",
       "<table border=\"1\" class=\"dataframe\">\n",
       "  <thead>\n",
       "    <tr style=\"text-align: right;\">\n",
       "      <th></th>\n",
       "      <th>CUSTOMER_ID</th>\n",
       "      <th>SEX</th>\n",
       "      <th>AGE</th>\n",
       "      <th>OCCUPATION</th>\n",
       "      <th>EDUCATION_LEVEL</th>\n",
       "      <th>REGISTRATION_DATE</th>\n",
       "      <th>HOBBIES</th>\n",
       "    </tr>\n",
       "  </thead>\n",
       "  <tbody>\n",
       "    <tr>\n",
       "      <th>0</th>\n",
       "      <td>6d64aa6e-a4e2-4e01-9237-abbb15acacb3</td>\n",
       "      <td>FEMALE</td>\n",
       "      <td>47</td>\n",
       "      <td>sales</td>\n",
       "      <td>High School</td>\n",
       "      <td>2015-05-12</td>\n",
       "      <td>base-jumping</td>\n",
       "    </tr>\n",
       "    <tr>\n",
       "      <th>1</th>\n",
       "      <td>32a4de1a-e3d8-422f-a0d3-602d2cdbfdc4</td>\n",
       "      <td>FEMALE</td>\n",
       "      <td>59</td>\n",
       "      <td>exec-managerial</td>\n",
       "      <td>PhD</td>\n",
       "      <td>2015-06-12</td>\n",
       "      <td>skydiving</td>\n",
       "    </tr>\n",
       "    <tr>\n",
       "      <th>2</th>\n",
       "      <td>9f7bcda6-3330-41ba-b0c4-7054ca40e1ff</td>\n",
       "      <td>FEMALE</td>\n",
       "      <td>19</td>\n",
       "      <td>prof-specialty</td>\n",
       "      <td>MD</td>\n",
       "      <td>2022-11-12</td>\n",
       "      <td>exercise</td>\n",
       "    </tr>\n",
       "    <tr>\n",
       "      <th>3</th>\n",
       "      <td>30d67f93-020b-4a31-a41b-96e2845fdbc0</td>\n",
       "      <td>FEMALE</td>\n",
       "      <td>63</td>\n",
       "      <td>exec-managerial</td>\n",
       "      <td>College</td>\n",
       "      <td>2021-11-12</td>\n",
       "      <td>camping</td>\n",
       "    </tr>\n",
       "    <tr>\n",
       "      <th>4</th>\n",
       "      <td>8dc20100-8d23-43e5-aea3-85a7de12db90</td>\n",
       "      <td>MALE</td>\n",
       "      <td>34</td>\n",
       "      <td>tech-support</td>\n",
       "      <td>JD</td>\n",
       "      <td>2006-05-12</td>\n",
       "      <td>movies</td>\n",
       "    </tr>\n",
       "  </tbody>\n",
       "</table>\n",
       "</div>"
      ],
      "text/plain": [
       "                            CUSTOMER_ID     SEX  AGE       OCCUPATION  \\\n",
       "0  6d64aa6e-a4e2-4e01-9237-abbb15acacb3  FEMALE   47            sales   \n",
       "1  32a4de1a-e3d8-422f-a0d3-602d2cdbfdc4  FEMALE   59  exec-managerial   \n",
       "2  9f7bcda6-3330-41ba-b0c4-7054ca40e1ff  FEMALE   19   prof-specialty   \n",
       "3  30d67f93-020b-4a31-a41b-96e2845fdbc0  FEMALE   63  exec-managerial   \n",
       "4  8dc20100-8d23-43e5-aea3-85a7de12db90    MALE   34     tech-support   \n",
       "\n",
       "  EDUCATION_LEVEL REGISTRATION_DATE       HOBBIES  \n",
       "0     High School        2015-05-12  base-jumping  \n",
       "1             PhD        2015-06-12     skydiving  \n",
       "2              MD        2022-11-12      exercise  \n",
       "3         College        2021-11-12       camping  \n",
       "4              JD        2006-05-12        movies  "
      ]
     },
     "execution_count": 12,
     "metadata": {},
     "output_type": "execute_result"
    }
   ],
   "source": [
    "df.head()"
   ]
  },
  {
   "cell_type": "code",
   "execution_count": 13,
   "id": "4add7f39",
   "metadata": {},
   "outputs": [
    {
     "data": {
      "text/plain": [
       "(122882, 7)"
      ]
     },
     "execution_count": 13,
     "metadata": {},
     "output_type": "execute_result"
    }
   ],
   "source": [
    "df.shape"
   ]
  },
  {
   "cell_type": "markdown",
   "id": "b7b890d6",
   "metadata": {},
   "source": [
    "# 2 Using Inbuilt FosforIO package"
   ]
  },
  {
   "cell_type": "code",
   "execution_count": 14,
   "id": "6bdd46a1",
   "metadata": {},
   "outputs": [
    {
     "name": "stdout",
     "output_type": "stream",
     "text": [
      "Connection manager service url initialised to http://fdc-project-manager:80/project-manager\n",
      "If you need to update its value then update the variable CONNECTION_MANAGER_BASE_URL in os env.\n"
     ]
    }
   ],
   "source": [
    "from fosforio import snowflake"
   ]
  },
  {
   "cell_type": "code",
   "execution_count": 15,
   "id": "4e4447aa",
   "metadata": {},
   "outputs": [
    {
     "name": "stdout",
     "output_type": "stream",
     "text": [
      "Exception occurred in getting snowflake connection: 'connectionSources'\n"
     ]
    }
   ],
   "source": [
    "# To get snowflake connection object with a default snowflake connection created by the user, if available.\n",
    "#snowflake.get_connection()\n",
    "\n",
    "# To get snowflake connection object with a specific connection name\n",
    "snowflake.get_connection(connection_name=\"FDC_Insurance_Snowflake\")"
   ]
  },
  {
   "cell_type": "code",
   "execution_count": 15,
   "id": "1c44083b",
   "metadata": {},
   "outputs": [],
   "source": [
    "# To read a specific dataset published from a snowflake connection\n",
    "df = snowflake.get_dataframe(\"CUSTOMER_MASTER_DIM\")"
   ]
  },
  {
   "cell_type": "code",
   "execution_count": 16,
   "id": "3a276ff8",
   "metadata": {},
   "outputs": [
    {
     "data": {
      "text/html": [
       "<div>\n",
       "<style scoped>\n",
       "    .dataframe tbody tr th:only-of-type {\n",
       "        vertical-align: middle;\n",
       "    }\n",
       "\n",
       "    .dataframe tbody tr th {\n",
       "        vertical-align: top;\n",
       "    }\n",
       "\n",
       "    .dataframe thead th {\n",
       "        text-align: right;\n",
       "    }\n",
       "</style>\n",
       "<table border=\"1\" class=\"dataframe\">\n",
       "  <thead>\n",
       "    <tr style=\"text-align: right;\">\n",
       "      <th></th>\n",
       "      <th>ATM_ID</th>\n",
       "      <th>MAX_CAPACITY</th>\n",
       "      <th>BANK_ID</th>\n",
       "      <th>STATE</th>\n",
       "      <th>CREATED_BY</th>\n",
       "      <th>CREATED_AT</th>\n",
       "    </tr>\n",
       "  </thead>\n",
       "  <tbody>\n",
       "    <tr>\n",
       "      <th>0</th>\n",
       "      <td>SPCN2020</td>\n",
       "      <td>2640000.0</td>\n",
       "      <td>1</td>\n",
       "      <td>Michigan</td>\n",
       "      <td>FDC_User</td>\n",
       "      <td>2024-05-28 02:30:46.282000-07:00</td>\n",
       "    </tr>\n",
       "    <tr>\n",
       "      <th>1</th>\n",
       "      <td>TBH00000303920</td>\n",
       "      <td>3520000.0</td>\n",
       "      <td>3</td>\n",
       "      <td>Minnesota</td>\n",
       "      <td>FDC_User</td>\n",
       "      <td>2024-05-28 02:30:46.282000-07:00</td>\n",
       "    </tr>\n",
       "    <tr>\n",
       "      <th>2</th>\n",
       "      <td>TBH00000303919</td>\n",
       "      <td>3520000.0</td>\n",
       "      <td>3</td>\n",
       "      <td>Hawaii</td>\n",
       "      <td>FDC_User</td>\n",
       "      <td>2024-05-28 02:30:46.282000-07:00</td>\n",
       "    </tr>\n",
       "    <tr>\n",
       "      <th>3</th>\n",
       "      <td>TBH00000303918</td>\n",
       "      <td>3520000.0</td>\n",
       "      <td>3</td>\n",
       "      <td>Utah</td>\n",
       "      <td>FDC_User</td>\n",
       "      <td>2024-05-28 02:30:46.282000-07:00</td>\n",
       "    </tr>\n",
       "    <tr>\n",
       "      <th>4</th>\n",
       "      <td>TBH00000303917</td>\n",
       "      <td>3520000.0</td>\n",
       "      <td>3</td>\n",
       "      <td>Oregon</td>\n",
       "      <td>FDC_User</td>\n",
       "      <td>2024-05-28 02:30:46.282000-07:00</td>\n",
       "    </tr>\n",
       "  </tbody>\n",
       "</table>\n",
       "</div>"
      ],
      "text/plain": [
       "           ATM_ID  MAX_CAPACITY  BANK_ID      STATE CREATED_BY  \\\n",
       "0        SPCN2020     2640000.0        1   Michigan   FDC_User   \n",
       "1  TBH00000303920     3520000.0        3  Minnesota   FDC_User   \n",
       "2  TBH00000303919     3520000.0        3     Hawaii   FDC_User   \n",
       "3  TBH00000303918     3520000.0        3       Utah   FDC_User   \n",
       "4  TBH00000303917     3520000.0        3     Oregon   FDC_User   \n",
       "\n",
       "                        CREATED_AT  \n",
       "0 2024-05-28 02:30:46.282000-07:00  \n",
       "1 2024-05-28 02:30:46.282000-07:00  \n",
       "2 2024-05-28 02:30:46.282000-07:00  \n",
       "3 2024-05-28 02:30:46.282000-07:00  \n",
       "4 2024-05-28 02:30:46.282000-07:00  "
      ]
     },
     "execution_count": 16,
     "metadata": {},
     "output_type": "execute_result"
    }
   ],
   "source": [
    "df.head()"
   ]
  },
  {
   "cell_type": "markdown",
   "id": "0c921177",
   "metadata": {},
   "source": [
    "# 3 Using Snowflake Snowpark"
   ]
  },
  {
   "cell_type": "code",
   "execution_count": 16,
   "id": "0d2beeeb",
   "metadata": {},
   "outputs": [],
   "source": [
    "#Import all snowflake connection details from Template or Project variables.\n",
    "\n",
    "db_user = os.getenv('Snowflake_user')\n",
    "db_password =  os.getenv('Snowflake_password')\n",
    "db_account = os.getenv('Snowflake_Account')\n",
    "db_database =  os.getenv('Snowflake_Database')\n",
    "db_role = os.getenv('Snowflake_user')\n",
    "db_warehouse = os.getenv('Snowflake_Warehouse')\n",
    "db_schema = os.getenv('Snowflake_Schema')"
   ]
  },
  {
   "cell_type": "code",
   "execution_count": 17,
   "id": "7514813d",
   "metadata": {},
   "outputs": [],
   "source": [
    "from snowflake.snowpark.session import Session\n",
    "connection_params = {\n",
    "    'user': db_user,\n",
    "    'password': db_password,\n",
    "    'account': db_account,\n",
    "    'warehouse': db_warehouse,\n",
    "    'database': db_database,\n",
    "    'schema': db_schema,\n",
    "    'role': db_role\n",
    "}\n",
    "session = Session.builder.configs(connection_params).create()"
   ]
  },
  {
   "cell_type": "code",
   "execution_count": 19,
   "id": "d3d71a2a",
   "metadata": {},
   "outputs": [],
   "source": [
    "session.sql('use warehouse FOSFOR_SOLUTIONS_WH;').collect()\n",
    "session.sql('use database FDC_Insurance;').collect()\n",
    "session.sql('use schema FDC_Insurance.INS_CUST_SEGMT_SCHEMA;').collect()\n",
    "\n",
    "df_customer = session.table('FDC_Insurance.INS_CUST_SEGMT_SCHEMA.CUSTOMER_MASTER_DIM').to_pandas()"
   ]
  },
  {
   "cell_type": "code",
   "execution_count": 20,
   "id": "732702db",
   "metadata": {},
   "outputs": [
    {
     "data": {
      "text/html": [
       "<div>\n",
       "<style scoped>\n",
       "    .dataframe tbody tr th:only-of-type {\n",
       "        vertical-align: middle;\n",
       "    }\n",
       "\n",
       "    .dataframe tbody tr th {\n",
       "        vertical-align: top;\n",
       "    }\n",
       "\n",
       "    .dataframe thead th {\n",
       "        text-align: right;\n",
       "    }\n",
       "</style>\n",
       "<table border=\"1\" class=\"dataframe\">\n",
       "  <thead>\n",
       "    <tr style=\"text-align: right;\">\n",
       "      <th></th>\n",
       "      <th>ATM_ID</th>\n",
       "      <th>MAX_CAPACITY</th>\n",
       "      <th>BANK_ID</th>\n",
       "      <th>STATE</th>\n",
       "      <th>CREATED_BY</th>\n",
       "      <th>CREATED_AT</th>\n",
       "    </tr>\n",
       "  </thead>\n",
       "  <tbody>\n",
       "    <tr>\n",
       "      <th>0</th>\n",
       "      <td>SPCN2020</td>\n",
       "      <td>2640000.0</td>\n",
       "      <td>1</td>\n",
       "      <td>Michigan</td>\n",
       "      <td>FDC_User</td>\n",
       "      <td>2024-05-28 02:30:46.282000-07:00</td>\n",
       "    </tr>\n",
       "    <tr>\n",
       "      <th>1</th>\n",
       "      <td>TBH00000303920</td>\n",
       "      <td>3520000.0</td>\n",
       "      <td>3</td>\n",
       "      <td>Minnesota</td>\n",
       "      <td>FDC_User</td>\n",
       "      <td>2024-05-28 02:30:46.282000-07:00</td>\n",
       "    </tr>\n",
       "    <tr>\n",
       "      <th>2</th>\n",
       "      <td>TBH00000303919</td>\n",
       "      <td>3520000.0</td>\n",
       "      <td>3</td>\n",
       "      <td>Hawaii</td>\n",
       "      <td>FDC_User</td>\n",
       "      <td>2024-05-28 02:30:46.282000-07:00</td>\n",
       "    </tr>\n",
       "    <tr>\n",
       "      <th>3</th>\n",
       "      <td>TBH00000303918</td>\n",
       "      <td>3520000.0</td>\n",
       "      <td>3</td>\n",
       "      <td>Utah</td>\n",
       "      <td>FDC_User</td>\n",
       "      <td>2024-05-28 02:30:46.282000-07:00</td>\n",
       "    </tr>\n",
       "    <tr>\n",
       "      <th>4</th>\n",
       "      <td>TBH00000303917</td>\n",
       "      <td>3520000.0</td>\n",
       "      <td>3</td>\n",
       "      <td>Oregon</td>\n",
       "      <td>FDC_User</td>\n",
       "      <td>2024-05-28 02:30:46.282000-07:00</td>\n",
       "    </tr>\n",
       "  </tbody>\n",
       "</table>\n",
       "</div>"
      ],
      "text/plain": [
       "           ATM_ID  MAX_CAPACITY  BANK_ID      STATE CREATED_BY  \\\n",
       "0        SPCN2020     2640000.0        1   Michigan   FDC_User   \n",
       "1  TBH00000303920     3520000.0        3  Minnesota   FDC_User   \n",
       "2  TBH00000303919     3520000.0        3     Hawaii   FDC_User   \n",
       "3  TBH00000303918     3520000.0        3       Utah   FDC_User   \n",
       "4  TBH00000303917     3520000.0        3     Oregon   FDC_User   \n",
       "\n",
       "                        CREATED_AT  \n",
       "0 2024-05-28 02:30:46.282000-07:00  \n",
       "1 2024-05-28 02:30:46.282000-07:00  \n",
       "2 2024-05-28 02:30:46.282000-07:00  \n",
       "3 2024-05-28 02:30:46.282000-07:00  \n",
       "4 2024-05-28 02:30:46.282000-07:00  "
      ]
     },
     "execution_count": 20,
     "metadata": {},
     "output_type": "execute_result"
    }
   ],
   "source": [
    "df_customer.head()"
   ]
  }
 ],
 "metadata": {
  "kernelspec": {
   "display_name": "Python 3",
   "language": "python",
   "name": "python3"
  },
  "language_info": {
   "codemirror_mode": {
    "name": "ipython",
    "version": 3
   },
   "file_extension": ".py",
   "mimetype": "text/x-python",
   "name": "python",
   "nbconvert_exporter": "python",
   "pygments_lexer": "ipython3",
   "version": "3.8.18"
  }
 },
 "nbformat": 4,
 "nbformat_minor": 5
}
