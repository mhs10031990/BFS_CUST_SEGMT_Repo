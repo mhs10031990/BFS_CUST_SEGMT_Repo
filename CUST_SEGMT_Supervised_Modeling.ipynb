{
 "cells": [
  {
   "cell_type": "markdown",
   "id": "70bcab9b",
   "metadata": {},
   "source": [
    "# Use Customer_Segmentation Notebook Template"
   ]
  },
  {
   "cell_type": "code",
   "execution_count": 1,
   "id": "af46dab4",
   "metadata": {
    "scrolled": true
   },
   "outputs": [
    {
     "name": "stderr",
     "output_type": "stream",
     "text": [
      "Matplotlib created a temporary cache directory at /tmp/matplotlib-cjiq6pu5 because the default path (/home/mosaic-ai/.cache/matplotlib) is not a writable directory; it is highly recommended to set the MPLCONFIGDIR environment variable to a writable directory, in particular to speed up the import of Matplotlib and to better support multiprocessing.\n"
     ]
    }
   ],
   "source": [
    "import numpy as np # linear algebra\n",
    "import pandas as pd\n",
    "\n",
    "import matplotlib.pyplot as plt\n",
    "import seaborn as sns\n",
    "\n",
    "from sklearn.model_selection import train_test_split\n",
    "from sklearn.tree import DecisionTreeClassifier\n",
    "from sklearn.metrics import classification_report, confusion_matrix\n",
    "\n",
    "import warnings\n",
    "warnings.filterwarnings('ignore')"
   ]
  },
  {
   "cell_type": "markdown",
   "id": "aed490d4",
   "metadata": {},
   "source": [
    "# Read the intermeditary output of K-Means clustering Model Building Notebooks for model training and registration"
   ]
  },
  {
   "cell_type": "code",
   "execution_count": 2,
   "id": "7b3d44c7",
   "metadata": {},
   "outputs": [],
   "source": [
    "df = pd.read_csv('/data/Output/kmeans_clustered_customer_Data.csv')"
   ]
  },
  {
   "cell_type": "code",
   "execution_count": 3,
   "id": "afedf581",
   "metadata": {},
   "outputs": [
    {
     "data": {
      "text/plain": [
       "(122882, 29)"
      ]
     },
     "execution_count": 3,
     "metadata": {},
     "output_type": "execute_result"
    }
   ],
   "source": [
    "df.shape"
   ]
  },
  {
   "cell_type": "code",
   "execution_count": 4,
   "id": "2ea3f727",
   "metadata": {},
   "outputs": [
    {
     "data": {
      "text/html": [
       "<div>\n",
       "<style scoped>\n",
       "    .dataframe tbody tr th:only-of-type {\n",
       "        vertical-align: middle;\n",
       "    }\n",
       "\n",
       "    .dataframe tbody tr th {\n",
       "        vertical-align: top;\n",
       "    }\n",
       "\n",
       "    .dataframe thead th {\n",
       "        text-align: right;\n",
       "    }\n",
       "</style>\n",
       "<table border=\"1\" class=\"dataframe\">\n",
       "  <thead>\n",
       "    <tr style=\"text-align: right;\">\n",
       "      <th></th>\n",
       "      <th>CUSTOMER_ID</th>\n",
       "      <th>DATE</th>\n",
       "      <th>AGE</th>\n",
       "      <th>SEX</th>\n",
       "      <th>EDUCATION_LEVEL</th>\n",
       "      <th>EMPLOYMENT_STATUS</th>\n",
       "      <th>HOBBIES</th>\n",
       "      <th>MARITAL_STATUS</th>\n",
       "      <th>DEPENDENTS</th>\n",
       "      <th>REGISTRATION_DATE</th>\n",
       "      <th>...</th>\n",
       "      <th>INSTALLMENTS_PURCHASES</th>\n",
       "      <th>PURCHASES_FREQUENCY</th>\n",
       "      <th>ONEOFF_PURCHASES_FREQUENCY</th>\n",
       "      <th>PURCHASES_INSTALLMENTS_FREQUENCY</th>\n",
       "      <th>PURCHASES_TRX</th>\n",
       "      <th>PAYMENTS</th>\n",
       "      <th>MINIMUM_PAYMENTS</th>\n",
       "      <th>PRC_FULL_PAYMENT</th>\n",
       "      <th>Cluster</th>\n",
       "      <th>Cluster_Type</th>\n",
       "    </tr>\n",
       "  </thead>\n",
       "  <tbody>\n",
       "    <tr>\n",
       "      <th>122877</th>\n",
       "      <td>3a7ce3d5-0f4b-4575-badc-3553f5440c92</td>\n",
       "      <td>2023-05-01</td>\n",
       "      <td>32</td>\n",
       "      <td>MALE</td>\n",
       "      <td>High School</td>\n",
       "      <td>Unemployed</td>\n",
       "      <td>reading</td>\n",
       "      <td>Single</td>\n",
       "      <td>One Dependent</td>\n",
       "      <td>2020-03-12</td>\n",
       "      <td>...</td>\n",
       "      <td>339.07230</td>\n",
       "      <td>Very high</td>\n",
       "      <td>Low</td>\n",
       "      <td>Very high</td>\n",
       "      <td>21.20</td>\n",
       "      <td>273.352691</td>\n",
       "      <td>242.288921</td>\n",
       "      <td>0.0</td>\n",
       "      <td>0</td>\n",
       "      <td>Conservative Spenders</td>\n",
       "    </tr>\n",
       "    <tr>\n",
       "      <th>122878</th>\n",
       "      <td>e2a8f308-57eb-4f55-bc13-399378f246d3</td>\n",
       "      <td>2022-12-01</td>\n",
       "      <td>27</td>\n",
       "      <td>MALE</td>\n",
       "      <td>PhD</td>\n",
       "      <td>Unemployed</td>\n",
       "      <td>camping</td>\n",
       "      <td>Single</td>\n",
       "      <td>One Dependent</td>\n",
       "      <td>2009-05-12</td>\n",
       "      <td>...</td>\n",
       "      <td>482.58685</td>\n",
       "      <td>Very high</td>\n",
       "      <td>Very low</td>\n",
       "      <td>Very high</td>\n",
       "      <td>25.92</td>\n",
       "      <td>474.722440</td>\n",
       "      <td>165.534652</td>\n",
       "      <td>0.0</td>\n",
       "      <td>0</td>\n",
       "      <td>Conservative Spenders</td>\n",
       "    </tr>\n",
       "    <tr>\n",
       "      <th>122879</th>\n",
       "      <td>599c0e61-9bbc-4e14-bbfd-b07f5a398669</td>\n",
       "      <td>2022-12-01</td>\n",
       "      <td>33</td>\n",
       "      <td>FEMALE</td>\n",
       "      <td>High School</td>\n",
       "      <td>Unemployed</td>\n",
       "      <td>video-games</td>\n",
       "      <td>Single</td>\n",
       "      <td>One Dependent</td>\n",
       "      <td>2007-02-12</td>\n",
       "      <td>...</td>\n",
       "      <td>0.00000</td>\n",
       "      <td>Very low</td>\n",
       "      <td>Very low</td>\n",
       "      <td>Very low</td>\n",
       "      <td>0.00</td>\n",
       "      <td>568.542708</td>\n",
       "      <td>549.300475</td>\n",
       "      <td>0.0</td>\n",
       "      <td>0</td>\n",
       "      <td>Conservative Spenders</td>\n",
       "    </tr>\n",
       "    <tr>\n",
       "      <th>122880</th>\n",
       "      <td>77298902-f899-4c3e-9104-06d1736fb089</td>\n",
       "      <td>2023-06-01</td>\n",
       "      <td>33</td>\n",
       "      <td>FEMALE</td>\n",
       "      <td>College</td>\n",
       "      <td>Unemployed</td>\n",
       "      <td>basketball</td>\n",
       "      <td>Single</td>\n",
       "      <td>One Dependent</td>\n",
       "      <td>2001-02-12</td>\n",
       "      <td>...</td>\n",
       "      <td>0.00000</td>\n",
       "      <td>Very low</td>\n",
       "      <td>Very low</td>\n",
       "      <td>Very low</td>\n",
       "      <td>0.00</td>\n",
       "      <td>517.588408</td>\n",
       "      <td>544.214360</td>\n",
       "      <td>0.0</td>\n",
       "      <td>0</td>\n",
       "      <td>Conservative Spenders</td>\n",
       "    </tr>\n",
       "    <tr>\n",
       "      <th>122881</th>\n",
       "      <td>cd75294e-c31f-41b3-b78c-1d3e7322ddcf</td>\n",
       "      <td>2022-12-01</td>\n",
       "      <td>44</td>\n",
       "      <td>FEMALE</td>\n",
       "      <td>High School</td>\n",
       "      <td>Employed</td>\n",
       "      <td>exercise</td>\n",
       "      <td>Married</td>\n",
       "      <td>Two Dependents</td>\n",
       "      <td>2001-02-12</td>\n",
       "      <td>...</td>\n",
       "      <td>0.00000</td>\n",
       "      <td>Very low</td>\n",
       "      <td>Very low</td>\n",
       "      <td>Very low</td>\n",
       "      <td>0.00</td>\n",
       "      <td>1029.696570</td>\n",
       "      <td>1552.899035</td>\n",
       "      <td>0.0</td>\n",
       "      <td>2</td>\n",
       "      <td>Cash Advance Users</td>\n",
       "    </tr>\n",
       "  </tbody>\n",
       "</table>\n",
       "<p>5 rows × 29 columns</p>\n",
       "</div>"
      ],
      "text/plain": [
       "                                 CUSTOMER_ID        DATE  AGE     SEX  \\\n",
       "122877  3a7ce3d5-0f4b-4575-badc-3553f5440c92  2023-05-01   32    MALE   \n",
       "122878  e2a8f308-57eb-4f55-bc13-399378f246d3  2022-12-01   27    MALE   \n",
       "122879  599c0e61-9bbc-4e14-bbfd-b07f5a398669  2022-12-01   33  FEMALE   \n",
       "122880  77298902-f899-4c3e-9104-06d1736fb089  2023-06-01   33  FEMALE   \n",
       "122881  cd75294e-c31f-41b3-b78c-1d3e7322ddcf  2022-12-01   44  FEMALE   \n",
       "\n",
       "       EDUCATION_LEVEL EMPLOYMENT_STATUS      HOBBIES MARITAL_STATUS  \\\n",
       "122877     High School        Unemployed      reading         Single   \n",
       "122878             PhD        Unemployed      camping         Single   \n",
       "122879     High School        Unemployed  video-games         Single   \n",
       "122880         College        Unemployed   basketball         Single   \n",
       "122881     High School          Employed     exercise        Married   \n",
       "\n",
       "            DEPENDENTS REGISTRATION_DATE  ... INSTALLMENTS_PURCHASES  \\\n",
       "122877   One Dependent        2020-03-12  ...              339.07230   \n",
       "122878   One Dependent        2009-05-12  ...              482.58685   \n",
       "122879   One Dependent        2007-02-12  ...                0.00000   \n",
       "122880   One Dependent        2001-02-12  ...                0.00000   \n",
       "122881  Two Dependents        2001-02-12  ...                0.00000   \n",
       "\n",
       "        PURCHASES_FREQUENCY ONEOFF_PURCHASES_FREQUENCY  \\\n",
       "122877            Very high                        Low   \n",
       "122878            Very high                   Very low   \n",
       "122879             Very low                   Very low   \n",
       "122880             Very low                   Very low   \n",
       "122881             Very low                   Very low   \n",
       "\n",
       "        PURCHASES_INSTALLMENTS_FREQUENCY  PURCHASES_TRX     PAYMENTS  \\\n",
       "122877                         Very high          21.20   273.352691   \n",
       "122878                         Very high          25.92   474.722440   \n",
       "122879                          Very low           0.00   568.542708   \n",
       "122880                          Very low           0.00   517.588408   \n",
       "122881                          Very low           0.00  1029.696570   \n",
       "\n",
       "        MINIMUM_PAYMENTS  PRC_FULL_PAYMENT  Cluster           Cluster_Type  \n",
       "122877        242.288921               0.0        0  Conservative Spenders  \n",
       "122878        165.534652               0.0        0  Conservative Spenders  \n",
       "122879        549.300475               0.0        0  Conservative Spenders  \n",
       "122880        544.214360               0.0        0  Conservative Spenders  \n",
       "122881       1552.899035               0.0        2     Cash Advance Users  \n",
       "\n",
       "[5 rows x 29 columns]"
      ]
     },
     "execution_count": 4,
     "metadata": {},
     "output_type": "execute_result"
    }
   ],
   "source": [
    "df.tail()"
   ]
  },
  {
   "cell_type": "code",
   "execution_count": 5,
   "id": "d41ed480",
   "metadata": {},
   "outputs": [],
   "source": [
    "to_drop = ['CUSTOMER_ID','DATE','AGE','SEX','EDUCATION_LEVEL','EMPLOYMENT_STATUS','HOBBIES','MARITAL_STATUS','BANK_ACCOUNT_TYPE',\n",
    " 'DEPENDENTS','REGISTRATION_DATE','PURCHASES_FREQUENCY','ONEOFF_PURCHASES_FREQUENCY','PURCHASES_INSTALLMENTS_FREQUENCY','BALANCE_FREQUENCY','Cluster_Type']"
   ]
  },
  {
   "cell_type": "code",
   "execution_count": 6,
   "id": "8ec73c6f",
   "metadata": {},
   "outputs": [],
   "source": [
    "df.drop(to_drop, axis= 1, inplace= True)"
   ]
  },
  {
   "cell_type": "code",
   "execution_count": 8,
   "id": "9fa70f0c",
   "metadata": {
    "scrolled": true
   },
   "outputs": [
    {
     "name": "stdout",
     "output_type": "stream",
     "text": [
      "<class 'pandas.core.frame.DataFrame'>\n",
      "RangeIndex: 122882 entries, 0 to 122881\n",
      "Data columns (total 13 columns):\n",
      " #   Column                  Non-Null Count   Dtype  \n",
      "---  ------                  --------------   -----  \n",
      " 0   BALANCE                 122882 non-null  float64\n",
      " 1   CREDIT_LIMIT            122882 non-null  float64\n",
      " 2   CASH_ADVANCE            122882 non-null  float64\n",
      " 3   CASH_ADVANCE_FREQUENCY  122882 non-null  float64\n",
      " 4   CASH_ADVANCE_TRX        122882 non-null  float64\n",
      " 5   PURCHASES               122882 non-null  float64\n",
      " 6   ONEOFF_PURCHASES        122882 non-null  float64\n",
      " 7   INSTALLMENTS_PURCHASES  122882 non-null  float64\n",
      " 8   PURCHASES_TRX           122882 non-null  float64\n",
      " 9   PAYMENTS                122882 non-null  float64\n",
      " 10  MINIMUM_PAYMENTS        122882 non-null  float64\n",
      " 11  PRC_FULL_PAYMENT        122882 non-null  float64\n",
      " 12  Cluster                 122882 non-null  int64  \n",
      "dtypes: float64(12), int64(1)\n",
      "memory usage: 12.2 MB\n"
     ]
    }
   ],
   "source": [
    "df.info()"
   ]
  },
  {
   "cell_type": "code",
   "execution_count": 9,
   "id": "b65def4c",
   "metadata": {},
   "outputs": [],
   "source": [
    "X = df.drop(['Cluster'],axis = 1 )\n",
    "y = df[['Cluster']]\n",
    "X_train, X_test, y_train, y_test = train_test_split(X, y, test_size = 0.3,random_state = 101)"
   ]
  },
  {
   "cell_type": "code",
   "execution_count": 10,
   "id": "b7dd3c92",
   "metadata": {},
   "outputs": [
    {
     "data": {
      "text/plain": [
       "((86017, 12), (36865, 12))"
      ]
     },
     "execution_count": 10,
     "metadata": {},
     "output_type": "execute_result"
    }
   ],
   "source": [
    "X_train.shape, X_test.shape"
   ]
  },
  {
   "cell_type": "markdown",
   "id": "c76d99b7",
   "metadata": {},
   "source": [
    "# Decision Tree Classifier"
   ]
  },
  {
   "cell_type": "code",
   "execution_count": 11,
   "id": "06462d6e",
   "metadata": {},
   "outputs": [],
   "source": [
    "#Training our algorithm\n",
    "clf = DecisionTreeClassifier()\n",
    "clf.fit(X_train, y_train)\n",
    "clf_prediction = clf.predict(X_test)"
   ]
  },
  {
   "cell_type": "code",
   "execution_count": 12,
   "id": "8f3291d9",
   "metadata": {},
   "outputs": [
    {
     "name": "stdout",
     "output_type": "stream",
     "text": [
      "[[25607     0   135   122]\n",
      " [    0   311     0    10]\n",
      " [  111     0  5939    13]\n",
      " [  153     7    17  4440]]\n"
     ]
    }
   ],
   "source": [
    "#Checking our prediction accuracy score\n",
    "print(confusion_matrix(y_test, clf_prediction))"
   ]
  },
  {
   "cell_type": "code",
   "execution_count": 13,
   "id": "1fd2f495",
   "metadata": {
    "scrolled": true
   },
   "outputs": [
    {
     "name": "stdout",
     "output_type": "stream",
     "text": [
      "              precision    recall  f1-score   support\n",
      "\n",
      "           0       0.99      0.99      0.99     25864\n",
      "           1       0.98      0.97      0.97       321\n",
      "           2       0.98      0.98      0.98      6063\n",
      "           3       0.97      0.96      0.97      4617\n",
      "\n",
      "    accuracy                           0.98     36865\n",
      "   macro avg       0.98      0.98      0.98     36865\n",
      "weighted avg       0.98      0.98      0.98     36865\n",
      "\n"
     ]
    }
   ],
   "source": [
    "print(classification_report(y_test, clf_prediction))"
   ]
  },
  {
   "cell_type": "code",
   "execution_count": 15,
   "id": "88938e0b",
   "metadata": {
    "scrolled": true
   },
   "outputs": [
    {
     "data": {
      "text/plain": [
       "array([0.08022857, 0.03860619, 0.28716542, 0.03354425, 0.10457005,\n",
       "       0.34349568, 0.00607342, 0.01425587, 0.04124153, 0.02526535,\n",
       "       0.01268816, 0.01286551])"
      ]
     },
     "execution_count": 15,
     "metadata": {},
     "output_type": "execute_result"
    }
   ],
   "source": [
    "clf.feature_importances_"
   ]
  },
  {
   "cell_type": "code",
   "execution_count": 17,
   "id": "19d729e1",
   "metadata": {},
   "outputs": [
    {
     "data": {
      "text/plain": [
       "PURCHASES                 0.343496\n",
       "CASH_ADVANCE              0.287165\n",
       "CASH_ADVANCE_TRX          0.104570\n",
       "BALANCE                   0.080229\n",
       "PURCHASES_TRX             0.041242\n",
       "CREDIT_LIMIT              0.038606\n",
       "CASH_ADVANCE_FREQUENCY    0.033544\n",
       "PAYMENTS                  0.025265\n",
       "INSTALLMENTS_PURCHASES    0.014256\n",
       "PRC_FULL_PAYMENT          0.012866\n",
       "MINIMUM_PAYMENTS          0.012688\n",
       "ONEOFF_PURCHASES          0.006073\n",
       "dtype: float64"
      ]
     },
     "execution_count": 17,
     "metadata": {},
     "output_type": "execute_result"
    }
   ],
   "source": [
    "pd.Series(clf.feature_importances_,index=X_train.columns).sort_values(ascending=False)"
   ]
  },
  {
   "cell_type": "markdown",
   "id": "1dccde28",
   "metadata": {},
   "source": [
    "## We achieve 98% accuracy at predicting potiential new customers behavior"
   ]
  },
  {
   "cell_type": "code",
   "execution_count": 14,
   "id": "2521e348",
   "metadata": {},
   "outputs": [],
   "source": [
    "from fosforml import *\n",
    "from fosforml.constants import MLModelFlavours\n",
    "import requests"
   ]
  },
  {
   "cell_type": "code",
   "execution_count": 27,
   "id": "a13db6ca",
   "metadata": {},
   "outputs": [],
   "source": [
    "payload_dict = X_train.iloc[0].to_dict()"
   ]
  },
  {
   "cell_type": "code",
   "execution_count": 28,
   "id": "d48ba7c3",
   "metadata": {},
   "outputs": [
    {
     "data": {
      "text/plain": [
       "{'BALANCE': 2378.1156415200003,\n",
       " 'CREDIT_LIMIT': 5640.0,\n",
       " 'CASH_ADVANCE': 306.9114516,\n",
       " 'CASH_ADVANCE_FREQUENCY': 0.08749965,\n",
       " 'CASH_ADVANCE_TRX': 1.035,\n",
       " 'PURCHASES': 2515.24,\n",
       " 'ONEOFF_PURCHASES': 2719.5,\n",
       " 'INSTALLMENTS_PURCHASES': 184.44,\n",
       " 'PURCHASES_TRX': 9.81,\n",
       " 'PAYMENTS': 674.70383367,\n",
       " 'MINIMUM_PAYMENTS': 736.03712752,\n",
       " 'PRC_FULL_PAYMENT': 0.0}"
      ]
     },
     "execution_count": 28,
     "metadata": {},
     "output_type": "execute_result"
    }
   ],
   "source": [
    "payload_dict"
   ]
  },
  {
   "cell_type": "code",
   "execution_count": 29,
   "id": "f09f25b3",
   "metadata": {},
   "outputs": [
    {
     "name": "stdout",
     "output_type": "stream",
     "text": [
      "{ \"payload\":  {'BALANCE': 2378.1156415200003, 'CREDIT_LIMIT': 5640.0, 'CASH_ADVANCE': 306.9114516, 'CASH_ADVANCE_FREQUENCY': 0.08749965, 'CASH_ADVANCE_TRX': 1.035, 'PURCHASES': 2515.24, 'ONEOFF_PURCHASES': 2719.5, 'INSTALLMENTS_PURCHASES': 184.44, 'PURCHASES_TRX': 9.81, 'PAYMENTS': 674.70383367, 'MINIMUM_PAYMENTS': 736.03712752, 'PRC_FULL_PAYMENT': 0.0} }\n"
     ]
    }
   ],
   "source": [
    "print ('{ \"payload\": ', payload_dict, \"}\")"
   ]
  },
  {
   "cell_type": "code",
   "execution_count": null,
   "id": "0025b13f",
   "metadata": {},
   "outputs": [],
   "source": [
    "@scoring_func\n",
    "def score(model, request):\n",
    "    payload_dict = request.json[\"payload\"]\n",
    "    df = pd.DataFrame(payload_dict,index=[0])\n",
    "    "
   ]
  },
  {
   "cell_type": "code",
   "execution_count": null,
   "id": "e2b0f118",
   "metadata": {},
   "outputs": [],
   "source": []
  }
 ],
 "metadata": {
  "kernelspec": {
   "display_name": "Python 3",
   "language": "python",
   "name": "python3"
  },
  "language_info": {
   "codemirror_mode": {
    "name": "ipython",
    "version": 3
   },
   "file_extension": ".py",
   "mimetype": "text/x-python",
   "name": "python",
   "nbconvert_exporter": "python",
   "pygments_lexer": "ipython3",
   "version": "3.8.18"
  }
 },
 "nbformat": 4,
 "nbformat_minor": 5
}
