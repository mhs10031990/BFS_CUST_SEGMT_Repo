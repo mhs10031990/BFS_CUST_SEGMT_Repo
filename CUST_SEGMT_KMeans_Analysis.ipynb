{
 "cells": [
  {
   "cell_type": "markdown",
   "id": "70bcab9b",
   "metadata": {},
   "source": [
    "# Use Customer_Segmentation Notebook Template"
   ]
  },
  {
   "cell_type": "code",
   "execution_count": 1,
   "id": "5a78a101",
   "metadata": {
    "scrolled": true
   },
   "outputs": [
    {
     "name": "stderr",
     "output_type": "stream",
     "text": [
      "Matplotlib created a temporary cache directory at /tmp/matplotlib-9r16q4l2 because the default path (/home/mosaic-ai/.cache/matplotlib) is not a writable directory; it is highly recommended to set the MPLCONFIGDIR environment variable to a writable directory, in particular to speed up the import of Matplotlib and to better support multiprocessing.\n"
     ]
    }
   ],
   "source": [
    "import numpy as np # linear algebra\n",
    "import pandas as pd\n",
    "\n",
    "import matplotlib.pyplot as plt\n",
    "import seaborn as sns\n",
    "\n",
    "import warnings\n",
    "warnings.filterwarnings('ignore')"
   ]
  },
  {
   "cell_type": "markdown",
   "id": "940dcad0",
   "metadata": {},
   "source": [
    "# Read data from Snowflake CUSTOMER_TRANSACTION_MASTER using fosforio sdk"
   ]
  },
  {
   "cell_type": "code",
   "execution_count": 2,
   "id": "17be0dd8",
   "metadata": {},
   "outputs": [
    {
     "name": "stdout",
     "output_type": "stream",
     "text": [
      "Connection manager service url initialised to http://fdc-project-manager:80/project-manager\n",
      "If you need to update its value then update the variable CONNECTION_MANAGER_BASE_URL in os env.\n"
     ]
    }
   ],
   "source": [
    "from fosforio import snowflake"
   ]
  },
  {
   "cell_type": "code",
   "execution_count": 3,
   "id": "d200ff3b",
   "metadata": {},
   "outputs": [
    {
     "name": "stdout",
     "output_type": "stream",
     "text": [
      "Exception occurred in getting snowflake connection: 'connectionSources'\n"
     ]
    }
   ],
   "source": [
    "# To get snowflake connection object with a default snowflake connection created by the user, if available.\n",
    "#snowflake.get_connection()\n",
    "\n",
    "# To get snowflake connection object with a specific connection name\n",
    "snowflake.get_connection(connection_name=\"FDC_Insurance_Snowflake\")"
   ]
  },
  {
   "cell_type": "code",
   "execution_count": 12,
   "id": "7b3d44c7",
   "metadata": {},
   "outputs": [],
   "source": [
    "# To read a specific dataset published from a snowflake connection\n",
    "df = snowflake.get_dataframe(\"CUSTOMER_TRANSACTION_MASTER\")"
   ]
  },
  {
   "cell_type": "code",
   "execution_count": 13,
   "id": "afedf581",
   "metadata": {},
   "outputs": [
    {
     "data": {
      "text/plain": [
       "(122882, 27)"
      ]
     },
     "execution_count": 13,
     "metadata": {},
     "output_type": "execute_result"
    }
   ],
   "source": [
    "df.shape"
   ]
  },
  {
   "cell_type": "code",
   "execution_count": 14,
   "id": "2ea3f727",
   "metadata": {},
   "outputs": [
    {
     "data": {
      "text/html": [
       "<div>\n",
       "<style scoped>\n",
       "    .dataframe tbody tr th:only-of-type {\n",
       "        vertical-align: middle;\n",
       "    }\n",
       "\n",
       "    .dataframe tbody tr th {\n",
       "        vertical-align: top;\n",
       "    }\n",
       "\n",
       "    .dataframe thead th {\n",
       "        text-align: right;\n",
       "    }\n",
       "</style>\n",
       "<table border=\"1\" class=\"dataframe\">\n",
       "  <thead>\n",
       "    <tr style=\"text-align: right;\">\n",
       "      <th></th>\n",
       "      <th>CUSTOMER_ID</th>\n",
       "      <th>DATE</th>\n",
       "      <th>AGE</th>\n",
       "      <th>SEX</th>\n",
       "      <th>EDUCATION_LEVEL</th>\n",
       "      <th>EMPLOYMENT_STATUS</th>\n",
       "      <th>HOBBIES</th>\n",
       "      <th>MARITAL_STATUS</th>\n",
       "      <th>DEPENDENTS</th>\n",
       "      <th>REGISTRATION_DATE</th>\n",
       "      <th>...</th>\n",
       "      <th>PURCHASES</th>\n",
       "      <th>ONEOFF_PURCHASES</th>\n",
       "      <th>INSTALLMENTS_PURCHASES</th>\n",
       "      <th>PURCHASES_FREQUENCY</th>\n",
       "      <th>ONEOFF_PURCHASES_FREQUENCY</th>\n",
       "      <th>PURCHASES_INSTALLMENTS_FREQUENCY</th>\n",
       "      <th>PURCHASES_TRX</th>\n",
       "      <th>PAYMENTS</th>\n",
       "      <th>MINIMUM_PAYMENTS</th>\n",
       "      <th>PRC_FULL_PAYMENT</th>\n",
       "    </tr>\n",
       "  </thead>\n",
       "  <tbody>\n",
       "    <tr>\n",
       "      <th>122877</th>\n",
       "      <td>3a7ce3d5-0f4b-4575-badc-3553f5440c92</td>\n",
       "      <td>2023-05-01</td>\n",
       "      <td>32</td>\n",
       "      <td>MALE</td>\n",
       "      <td>High School</td>\n",
       "      <td>Unemployed</td>\n",
       "      <td>reading</td>\n",
       "      <td>Single</td>\n",
       "      <td>One Dependent</td>\n",
       "      <td>2020-03-12</td>\n",
       "      <td>...</td>\n",
       "      <td>684.4068</td>\n",
       "      <td>305.7313</td>\n",
       "      <td>339.07230</td>\n",
       "      <td>Very high</td>\n",
       "      <td>Low</td>\n",
       "      <td>Very high</td>\n",
       "      <td>21.20</td>\n",
       "      <td>273.352691</td>\n",
       "      <td>242.288921</td>\n",
       "      <td>0.0</td>\n",
       "    </tr>\n",
       "    <tr>\n",
       "      <th>122878</th>\n",
       "      <td>e2a8f308-57eb-4f55-bc13-399378f246d3</td>\n",
       "      <td>2022-12-01</td>\n",
       "      <td>27</td>\n",
       "      <td>MALE</td>\n",
       "      <td>PhD</td>\n",
       "      <td>Unemployed</td>\n",
       "      <td>camping</td>\n",
       "      <td>Single</td>\n",
       "      <td>One Dependent</td>\n",
       "      <td>2009-05-12</td>\n",
       "      <td>...</td>\n",
       "      <td>535.0963</td>\n",
       "      <td>0.0000</td>\n",
       "      <td>482.58685</td>\n",
       "      <td>Very high</td>\n",
       "      <td>Very low</td>\n",
       "      <td>Very high</td>\n",
       "      <td>25.92</td>\n",
       "      <td>474.722440</td>\n",
       "      <td>165.534652</td>\n",
       "      <td>0.0</td>\n",
       "    </tr>\n",
       "    <tr>\n",
       "      <th>122879</th>\n",
       "      <td>599c0e61-9bbc-4e14-bbfd-b07f5a398669</td>\n",
       "      <td>2022-12-01</td>\n",
       "      <td>33</td>\n",
       "      <td>FEMALE</td>\n",
       "      <td>High School</td>\n",
       "      <td>Unemployed</td>\n",
       "      <td>video-games</td>\n",
       "      <td>Single</td>\n",
       "      <td>One Dependent</td>\n",
       "      <td>2007-02-12</td>\n",
       "      <td>...</td>\n",
       "      <td>0.0000</td>\n",
       "      <td>0.0000</td>\n",
       "      <td>0.00000</td>\n",
       "      <td>Very low</td>\n",
       "      <td>Very low</td>\n",
       "      <td>Very low</td>\n",
       "      <td>0.00</td>\n",
       "      <td>568.542708</td>\n",
       "      <td>549.300475</td>\n",
       "      <td>0.0</td>\n",
       "    </tr>\n",
       "    <tr>\n",
       "      <th>122880</th>\n",
       "      <td>77298902-f899-4c3e-9104-06d1736fb089</td>\n",
       "      <td>2023-06-01</td>\n",
       "      <td>33</td>\n",
       "      <td>FEMALE</td>\n",
       "      <td>College</td>\n",
       "      <td>Unemployed</td>\n",
       "      <td>basketball</td>\n",
       "      <td>Single</td>\n",
       "      <td>One Dependent</td>\n",
       "      <td>2001-02-12</td>\n",
       "      <td>...</td>\n",
       "      <td>0.0000</td>\n",
       "      <td>0.0000</td>\n",
       "      <td>0.00000</td>\n",
       "      <td>Very low</td>\n",
       "      <td>Very low</td>\n",
       "      <td>Very low</td>\n",
       "      <td>0.00</td>\n",
       "      <td>517.588408</td>\n",
       "      <td>544.214360</td>\n",
       "      <td>0.0</td>\n",
       "    </tr>\n",
       "    <tr>\n",
       "      <th>122881</th>\n",
       "      <td>cd75294e-c31f-41b3-b78c-1d3e7322ddcf</td>\n",
       "      <td>2022-12-01</td>\n",
       "      <td>44</td>\n",
       "      <td>FEMALE</td>\n",
       "      <td>High School</td>\n",
       "      <td>Employed</td>\n",
       "      <td>exercise</td>\n",
       "      <td>Married</td>\n",
       "      <td>Two Dependents</td>\n",
       "      <td>2001-02-12</td>\n",
       "      <td>...</td>\n",
       "      <td>0.0000</td>\n",
       "      <td>0.0000</td>\n",
       "      <td>0.00000</td>\n",
       "      <td>Very low</td>\n",
       "      <td>Very low</td>\n",
       "      <td>Very low</td>\n",
       "      <td>0.00</td>\n",
       "      <td>1029.696570</td>\n",
       "      <td>1552.899035</td>\n",
       "      <td>0.0</td>\n",
       "    </tr>\n",
       "  </tbody>\n",
       "</table>\n",
       "<p>5 rows × 27 columns</p>\n",
       "</div>"
      ],
      "text/plain": [
       "                                 CUSTOMER_ID        DATE  AGE     SEX  \\\n",
       "122877  3a7ce3d5-0f4b-4575-badc-3553f5440c92  2023-05-01   32    MALE   \n",
       "122878  e2a8f308-57eb-4f55-bc13-399378f246d3  2022-12-01   27    MALE   \n",
       "122879  599c0e61-9bbc-4e14-bbfd-b07f5a398669  2022-12-01   33  FEMALE   \n",
       "122880  77298902-f899-4c3e-9104-06d1736fb089  2023-06-01   33  FEMALE   \n",
       "122881  cd75294e-c31f-41b3-b78c-1d3e7322ddcf  2022-12-01   44  FEMALE   \n",
       "\n",
       "       EDUCATION_LEVEL EMPLOYMENT_STATUS      HOBBIES MARITAL_STATUS  \\\n",
       "122877     High School        Unemployed      reading         Single   \n",
       "122878             PhD        Unemployed      camping         Single   \n",
       "122879     High School        Unemployed  video-games         Single   \n",
       "122880         College        Unemployed   basketball         Single   \n",
       "122881     High School          Employed     exercise        Married   \n",
       "\n",
       "            DEPENDENTS REGISTRATION_DATE  ... PURCHASES  ONEOFF_PURCHASES  \\\n",
       "122877   One Dependent        2020-03-12  ...  684.4068          305.7313   \n",
       "122878   One Dependent        2009-05-12  ...  535.0963            0.0000   \n",
       "122879   One Dependent        2007-02-12  ...    0.0000            0.0000   \n",
       "122880   One Dependent        2001-02-12  ...    0.0000            0.0000   \n",
       "122881  Two Dependents        2001-02-12  ...    0.0000            0.0000   \n",
       "\n",
       "       INSTALLMENTS_PURCHASES  PURCHASES_FREQUENCY  \\\n",
       "122877              339.07230            Very high   \n",
       "122878              482.58685            Very high   \n",
       "122879                0.00000             Very low   \n",
       "122880                0.00000             Very low   \n",
       "122881                0.00000             Very low   \n",
       "\n",
       "        ONEOFF_PURCHASES_FREQUENCY  PURCHASES_INSTALLMENTS_FREQUENCY  \\\n",
       "122877                         Low                         Very high   \n",
       "122878                    Very low                         Very high   \n",
       "122879                    Very low                          Very low   \n",
       "122880                    Very low                          Very low   \n",
       "122881                    Very low                          Very low   \n",
       "\n",
       "        PURCHASES_TRX     PAYMENTS  MINIMUM_PAYMENTS  PRC_FULL_PAYMENT  \n",
       "122877          21.20   273.352691        242.288921               0.0  \n",
       "122878          25.92   474.722440        165.534652               0.0  \n",
       "122879           0.00   568.542708        549.300475               0.0  \n",
       "122880           0.00   517.588408        544.214360               0.0  \n",
       "122881           0.00  1029.696570       1552.899035               0.0  \n",
       "\n",
       "[5 rows x 27 columns]"
      ]
     },
     "execution_count": 14,
     "metadata": {},
     "output_type": "execute_result"
    }
   ],
   "source": [
    "df.tail()"
   ]
  },
  {
   "cell_type": "code",
   "execution_count": 15,
   "id": "a009eb45",
   "metadata": {},
   "outputs": [],
   "source": [
    "to_drop = ['CUSTOMER_ID','DATE','AGE','SEX','EDUCATION_LEVEL','EMPLOYMENT_STATUS','HOBBIES','MARITAL_STATUS','BANK_ACCOUNT_TYPE',\n",
    " 'DEPENDENTS','REGISTRATION_DATE','PURCHASES_FREQUENCY','ONEOFF_PURCHASES_FREQUENCY','PURCHASES_INSTALLMENTS_FREQUENCY','BALANCE_FREQUENCY']"
   ]
  },
  {
   "cell_type": "code",
   "execution_count": 16,
   "id": "6728411e",
   "metadata": {},
   "outputs": [],
   "source": [
    "df.drop(to_drop, axis= 1, inplace= True)"
   ]
  },
  {
   "cell_type": "code",
   "execution_count": 17,
   "id": "0f0bcc28",
   "metadata": {},
   "outputs": [
    {
     "name": "stdout",
     "output_type": "stream",
     "text": [
      "<class 'pandas.core.frame.DataFrame'>\n",
      "RangeIndex: 122882 entries, 0 to 122881\n",
      "Data columns (total 12 columns):\n",
      " #   Column                  Non-Null Count   Dtype  \n",
      "---  ------                  --------------   -----  \n",
      " 0   BALANCE                 122882 non-null  float64\n",
      " 1   CREDIT_LIMIT            122882 non-null  float64\n",
      " 2   CASH_ADVANCE            122882 non-null  float64\n",
      " 3   CASH_ADVANCE_FREQUENCY  122882 non-null  float64\n",
      " 4   CASH_ADVANCE_TRX        122882 non-null  float64\n",
      " 5   PURCHASES               122882 non-null  float64\n",
      " 6   ONEOFF_PURCHASES        122882 non-null  float64\n",
      " 7   INSTALLMENTS_PURCHASES  122882 non-null  float64\n",
      " 8   PURCHASES_TRX           122882 non-null  float64\n",
      " 9   PAYMENTS                122882 non-null  float64\n",
      " 10  MINIMUM_PAYMENTS        122882 non-null  float64\n",
      " 11  PRC_FULL_PAYMENT        122882 non-null  float64\n",
      "dtypes: float64(12)\n",
      "memory usage: 11.3 MB\n"
     ]
    }
   ],
   "source": [
    "df.info()"
   ]
  },
  {
   "cell_type": "markdown",
   "id": "a77a7bb9",
   "metadata": {},
   "source": [
    "# ELBOW Method"
   ]
  },
  {
   "cell_type": "code",
   "execution_count": 9,
   "id": "99120332",
   "metadata": {},
   "outputs": [],
   "source": [
    "from sklearn.cluster import KMeans\n",
    "from sklearn. metrics import silhouette_score\n",
    "from sklearn.preprocessing import StandardScaler"
   ]
  },
  {
   "cell_type": "code",
   "execution_count": 18,
   "id": "c89ee9bf",
   "metadata": {},
   "outputs": [],
   "source": [
    "scaler= StandardScaler()\n",
    "scaled_data= scaler.fit_transform(df)"
   ]
  },
  {
   "cell_type": "code",
   "execution_count": 20,
   "id": "cc96aed6",
   "metadata": {},
   "outputs": [
    {
     "data": {
      "text/plain": [
       "(122882, 12)"
      ]
     },
     "execution_count": 20,
     "metadata": {},
     "output_type": "execute_result"
    }
   ],
   "source": [
    "df.shape"
   ]
  },
  {
   "cell_type": "code",
   "execution_count": 21,
   "id": "ba9b678e",
   "metadata": {},
   "outputs": [],
   "source": [
    "df.drop_duplicates(inplace=True)"
   ]
  },
  {
   "cell_type": "code",
   "execution_count": 22,
   "id": "6a5a56aa",
   "metadata": {},
   "outputs": [
    {
     "data": {
      "text/plain": [
       "(122882, 12)"
      ]
     },
     "execution_count": 22,
     "metadata": {},
     "output_type": "execute_result"
    }
   ],
   "source": [
    "df.shape"
   ]
  },
  {
   "cell_type": "code",
   "execution_count": null,
   "id": "53b06315",
   "metadata": {},
   "outputs": [
    {
     "name": "stdout",
     "output_type": "stream",
     "text": [
      "Trying KMean clusttering for k= 2\n"
     ]
    }
   ],
   "source": [
    "k= range(2,9)\n",
    "inertia_values= []\n",
    "silhoutte_scores= []\n",
    "\n",
    "for i in k:\n",
    "    print(f'Trying KMean clusttering for k= {i}')\n",
    "    kmean= KMeans(n_clusters= i, random_state= 42)\n",
    "    kmean.fit(scaled_data)\n",
    "    inertia_values.append(kmean.inertia_)\n",
    "    \n",
    "    sil_score= silhouette_score(scaled_data, kmean.labels_)\n",
    "    silhoutte_scores.append(sil_score)"
   ]
  },
  {
   "cell_type": "code",
   "execution_count": null,
   "id": "ec40927c",
   "metadata": {},
   "outputs": [],
   "source": [
    "with plt.style.context('dark_background'):\n",
    "    plt.figure(figsize=(9,4))\n",
    "    plt.title(\"Elbow Method\")\n",
    "\n",
    "    plt.subplot(1,2,1)\n",
    "    plt.plot(k, inertia_values, marker= 'o', linestyle= '-')\n",
    "    plt.xlabel(\"No of clusters (K)\")\n",
    "    plt.ylabel(\"Inertia\")\n",
    "\n",
    "    plt.subplot(1,2,2)\n",
    "    plt.plot(k, silhoutte_scores, marker= 'o', linestyle= '-')\n",
    "    plt.xlabel(\"No of clusters (K)\")\n",
    "    plt.ylabel(\"Silhouette Score\")\n",
    "\n",
    "    plt.show()"
   ]
  },
  {
   "cell_type": "markdown",
   "id": "f4485a39",
   "metadata": {},
   "source": [
    "##### From the given visualization, we can take the value of k to be 3. But we will use KElbowVisualizer as well for determining value of k. "
   ]
  },
  {
   "cell_type": "markdown",
   "id": "7e1de3c4",
   "metadata": {},
   "source": [
    "### KElbowVisualizer"
   ]
  },
  {
   "cell_type": "code",
   "execution_count": null,
   "id": "4c9f81f3",
   "metadata": {},
   "outputs": [],
   "source": [
    "from yellowbrick.cluster import KElbowVisualizer"
   ]
  },
  {
   "cell_type": "code",
   "execution_count": null,
   "id": "85fbbb7d",
   "metadata": {},
   "outputs": [],
   "source": [
    "plt.figure(figsize=(8,5))\n",
    "model = KMeans()\n",
    "visualizer = KElbowVisualizer(model, k=(2,9))\n",
    "\n",
    "visualizer.fit(scaled_data)   \n",
    "visualizer.show()      "
   ]
  },
  {
   "cell_type": "markdown",
   "id": "8388f3c3",
   "metadata": {},
   "source": [
    "### Now we take value of K=?"
   ]
  },
  {
   "cell_type": "code",
   "execution_count": null,
   "id": "c420533d",
   "metadata": {},
   "outputs": [],
   "source": [
    "k= 4\n",
    "\n",
    "kmean= KMeans(n_clusters=k, random_state= 42)\n",
    "kmean.fit(scaled_data)"
   ]
  },
  {
   "cell_type": "code",
   "execution_count": null,
   "id": "01f680eb",
   "metadata": {},
   "outputs": [],
   "source": [
    "df['Group']= kmean.labels_"
   ]
  },
  {
   "cell_type": "code",
   "execution_count": null,
   "id": "99c8b943",
   "metadata": {},
   "outputs": [],
   "source": [
    "df.drop(['Group'], axis= 1).hist(figsize= (15,15))"
   ]
  },
  {
   "cell_type": "code",
   "execution_count": null,
   "id": "1c13c3d1",
   "metadata": {},
   "outputs": [],
   "source": [
    "i= df.drop(['Group'], axis= 1).corr()\n",
    "plt.figure(figsize= (14,14))\n",
    "sns.heatmap(i, annot= True)\n",
    "plt.show()"
   ]
  },
  {
   "cell_type": "markdown",
   "id": "a3e2c947",
   "metadata": {},
   "source": [
    "### PCA"
   ]
  },
  {
   "cell_type": "code",
   "execution_count": null,
   "id": "adbb9e19",
   "metadata": {},
   "outputs": [],
   "source": [
    "from sklearn.decomposition import PCA\n",
    "from sklearn. preprocessing import StandardScaler"
   ]
  },
  {
   "cell_type": "code",
   "execution_count": null,
   "id": "36c30d17",
   "metadata": {},
   "outputs": [],
   "source": []
  }
 ],
 "metadata": {
  "kernelspec": {
   "display_name": "Python 3",
   "language": "python",
   "name": "python3"
  },
  "language_info": {
   "codemirror_mode": {
    "name": "ipython",
    "version": 3
   },
   "file_extension": ".py",
   "mimetype": "text/x-python",
   "name": "python",
   "nbconvert_exporter": "python",
   "pygments_lexer": "ipython3",
   "version": "3.8.18"
  }
 },
 "nbformat": 4,
 "nbformat_minor": 5
}
