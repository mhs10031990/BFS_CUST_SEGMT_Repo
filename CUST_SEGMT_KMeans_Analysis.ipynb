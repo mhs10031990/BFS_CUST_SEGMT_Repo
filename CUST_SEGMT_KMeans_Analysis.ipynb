{
 "cells": [
  {
   "cell_type": "markdown",
   "id": "70bcab9b",
   "metadata": {},
   "source": [
    "# Use Customer_Segmentation Notebook Template"
   ]
  },
  {
   "cell_type": "code",
   "execution_count": 1,
   "id": "c045716a",
   "metadata": {
    "scrolled": true
   },
   "outputs": [
    {
     "name": "stderr",
     "output_type": "stream",
     "text": [
      "Matplotlib created a temporary cache directory at /tmp/matplotlib-9r16q4l2 because the default path (/home/mosaic-ai/.cache/matplotlib) is not a writable directory; it is highly recommended to set the MPLCONFIGDIR environment variable to a writable directory, in particular to speed up the import of Matplotlib and to better support multiprocessing.\n"
     ]
    }
   ],
   "source": [
    "import numpy as np # linear algebra\n",
    "import pandas as pd\n",
    "\n",
    "import matplotlib.pyplot as plt\n",
    "import seaborn as sns\n",
    "\n",
    "import warnings\n",
    "warnings.filterwarnings('ignore')"
   ]
  },
  {
   "cell_type": "markdown",
   "id": "3a0e407c",
   "metadata": {},
   "source": [
    "# Read data from Snowflake CUSTOMER_TRANSACTION_MASTER using fosforio sdk"
   ]
  },
  {
   "cell_type": "code",
   "execution_count": 2,
   "id": "17be0dd8",
   "metadata": {},
   "outputs": [
    {
     "name": "stdout",
     "output_type": "stream",
     "text": [
      "Connection manager service url initialised to http://fdc-project-manager:80/project-manager\n",
      "If you need to update its value then update the variable CONNECTION_MANAGER_BASE_URL in os env.\n"
     ]
    }
   ],
   "source": [
    "from fosforio import snowflake"
   ]
  },
  {
   "cell_type": "code",
   "execution_count": 3,
   "id": "d200ff3b",
   "metadata": {},
   "outputs": [
    {
     "name": "stdout",
     "output_type": "stream",
     "text": [
      "Exception occurred in getting snowflake connection: 'connectionSources'\n"
     ]
    }
   ],
   "source": [
    "# To get snowflake connection object with a default snowflake connection created by the user, if available.\n",
    "#snowflake.get_connection()\n",
    "\n",
    "# To get snowflake connection object with a specific connection name\n",
    "snowflake.get_connection(connection_name=\"FDC_Insurance_Snowflake\")"
   ]
  },
  {
   "cell_type": "code",
   "execution_count": 12,
   "id": "7b3d44c7",
   "metadata": {},
   "outputs": [],
   "source": [
    "# To read a specific dataset published from a snowflake connection\n",
    "df = snowflake.get_dataframe(\"CUSTOMER_TRANSACTION_MASTER\")"
   ]
  },
  {
   "cell_type": "code",
   "execution_count": 13,
   "id": "afedf581",
   "metadata": {},
   "outputs": [
    {
     "data": {
      "text/plain": [
       "(122882, 27)"
      ]
     },
     "execution_count": 13,
     "metadata": {},
     "output_type": "execute_result"
    }
   ],
   "source": [
    "df.shape"
   ]
  },
  {
   "cell_type": "code",
   "execution_count": 14,
   "id": "2ea3f727",
   "metadata": {},
   "outputs": [
    {
     "data": {
      "text/html": [
       "<div>\n",
       "<style scoped>\n",
       "    .dataframe tbody tr th:only-of-type {\n",
       "        vertical-align: middle;\n",
       "    }\n",
       "\n",
       "    .dataframe tbody tr th {\n",
       "        vertical-align: top;\n",
       "    }\n",
       "\n",
       "    .dataframe thead th {\n",
       "        text-align: right;\n",
       "    }\n",
       "</style>\n",
       "<table border=\"1\" class=\"dataframe\">\n",
       "  <thead>\n",
       "    <tr style=\"text-align: right;\">\n",
       "      <th></th>\n",
       "      <th>CUSTOMER_ID</th>\n",
       "      <th>DATE</th>\n",
       "      <th>AGE</th>\n",
       "      <th>SEX</th>\n",
       "      <th>EDUCATION_LEVEL</th>\n",
       "      <th>EMPLOYMENT_STATUS</th>\n",
       "      <th>HOBBIES</th>\n",
       "      <th>MARITAL_STATUS</th>\n",
       "      <th>DEPENDENTS</th>\n",
       "      <th>REGISTRATION_DATE</th>\n",
       "      <th>...</th>\n",
       "      <th>PURCHASES</th>\n",
       "      <th>ONEOFF_PURCHASES</th>\n",
       "      <th>INSTALLMENTS_PURCHASES</th>\n",
       "      <th>PURCHASES_FREQUENCY</th>\n",
       "      <th>ONEOFF_PURCHASES_FREQUENCY</th>\n",
       "      <th>PURCHASES_INSTALLMENTS_FREQUENCY</th>\n",
       "      <th>PURCHASES_TRX</th>\n",
       "      <th>PAYMENTS</th>\n",
       "      <th>MINIMUM_PAYMENTS</th>\n",
       "      <th>PRC_FULL_PAYMENT</th>\n",
       "    </tr>\n",
       "  </thead>\n",
       "  <tbody>\n",
       "    <tr>\n",
       "      <th>122877</th>\n",
       "      <td>3a7ce3d5-0f4b-4575-badc-3553f5440c92</td>\n",
       "      <td>2023-05-01</td>\n",
       "      <td>32</td>\n",
       "      <td>MALE</td>\n",
       "      <td>High School</td>\n",
       "      <td>Unemployed</td>\n",
       "      <td>reading</td>\n",
       "      <td>Single</td>\n",
       "      <td>One Dependent</td>\n",
       "      <td>2020-03-12</td>\n",
       "      <td>...</td>\n",
       "      <td>684.4068</td>\n",
       "      <td>305.7313</td>\n",
       "      <td>339.07230</td>\n",
       "      <td>Very high</td>\n",
       "      <td>Low</td>\n",
       "      <td>Very high</td>\n",
       "      <td>21.20</td>\n",
       "      <td>273.352691</td>\n",
       "      <td>242.288921</td>\n",
       "      <td>0.0</td>\n",
       "    </tr>\n",
       "    <tr>\n",
       "      <th>122878</th>\n",
       "      <td>e2a8f308-57eb-4f55-bc13-399378f246d3</td>\n",
       "      <td>2022-12-01</td>\n",
       "      <td>27</td>\n",
       "      <td>MALE</td>\n",
       "      <td>PhD</td>\n",
       "      <td>Unemployed</td>\n",
       "      <td>camping</td>\n",
       "      <td>Single</td>\n",
       "      <td>One Dependent</td>\n",
       "      <td>2009-05-12</td>\n",
       "      <td>...</td>\n",
       "      <td>535.0963</td>\n",
       "      <td>0.0000</td>\n",
       "      <td>482.58685</td>\n",
       "      <td>Very high</td>\n",
       "      <td>Very low</td>\n",
       "      <td>Very high</td>\n",
       "      <td>25.92</td>\n",
       "      <td>474.722440</td>\n",
       "      <td>165.534652</td>\n",
       "      <td>0.0</td>\n",
       "    </tr>\n",
       "    <tr>\n",
       "      <th>122879</th>\n",
       "      <td>599c0e61-9bbc-4e14-bbfd-b07f5a398669</td>\n",
       "      <td>2022-12-01</td>\n",
       "      <td>33</td>\n",
       "      <td>FEMALE</td>\n",
       "      <td>High School</td>\n",
       "      <td>Unemployed</td>\n",
       "      <td>video-games</td>\n",
       "      <td>Single</td>\n",
       "      <td>One Dependent</td>\n",
       "      <td>2007-02-12</td>\n",
       "      <td>...</td>\n",
       "      <td>0.0000</td>\n",
       "      <td>0.0000</td>\n",
       "      <td>0.00000</td>\n",
       "      <td>Very low</td>\n",
       "      <td>Very low</td>\n",
       "      <td>Very low</td>\n",
       "      <td>0.00</td>\n",
       "      <td>568.542708</td>\n",
       "      <td>549.300475</td>\n",
       "      <td>0.0</td>\n",
       "    </tr>\n",
       "    <tr>\n",
       "      <th>122880</th>\n",
       "      <td>77298902-f899-4c3e-9104-06d1736fb089</td>\n",
       "      <td>2023-06-01</td>\n",
       "      <td>33</td>\n",
       "      <td>FEMALE</td>\n",
       "      <td>College</td>\n",
       "      <td>Unemployed</td>\n",
       "      <td>basketball</td>\n",
       "      <td>Single</td>\n",
       "      <td>One Dependent</td>\n",
       "      <td>2001-02-12</td>\n",
       "      <td>...</td>\n",
       "      <td>0.0000</td>\n",
       "      <td>0.0000</td>\n",
       "      <td>0.00000</td>\n",
       "      <td>Very low</td>\n",
       "      <td>Very low</td>\n",
       "      <td>Very low</td>\n",
       "      <td>0.00</td>\n",
       "      <td>517.588408</td>\n",
       "      <td>544.214360</td>\n",
       "      <td>0.0</td>\n",
       "    </tr>\n",
       "    <tr>\n",
       "      <th>122881</th>\n",
       "      <td>cd75294e-c31f-41b3-b78c-1d3e7322ddcf</td>\n",
       "      <td>2022-12-01</td>\n",
       "      <td>44</td>\n",
       "      <td>FEMALE</td>\n",
       "      <td>High School</td>\n",
       "      <td>Employed</td>\n",
       "      <td>exercise</td>\n",
       "      <td>Married</td>\n",
       "      <td>Two Dependents</td>\n",
       "      <td>2001-02-12</td>\n",
       "      <td>...</td>\n",
       "      <td>0.0000</td>\n",
       "      <td>0.0000</td>\n",
       "      <td>0.00000</td>\n",
       "      <td>Very low</td>\n",
       "      <td>Very low</td>\n",
       "      <td>Very low</td>\n",
       "      <td>0.00</td>\n",
       "      <td>1029.696570</td>\n",
       "      <td>1552.899035</td>\n",
       "      <td>0.0</td>\n",
       "    </tr>\n",
       "  </tbody>\n",
       "</table>\n",
       "<p>5 rows × 27 columns</p>\n",
       "</div>"
      ],
      "text/plain": [
       "                                 CUSTOMER_ID        DATE  AGE     SEX  \\\n",
       "122877  3a7ce3d5-0f4b-4575-badc-3553f5440c92  2023-05-01   32    MALE   \n",
       "122878  e2a8f308-57eb-4f55-bc13-399378f246d3  2022-12-01   27    MALE   \n",
       "122879  599c0e61-9bbc-4e14-bbfd-b07f5a398669  2022-12-01   33  FEMALE   \n",
       "122880  77298902-f899-4c3e-9104-06d1736fb089  2023-06-01   33  FEMALE   \n",
       "122881  cd75294e-c31f-41b3-b78c-1d3e7322ddcf  2022-12-01   44  FEMALE   \n",
       "\n",
       "       EDUCATION_LEVEL EMPLOYMENT_STATUS      HOBBIES MARITAL_STATUS  \\\n",
       "122877     High School        Unemployed      reading         Single   \n",
       "122878             PhD        Unemployed      camping         Single   \n",
       "122879     High School        Unemployed  video-games         Single   \n",
       "122880         College        Unemployed   basketball         Single   \n",
       "122881     High School          Employed     exercise        Married   \n",
       "\n",
       "            DEPENDENTS REGISTRATION_DATE  ... PURCHASES  ONEOFF_PURCHASES  \\\n",
       "122877   One Dependent        2020-03-12  ...  684.4068          305.7313   \n",
       "122878   One Dependent        2009-05-12  ...  535.0963            0.0000   \n",
       "122879   One Dependent        2007-02-12  ...    0.0000            0.0000   \n",
       "122880   One Dependent        2001-02-12  ...    0.0000            0.0000   \n",
       "122881  Two Dependents        2001-02-12  ...    0.0000            0.0000   \n",
       "\n",
       "       INSTALLMENTS_PURCHASES  PURCHASES_FREQUENCY  \\\n",
       "122877              339.07230            Very high   \n",
       "122878              482.58685            Very high   \n",
       "122879                0.00000             Very low   \n",
       "122880                0.00000             Very low   \n",
       "122881                0.00000             Very low   \n",
       "\n",
       "        ONEOFF_PURCHASES_FREQUENCY  PURCHASES_INSTALLMENTS_FREQUENCY  \\\n",
       "122877                         Low                         Very high   \n",
       "122878                    Very low                         Very high   \n",
       "122879                    Very low                          Very low   \n",
       "122880                    Very low                          Very low   \n",
       "122881                    Very low                          Very low   \n",
       "\n",
       "        PURCHASES_TRX     PAYMENTS  MINIMUM_PAYMENTS  PRC_FULL_PAYMENT  \n",
       "122877          21.20   273.352691        242.288921               0.0  \n",
       "122878          25.92   474.722440        165.534652               0.0  \n",
       "122879           0.00   568.542708        549.300475               0.0  \n",
       "122880           0.00   517.588408        544.214360               0.0  \n",
       "122881           0.00  1029.696570       1552.899035               0.0  \n",
       "\n",
       "[5 rows x 27 columns]"
      ]
     },
     "execution_count": 14,
     "metadata": {},
     "output_type": "execute_result"
    }
   ],
   "source": [
    "df.tail()"
   ]
  },
  {
   "cell_type": "code",
   "execution_count": 15,
   "id": "f800f5d7",
   "metadata": {},
   "outputs": [],
   "source": [
    "to_drop = ['CUSTOMER_ID','DATE','AGE','SEX','EDUCATION_LEVEL','EMPLOYMENT_STATUS','HOBBIES','MARITAL_STATUS','BANK_ACCOUNT_TYPE',\n",
    " 'DEPENDENTS','REGISTRATION_DATE','PURCHASES_FREQUENCY','ONEOFF_PURCHASES_FREQUENCY','PURCHASES_INSTALLMENTS_FREQUENCY','BALANCE_FREQUENCY']"
   ]
  },
  {
   "cell_type": "code",
   "execution_count": 16,
   "id": "b4592e83",
   "metadata": {},
   "outputs": [],
   "source": [
    "df.drop(to_drop, axis= 1, inplace= True)"
   ]
  },
  {
   "cell_type": "code",
   "execution_count": 17,
   "id": "744d910a",
   "metadata": {},
   "outputs": [
    {
     "name": "stdout",
     "output_type": "stream",
     "text": [
      "<class 'pandas.core.frame.DataFrame'>\n",
      "RangeIndex: 122882 entries, 0 to 122881\n",
      "Data columns (total 12 columns):\n",
      " #   Column                  Non-Null Count   Dtype  \n",
      "---  ------                  --------------   -----  \n",
      " 0   BALANCE                 122882 non-null  float64\n",
      " 1   CREDIT_LIMIT            122882 non-null  float64\n",
      " 2   CASH_ADVANCE            122882 non-null  float64\n",
      " 3   CASH_ADVANCE_FREQUENCY  122882 non-null  float64\n",
      " 4   CASH_ADVANCE_TRX        122882 non-null  float64\n",
      " 5   PURCHASES               122882 non-null  float64\n",
      " 6   ONEOFF_PURCHASES        122882 non-null  float64\n",
      " 7   INSTALLMENTS_PURCHASES  122882 non-null  float64\n",
      " 8   PURCHASES_TRX           122882 non-null  float64\n",
      " 9   PAYMENTS                122882 non-null  float64\n",
      " 10  MINIMUM_PAYMENTS        122882 non-null  float64\n",
      " 11  PRC_FULL_PAYMENT        122882 non-null  float64\n",
      "dtypes: float64(12)\n",
      "memory usage: 11.3 MB\n"
     ]
    }
   ],
   "source": [
    "df.info()"
   ]
  },
  {
   "cell_type": "markdown",
   "id": "9c011092",
   "metadata": {},
   "source": [
    "# ELBOW Method"
   ]
  },
  {
   "cell_type": "code",
   "execution_count": 9,
   "id": "4aec1079",
   "metadata": {},
   "outputs": [],
   "source": [
    "from sklearn.cluster import KMeans\n",
    "from sklearn. metrics import silhouette_score\n",
    "from sklearn.preprocessing import StandardScaler"
   ]
  },
  {
   "cell_type": "code",
   "execution_count": 18,
   "id": "37f97249",
   "metadata": {},
   "outputs": [],
   "source": [
    "scaler= StandardScaler()\n",
    "scaled_data= scaler.fit_transform(df)"
   ]
  },
  {
   "cell_type": "code",
   "execution_count": 20,
   "id": "a246fd61",
   "metadata": {},
   "outputs": [
    {
     "data": {
      "text/plain": [
       "(122882, 12)"
      ]
     },
     "execution_count": 20,
     "metadata": {},
     "output_type": "execute_result"
    }
   ],
   "source": [
    "df.shape"
   ]
  },
  {
   "cell_type": "code",
   "execution_count": 21,
   "id": "0f185e39",
   "metadata": {},
   "outputs": [],
   "source": [
    "df.drop_duplicates(inplace=True)"
   ]
  },
  {
   "cell_type": "code",
   "execution_count": 22,
   "id": "8d08f456",
   "metadata": {},
   "outputs": [
    {
     "data": {
      "text/plain": [
       "(122882, 12)"
      ]
     },
     "execution_count": 22,
     "metadata": {},
     "output_type": "execute_result"
    }
   ],
   "source": [
    "df.shape"
   ]
  },
  {
   "cell_type": "code",
   "execution_count": 23,
   "id": "55f02dcc",
   "metadata": {},
   "outputs": [
    {
     "name": "stdout",
     "output_type": "stream",
     "text": [
      "Trying KMean clusttering for k= 2\n",
      "Trying KMean clusttering for k= 3\n",
      "Trying KMean clusttering for k= 4\n",
      "Trying KMean clusttering for k= 5\n",
      "Trying KMean clusttering for k= 6\n",
      "Trying KMean clusttering for k= 7\n",
      "Trying KMean clusttering for k= 8\n"
     ]
    }
   ],
   "source": [
    "k= range(2,9)\n",
    "inertia_values= []\n",
    "silhoutte_scores= []\n",
    "\n",
    "for i in k:\n",
    "    print(f'Trying KMean clusttering for k= {i}')\n",
    "    kmean= KMeans(n_clusters= i, random_state= 42)\n",
    "    kmean.fit(scaled_data)\n",
    "    inertia_values.append(kmean.inertia_)\n",
    "    \n",
    "    sil_score= silhouette_score(scaled_data, kmean.labels_)\n",
    "    silhoutte_scores.append(sil_score)"
   ]
  },
  {
   "cell_type": "code",
   "execution_count": 24,
   "id": "83ecb666",
   "metadata": {},
   "outputs": [
    {
     "data": {
      "image/png": "[encoded data removed]",
      "text/plain": [
       "<Figure size 648x288 with 2 Axes>"
      ]
     },
     "metadata": {
      "needs_background": "dark"
     },
     "output_type": "display_data"
    }
   ],
   "source": [
    "with plt.style.context('dark_background'):\n",
    "    plt.figure(figsize=(9,4))\n",
    "    plt.title(\"Elbow Method\")\n",
    "\n",
    "    plt.subplot(1,2,1)\n",
    "    plt.plot(k, inertia_values, marker= 'o', linestyle= '-')\n",
    "    plt.xlabel(\"No of clusters (K)\")\n",
    "    plt.ylabel(\"Inertia\")\n",
    "\n",
    "    plt.subplot(1,2,2)\n",
    "    plt.plot(k, silhoutte_scores, marker= 'o', linestyle= '-')\n",
    "    plt.xlabel(\"No of clusters (K)\")\n",
    "    plt.ylabel(\"Silhouette Score\")\n",
    "\n",
    "    plt.show()"
   ]
  },
  {
   "cell_type": "markdown",
   "id": "f8759850",
   "metadata": {},
   "source": [
    "##### From the given visualization, we can take the value of k to be 2. But we will use KElbowVisualizer as well for determining value of k. "
   ]
  },
  {
   "cell_type": "markdown",
   "id": "ccbb9c46",
   "metadata": {},
   "source": [
    "### KElbowVisualizer"
   ]
  },
  {
   "cell_type": "code",
   "execution_count": 26,
   "id": "67ed3ee2",
   "metadata": {},
   "outputs": [
    {
     "name": "stdout",
     "output_type": "stream",
     "text": [
      "\u001b[33mWARNING: The directory '/home/mosaic-ai/.cache/pip/http' or its parent directory is not owned by the current user and the cache has been disabled. Please check the permissions and owner of that directory. If executing pip with sudo, you may want sudo's -H flag.\u001b[0m\n",
      "\u001b[33mWARNING: The directory '/home/mosaic-ai/.cache/pip' or its parent directory is not owned by the current user and caching wheels has been disabled. check the permissions and owner of that directory. If executing pip with sudo, you may want sudo's -H flag.\u001b[0m\n",
      "Collecting yellowbrick\n",
      "\u001b[?25l  Downloading https://files.pythonhosted.org/packages/06/35/c7d44bb541c06bc41b3239b27af79ea0ecc7dbb156ee1335576f99c58b91/yellowbrick-1.5-py3-none-any.whl (282kB)\n",
      "\u001b[K     |████████████████████████████████| 286kB 4.0MB/s eta 0:00:01\n",
      "\u001b[?25hCollecting numpy>=1.16.0\n",
      "\u001b[?25l  Downloading https://files.pythonhosted.org/packages/98/5d/5738903efe0ecb73e51eb44feafba32bdba2081263d40c5043568ff60faf/numpy-1.24.4-cp38-cp38-manylinux_2_17_x86_64.manylinux2014_x86_64.whl (17.3MB)\n",
      "\u001b[K     |████████████████████████████████| 17.3MB 9.6MB/s eta 0:00:01\n",
      "\u001b[?25hCollecting scikit-learn>=1.0.0\n",
      "\u001b[?25l  Downloading https://files.pythonhosted.org/packages/3f/48/6fdd99f5717045f9984616b5c2ec683d6286d30c0ac234563062132b83ab/scikit_learn-1.3.2-cp38-cp38-manylinux_2_17_x86_64.manylinux2014_x86_64.whl (11.1MB)\n",
      "\u001b[K     |████████████████████████████████| 11.1MB 85.1MB/s eta 0:00:01\n",
      "\u001b[?25hCollecting cycler>=0.10.0\n",
      "  Downloading https://files.pythonhosted.org/packages/e7/05/c19819d5e3d95294a6f5947fb9b9629efb316b96de511b418c53d245aae6/cycler-0.12.1-py3-none-any.whl\n",
      "Collecting matplotlib!=3.0.0,>=2.0.2\n",
      "\u001b[?25l  Downloading https://files.pythonhosted.org/packages/30/33/cc27211d2ffeee4fd7402dca137b6e8a83f6dcae3d4be8d0ad5068555561/matplotlib-3.7.5-cp38-cp38-manylinux_2_12_x86_64.manylinux2010_x86_64.whl (9.2MB)\n",
      "\u001b[K     |████████████████████████████████| 9.2MB 93.3MB/s eta 0:00:01\n",
      "\u001b[?25hCollecting scipy>=1.0.0\n",
      "\u001b[?25l  Downloading https://files.pythonhosted.org/packages/69/f0/fb07a9548e48b687b8bf2fa81d71aba9cfc548d365046ca1c791e24db99d/scipy-1.10.1-cp38-cp38-manylinux_2_17_x86_64.manylinux2014_x86_64.whl (34.5MB)\n",
      "\u001b[K     |████████████████████████████████| 34.5MB 91.3MB/s eta 0:00:01\n",
      "\u001b[?25hCollecting joblib>=1.1.1\n",
      "\u001b[?25l  Downloading https://files.pythonhosted.org/packages/91/29/df4b9b42f2be0b623cbd5e2140cafcaa2bef0759a00b7b70104dcfe2fb51/joblib-1.4.2-py3-none-any.whl (301kB)\n",
      "\u001b[K     |████████████████████████████████| 307kB 88.7MB/s eta 0:00:01\n",
      "\u001b[?25hCollecting threadpoolctl>=2.0.0\n",
      "  Downloading https://files.pythonhosted.org/packages/4b/2c/ffbf7a134b9ab11a67b0cf0726453cedd9c5043a4fe7a35d1cefa9a1bcfb/threadpoolctl-3.5.0-py3-none-any.whl\n",
      "Collecting fonttools>=4.22.0\n",
      "\u001b[?25l  Downloading https://files.pythonhosted.org/packages/f3/0e/4d144e4cb8193b0cd8743ee2ac24e87ed952cebaede0da349b2a9d2fe222/fonttools-4.53.0-cp38-cp38-manylinux_2_17_x86_64.manylinux2014_x86_64.whl (4.7MB)\n",
      "\u001b[K     |████████████████████████████████| 4.7MB 89.9MB/s eta 0:00:01\n",
      "\u001b[?25hCollecting pillow>=6.2.0\n",
      "\u001b[?25l  Downloading https://files.pythonhosted.org/packages/45/8c/ea6fdce74c963d7017f02708b7e4918a401200844ac2c4af1cef8ebc8823/pillow-10.3.0-cp38-cp38-manylinux_2_17_x86_64.manylinux2014_x86_64.whl (4.4MB)\n",
      "\u001b[K     |████████████████████████████████| 4.4MB 61.0MB/s eta 0:00:01\n",
      "\u001b[?25hCollecting pyparsing>=2.3.1\n",
      "\u001b[?25l  Downloading https://files.pythonhosted.org/packages/9d/ea/6d76df31432a0e6fdf81681a895f009a4bb47b3c39036db3e1b528191d52/pyparsing-3.1.2-py3-none-any.whl (103kB)\n",
      "\u001b[K     |████████████████████████████████| 112kB 93.4MB/s eta 0:00:01\n",
      "\u001b[?25hCollecting contourpy>=1.0.1\n",
      "\u001b[?25l  Downloading https://files.pythonhosted.org/packages/8e/71/7f20855592cc929bc206810432b991ec4c702dc26b0567b132e52c85536f/contourpy-1.1.1-cp38-cp38-manylinux_2_17_x86_64.manylinux2014_x86_64.whl (301kB)\n",
      "\u001b[K     |████████████████████████████████| 307kB 92.3MB/s eta 0:00:01\n",
      "\u001b[?25hCollecting kiwisolver>=1.0.1\n",
      "\u001b[?25l  Downloading https://files.pythonhosted.org/packages/d2/55/7021ffcc8cb26a520bb051aa0a3d08daf200cde945e5863d5768161e2d3d/kiwisolver-1.4.5-cp38-cp38-manylinux_2_5_x86_64.manylinux1_x86_64.whl (1.2MB)\n",
      "\u001b[K     |████████████████████████████████| 1.2MB 87.6MB/s eta 0:00:01\n",
      "\u001b[?25hCollecting packaging>=20.0\n",
      "\u001b[?25l  Downloading https://files.pythonhosted.org/packages/49/df/1fceb2f8900f8639e278b056416d49134fb8d84c5942ffaa01ad34782422/packaging-24.0-py3-none-any.whl (53kB)\n",
      "\u001b[K     |████████████████████████████████| 61kB 86.0MB/s eta 0:00:01\n",
      "\u001b[?25hCollecting importlib-resources>=3.2.0; python_version < \"3.10\"\n",
      "  Downloading https://files.pythonhosted.org/packages/75/06/4df55e1b7b112d183f65db9503bff189e97179b256e1ea450a3c365241e0/importlib_resources-6.4.0-py3-none-any.whl\n",
      "Collecting python-dateutil>=2.7\n",
      "\u001b[?25l  Downloading https://files.pythonhosted.org/packages/ec/57/56b9bcc3c9c6a792fcbaf139543cee77261f3651ca9da0c93f5c1221264b/python_dateutil-2.9.0.post0-py2.py3-none-any.whl (229kB)\n",
      "\u001b[K     |████████████████████████████████| 235kB 87.3MB/s eta 0:00:01\n",
      "\u001b[?25hCollecting zipp>=3.1.0; python_version < \"3.10\"\n",
      "  Downloading https://files.pythonhosted.org/packages/20/38/f5c473fe9b90c8debdd29ea68d5add0289f1936d6f923b6b9cc0b931194c/zipp-3.19.2-py3-none-any.whl\n",
      "Collecting six>=1.5\n",
      "  Downloading https://files.pythonhosted.org/packages/d9/5a/e7c31adbe875f2abbb91bd84cf2dc52d792b5a01506781dbcf25c91daf11/six-1.16.0-py2.py3-none-any.whl\n",
      "\u001b[31mERROR: mosaic-utils 1.0.2 has requirement scikit-learn==1.2.1; python_version >= \"3.8\", but you'll have scikit-learn 1.3.2 which is incompatible.\u001b[0m\n",
      "\u001b[31mERROR: fosforml 1.0.0 has requirement urllib3==1.26.15, but you'll have urllib3 1.26.18 which is incompatible.\u001b[0m\n",
      "\u001b[31mERROR: fosforio 1.0.1 has requirement pandas==2.0.0, but you'll have pandas 2.0.3 which is incompatible.\u001b[0m\n",
      "\u001b[31mERROR: snowflake-snowpark-python 1.0.0 has requirement snowflake-connector-python<3.0.0,>=2.7.12, but you'll have snowflake-connector-python 3.10.1 which is incompatible.\u001b[0m\n",
      "\u001b[31mERROR: snowflake-ml-python 1.0.1 has requirement cryptography<39.0.0,>=3.1.0, but you'll have cryptography 42.0.8 which is incompatible.\u001b[0m\n",
      "\u001b[31mERROR: snowflake-ml-python 1.0.1 has requirement packaging<24,>=20.9, but you'll have packaging 24.0 which is incompatible.\u001b[0m\n",
      "\u001b[31mERROR: snowflake-ml-python 1.0.1 has requirement pandas<2,>=1.0.0, but you'll have pandas 2.0.3 which is incompatible.\u001b[0m\n",
      "\u001b[31mERROR: snowflake-ml-python 1.0.1 has requirement snowflake-snowpark-python<2,>=1.4.0, but you'll have snowflake-snowpark-python 1.0.0 which is incompatible.\u001b[0m\n",
      "\u001b[31mERROR: openapi-spec-validator 0.7.1 has requirement jsonschema<5.0.0,>=4.18.0, but you'll have jsonschema 3.2.0 which is incompatible.\u001b[0m\n",
      "\u001b[31mERROR: openapi-schema-validator 0.6.2 has requirement jsonschema<5.0.0,>=4.19.1, but you'll have jsonschema 3.2.0 which is incompatible.\u001b[0m\n",
      "\u001b[31mERROR: mosaic-ai-serving 1.0.0 has requirement Flask==2.1.1; python_version >= \"3.7\", but you'll have flask 2.2.5 which is incompatible.\u001b[0m\n",
      "\u001b[31mERROR: mosaic-ai-serving 1.0.0 has requirement matplotlib==3.6.0; python_version >= \"3.8\", but you'll have matplotlib 3.7.5 which is incompatible.\u001b[0m\n",
      "\u001b[31mERROR: mosaic-ai-client 1.0.0 has requirement matplotlib==3.1.1, but you'll have matplotlib 3.7.5 which is incompatible.\u001b[0m\n",
      "\u001b[31mERROR: jupyterlab 3.2.4 has requirement jupyter-server~=1.4, but you'll have jupyter-server 2.0.0a1 which is incompatible.\u001b[0m\n",
      "\u001b[31mERROR: jupyterlab-server 2.25.4 has requirement jsonschema>=4.18.0, but you'll have jsonschema 3.2.0 which is incompatible.\u001b[0m\n",
      "Installing collected packages: numpy, scipy, joblib, threadpoolctl, scikit-learn, cycler, fonttools, pillow, pyparsing, contourpy, kiwisolver, packaging, zipp, importlib-resources, six, python-dateutil, matplotlib, yellowbrick\n",
      "Successfully installed contourpy-1.1.1 cycler-0.12.1 fonttools-4.53.0 importlib-resources-6.4.0 joblib-1.4.2 kiwisolver-1.4.5 matplotlib-3.7.5 numpy-1.24.4 packaging-24.0 pillow-10.3.0 pyparsing-3.1.2 python-dateutil-2.9.0.post0 scikit-learn-1.3.2 scipy-1.10.1 six-1.16.0 threadpoolctl-3.5.0 yellowbrick-1.5 zipp-3.19.2\n",
      "\u001b[33mWARNING: Target directory /tmp/pip_packages/numpy.libs already exists. Specify --upgrade to force replacement.\u001b[0m\n",
      "\u001b[33mWARNING: Target directory /tmp/pip_packages/numpy-1.24.4.dist-info already exists. Specify --upgrade to force replacement.\u001b[0m\n",
      "\u001b[33mWARNING: Target directory /tmp/pip_packages/numpy already exists. Specify --upgrade to force replacement.\u001b[0m\n",
      "\u001b[33mWARNING: Target directory /tmp/pip_packages/scipy already exists. Specify --upgrade to force replacement.\u001b[0m\n",
      "\u001b[33mWARNING: Target directory /tmp/pip_packages/scipy.libs already exists. Specify --upgrade to force replacement.\u001b[0m\n",
      "\u001b[33mWARNING: Target directory /tmp/pip_packages/scipy-1.10.1.dist-info already exists. Specify --upgrade to force replacement.\u001b[0m\n",
      "\u001b[33mWARNING: Target directory /tmp/pip_packages/joblib already exists. Specify --upgrade to force replacement.\u001b[0m\n",
      "\u001b[33mWARNING: Target directory /tmp/pip_packages/joblib-1.4.2.dist-info already exists. Specify --upgrade to force replacement.\u001b[0m\n",
      "\u001b[33mWARNING: Target directory /tmp/pip_packages/threadpoolctl.py already exists. Specify --upgrade to force replacement.\u001b[0m\n",
      "\u001b[33mWARNING: Target directory /tmp/pip_packages/threadpoolctl-3.5.0.dist-info already exists. Specify --upgrade to force replacement.\u001b[0m\n",
      "\u001b[33mWARNING: Target directory /tmp/pip_packages/__pycache__ already exists. Specify --upgrade to force replacement.\u001b[0m\n",
      "\u001b[33mWARNING: Target directory /tmp/pip_packages/scikit_learn.libs already exists. Specify --upgrade to force replacement.\u001b[0m\n",
      "\u001b[33mWARNING: Target directory /tmp/pip_packages/sklearn already exists. Specify --upgrade to force replacement.\u001b[0m\n",
      "\u001b[33mWARNING: Target directory /tmp/pip_packages/cycler already exists. Specify --upgrade to force replacement.\u001b[0m\n",
      "\u001b[33mWARNING: Target directory /tmp/pip_packages/cycler-0.12.1.dist-info already exists. Specify --upgrade to force replacement.\u001b[0m\n",
      "\u001b[33mWARNING: Target directory /tmp/pip_packages/fontTools already exists. Specify --upgrade to force replacement.\u001b[0m\n",
      "\u001b[33mWARNING: Target directory /tmp/pip_packages/fonttools-4.53.0.dist-info already exists. Specify --upgrade to force replacement.\u001b[0m\n",
      "\u001b[33mWARNING: Target directory /tmp/pip_packages/pillow.libs already exists. Specify --upgrade to force replacement.\u001b[0m\n",
      "\u001b[33mWARNING: Target directory /tmp/pip_packages/PIL already exists. Specify --upgrade to force replacement.\u001b[0m\n",
      "\u001b[33mWARNING: Target directory /tmp/pip_packages/pillow-10.3.0.dist-info already exists. Specify --upgrade to force replacement.\u001b[0m\n",
      "\u001b[33mWARNING: Target directory /tmp/pip_packages/pyparsing already exists. Specify --upgrade to force replacement.\u001b[0m\n",
      "\u001b[33mWARNING: Target directory /tmp/pip_packages/pyparsing-3.1.2.dist-info already exists. Specify --upgrade to force replacement.\u001b[0m\n",
      "\u001b[33mWARNING: Target directory /tmp/pip_packages/contourpy-1.1.1.dist-info already exists. Specify --upgrade to force replacement.\u001b[0m\n",
      "\u001b[33mWARNING: Target directory /tmp/pip_packages/contourpy already exists. Specify --upgrade to force replacement.\u001b[0m\n",
      "\u001b[33mWARNING: Target directory /tmp/pip_packages/kiwisolver-1.4.5.dist-info already exists. Specify --upgrade to force replacement.\u001b[0m\n",
      "\u001b[33mWARNING: Target directory /tmp/pip_packages/kiwisolver already exists. Specify --upgrade to force replacement.\u001b[0m\n",
      "\u001b[33mWARNING: Target directory /tmp/pip_packages/packaging already exists. Specify --upgrade to force replacement.\u001b[0m\n",
      "\u001b[33mWARNING: Target directory /tmp/pip_packages/packaging-24.0.dist-info already exists. Specify --upgrade to force replacement.\u001b[0m\n",
      "\u001b[33mWARNING: Target directory /tmp/pip_packages/zipp already exists. Specify --upgrade to force replacement.\u001b[0m\n",
      "\u001b[33mWARNING: Target directory /tmp/pip_packages/zipp-3.19.2.dist-info already exists. Specify --upgrade to force replacement.\u001b[0m\n",
      "\u001b[33mWARNING: Target directory /tmp/pip_packages/importlib_resources already exists. Specify --upgrade to force replacement.\u001b[0m\n",
      "\u001b[33mWARNING: Target directory /tmp/pip_packages/importlib_resources-6.4.0.dist-info already exists. Specify --upgrade to force replacement.\u001b[0m\n",
      "\u001b[33mWARNING: Target directory /tmp/pip_packages/six.py already exists. Specify --upgrade to force replacement.\u001b[0m\n",
      "\u001b[33mWARNING: Target directory /tmp/pip_packages/six-1.16.0.dist-info already exists. Specify --upgrade to force replacement.\u001b[0m\n",
      "\u001b[33mWARNING: Target directory /tmp/pip_packages/dateutil already exists. Specify --upgrade to force replacement.\u001b[0m\n",
      "\u001b[33mWARNING: Target directory /tmp/pip_packages/python_dateutil-2.9.0.post0.dist-info already exists. Specify --upgrade to force replacement.\u001b[0m\n",
      "\u001b[33mWARNING: Target directory /tmp/pip_packages/matplotlib-3.7.5-py3.8-nspkg.pth already exists. Specify --upgrade to force replacement.\u001b[0m\n",
      "\u001b[33mWARNING: Target directory /tmp/pip_packages/pylab.py already exists. Specify --upgrade to force replacement.\u001b[0m\n",
      "\u001b[33mWARNING: Target directory /tmp/pip_packages/matplotlib-3.7.5.dist-info already exists. Specify --upgrade to force replacement.\u001b[0m\n",
      "\u001b[33mWARNING: Target directory /tmp/pip_packages/mpl_toolkits already exists. Specify --upgrade to force replacement.\u001b[0m\n",
      "\u001b[33mWARNING: Target directory /tmp/pip_packages/matplotlib already exists. Specify --upgrade to force replacement.\u001b[0m\n",
      "\u001b[33mWARNING: Target directory /tmp/pip_packages/bin already exists. Specify --upgrade to force replacement.\u001b[0m\n",
      "\u001b[33mWARNING: Target directory /tmp/pip_packages/share already exists. Specify --upgrade to force replacement.\u001b[0m\n"
     ]
    },
    {
     "name": "stdout",
     "output_type": "stream",
     "text": [
      "\u001b[33mWARNING: You are using pip version 19.3.1; however, version 24.0 is available.\r\n",
      "You should consider upgrading via the 'pip install --upgrade pip' command.\u001b[0m\r\n"
     ]
    }
   ],
   "source": []
  },
  {
   "cell_type": "code",
   "execution_count": 1,
   "id": "ad078a2b",
   "metadata": {
    "scrolled": true
   },
   "outputs": [
    {
     "name": "stderr",
     "output_type": "stream",
     "text": [
      "Matplotlib created a temporary cache directory at /tmp/matplotlib-ora03vp2 because the default path (/home/mosaic-ai/.cache/matplotlib) is not a writable directory; it is highly recommended to set the MPLCONFIGDIR environment variable to a writable directory, in particular to speed up the import of Matplotlib and to better support multiprocessing.\n"
     ]
    }
   ],
   "source": [
    "from yellowbrick.cluster import KElbowVisualizer"
   ]
  },
  {
   "cell_type": "code",
   "execution_count": 2,
   "id": "12df17dc",
   "metadata": {},
   "outputs": [
    {
     "ename": "NameError",
     "evalue": "name 'plt' is not defined",
     "output_type": "error",
     "traceback": [
      "\u001b[0;31m---------------------------------------------------------------------------\u001b[0m",
      "\u001b[0;31mNameError\u001b[0m                                 Traceback (most recent call last)",
      "Cell \u001b[0;32mIn[2], line 1\u001b[0m\n\u001b[0;32m----> 1\u001b[0m \u001b[43mplt\u001b[49m\u001b[38;5;241m.\u001b[39mfigure(figsize\u001b[38;5;241m=\u001b[39m(\u001b[38;5;241m8\u001b[39m,\u001b[38;5;241m5\u001b[39m))\n\u001b[1;32m      2\u001b[0m model \u001b[38;5;241m=\u001b[39m KMeans()\n\u001b[1;32m      3\u001b[0m visualizer \u001b[38;5;241m=\u001b[39m KElbowVisualizer(model, k\u001b[38;5;241m=\u001b[39m(\u001b[38;5;241m2\u001b[39m,\u001b[38;5;241m9\u001b[39m))\n",
      "\u001b[0;31mNameError\u001b[0m: name 'plt' is not defined"
     ]
    }
   ],
   "source": [
    "plt.figure(figsize=(8,5))\n",
    "model = KMeans()\n",
    "visualizer = KElbowVisualizer(model, k=(2,9))\n",
    "\n",
    "visualizer.fit(scaled_data)   \n",
    "visualizer.show()      "
   ]
  },
  {
   "cell_type": "markdown",
   "id": "cda8b7d6",
   "metadata": {},
   "source": [
    "### Now we take value of K=?"
   ]
  },
  {
   "cell_type": "code",
   "execution_count": null,
   "id": "55e08777",
   "metadata": {},
   "outputs": [],
   "source": [
    "k= 4\n",
    "\n",
    "kmean= KMeans(n_clusters=k, random_state= 42)\n",
    "kmean.fit(scaled_data)"
   ]
  },
  {
   "cell_type": "code",
   "execution_count": null,
   "id": "1d89ac11",
   "metadata": {},
   "outputs": [],
   "source": [
    "df['Group']= kmean.labels_"
   ]
  },
  {
   "cell_type": "code",
   "execution_count": null,
   "id": "732fd951",
   "metadata": {},
   "outputs": [],
   "source": [
    "df.drop(['Group'], axis= 1).hist(figsize= (15,15))"
   ]
  },
  {
   "cell_type": "code",
   "execution_count": null,
   "id": "155b0176",
   "metadata": {},
   "outputs": [],
   "source": [
    "i= df.drop(['Group'], axis= 1).corr()\n",
    "plt.figure(figsize= (14,14))\n",
    "sns.heatmap(i, annot= True)\n",
    "plt.show()"
   ]
  },
  {
   "cell_type": "markdown",
   "id": "7fae667f",
   "metadata": {},
   "source": [
    "### PCA"
   ]
  },
  {
   "cell_type": "code",
   "execution_count": null,
   "id": "68fcbd22",
   "metadata": {},
   "outputs": [],
   "source": [
    "from sklearn.decomposition import PCA\n",
    "from sklearn. preprocessing import StandardScaler"
   ]
  },
  {
   "cell_type": "code",
   "execution_count": null,
   "id": "7cb4cd37",
   "metadata": {},
   "outputs": [],
   "source": [
    "pca= PCA()\n",
    "pca.fit(scaled_data)"
   ]
  },
  {
   "cell_type": "code",
   "execution_count": null,
   "id": "e2364f51",
   "metadata": {},
   "outputs": [],
   "source": [
    "ex_var= pca.explained_variance_ratio_"
   ]
  },
  {
   "cell_type": "code",
   "execution_count": null,
   "id": "432c0e7e",
   "metadata": {},
   "outputs": [],
   "source": [
    "plt.plot(np.cumsum(ex_var), marker='*')\n",
    "plt.xlim(0,7,1)\n",
    "plt.xlabel('No of components')\n",
    "plt.ylabel('Cummulative Explained Variance')\n",
    "plt.show()"
   ]
  },
  {
   "cell_type": "code",
   "execution_count": null,
   "id": "f40c33b6",
   "metadata": {},
   "outputs": [],
   "source": [
    "var_exp= pca.explained_variance_\n",
    "l= len(var_exp)"
   ]
  },
  {
   "cell_type": "code",
   "execution_count": null,
   "id": "b5d72a05",
   "metadata": {},
   "outputs": [],
   "source": [
    "with plt.style.context('dark_background'):\n",
    "    plt.figure(figsize=(6,4))\n",
    "    \n",
    "    plt.bar(range(l), var_exp, alpha= 0.5, align= 'center', label= 'Individual Explained Variance')\n",
    "    plt.xlabel('Principal Components')\n",
    "    plt.ylabel('Explained Variance Ratio')\n",
    "    plt.legend(loc= 'best')\n",
    "    plt.show()"
   ]
  },
  {
   "cell_type": "markdown",
   "id": "e8a2d21e",
   "metadata": {},
   "source": [
    "### Here the first 2 components show maximum variance"
   ]
  },
  {
   "cell_type": "code",
   "execution_count": null,
   "id": "bafc31f5",
   "metadata": {},
   "outputs": [],
   "source": [
    "pca= PCA(n_components= 2)\n",
    "df_new= pd.DataFrame(pca.fit_transform(scaled_data))\n",
    "df_new['Group']= df['Group']"
   ]
  },
  {
   "cell_type": "code",
   "execution_count": null,
   "id": "f77752b9",
   "metadata": {},
   "outputs": [],
   "source": [
    "df_new.isnull().sum()"
   ]
  },
  {
   "cell_type": "code",
   "execution_count": null,
   "id": "943c559b",
   "metadata": {},
   "outputs": [],
   "source": [
    "df_new= df_new.dropna()"
   ]
  },
  {
   "cell_type": "code",
   "execution_count": null,
   "id": "d7f568ba",
   "metadata": {},
   "outputs": [],
   "source": [
    "df_new.columns= ['PC1','PC2','Group']"
   ]
  },
  {
   "cell_type": "code",
   "execution_count": null,
   "id": "18473aec",
   "metadata": {},
   "outputs": [],
   "source": [
    "with plt.style.context('dark_background'):\n",
    "    plt.figure(figsize=(10,8))\n",
    "    sns.scatterplot(x=\"PC1\",y=\"PC2\",hue=\"Group\",data=df_new,palette='flare')\n",
    "    plt.title(\"Groups Visualization\")\n",
    "    plt.show()"
   ]
  },
  {
   "cell_type": "markdown",
   "id": "99177da8",
   "metadata": {},
   "source": [
    "### Visualization"
   ]
  },
  {
   "cell_type": "code",
   "execution_count": null,
   "id": "cbe78e10",
   "metadata": {},
   "outputs": [],
   "source": [
    "plt.figure(figsize= (6,3))\n",
    "sns.barplot(x= 'Group', y= 'PC1', data= df_new)\n",
    "plt.ylabel(\"PC1\")\n",
    "plt.show()"
   ]
  },
  {
   "cell_type": "code",
   "execution_count": null,
   "id": "486d5fb3",
   "metadata": {},
   "outputs": [],
   "source": [
    "plt.figure(figsize= (6,3))\n",
    "sns.barplot(x= 'Group', y= 'PC2', data= df_new)\n",
    "plt.ylabel(\"PC2\")\n",
    "plt.show()"
   ]
  },
  {
   "cell_type": "code",
   "execution_count": null,
   "id": "22e78726",
   "metadata": {},
   "outputs": [],
   "source": [
    "plt.figure(figsize=(6,3))\n",
    "sns.countplot(x='Group', data=df_new, palette= 'flare')"
   ]
  },
  {
   "cell_type": "code",
   "execution_count": null,
   "id": "448dcfe9",
   "metadata": {},
   "outputs": [],
   "source": [
    "for c in df.drop(['Group'], axis=1).columns:\n",
    "    plt.figure(figsize=(6, 3))\n",
    "    sns.violinplot(x='Group', y=c, data=df, palette='deep')\n",
    "    plt.show()"
   ]
  }
 ],
 "metadata": {
  "kernelspec": {
   "display_name": "Python 3",
   "language": "python",
   "name": "python3"
  },
  "language_info": {
   "codemirror_mode": {
    "name": "ipython",
    "version": 3
   },
   "file_extension": ".py",
   "mimetype": "text/x-python",
   "name": "python",
   "nbconvert_exporter": "python",
   "pygments_lexer": "ipython3",
   "version": "3.8.18"
  }
 },
 "nbformat": 4,
 "nbformat_minor": 5
}
