{
 "cells": [
  {
   "cell_type": "markdown",
   "id": "70bcab9b",
   "metadata": {},
   "source": [
    "# Use Customer_Segmentation Notebook Template"
   ]
  },
  {
   "cell_type": "code",
   "execution_count": 1,
   "id": "af46dab4",
   "metadata": {
    "scrolled": true
   },
   "outputs": [
    {
     "name": "stderr",
     "output_type": "stream",
     "text": [
      "Matplotlib created a temporary cache directory at /tmp/matplotlib-49ms63jb because the default path (/home/mosaic-ai/.cache/matplotlib) is not a writable directory; it is highly recommended to set the MPLCONFIGDIR environment variable to a writable directory, in particular to speed up the import of Matplotlib and to better support multiprocessing.\n"
     ]
    }
   ],
   "source": [
    "import numpy as np\n",
    "import pandas as pd\n",
    "\n",
    "import matplotlib.pyplot as plt\n",
    "import seaborn as sns\n",
    "\n",
    "from sklearn.preprocessing import StandardScaler\n",
    "from sklearn.decomposition import PCA\n",
    "from sklearn.cluster import KMeans,AgglomerativeClustering,DBSCAN,SpectralClustering\n",
    "from sklearn.mixture import GaussianMixture\n",
    "from sklearn.metrics import silhouette_samples, silhouette_score\n",
    "from sklearn.model_selection import train_test_split, cross_val_score\n",
    "from sklearn.ensemble import RandomForestClassifier\n",
    "from sklearn.metrics import classification_report"
   ]
  },
  {
   "cell_type": "markdown",
   "id": "aed490d4",
   "metadata": {},
   "source": [
    "# Read data from Snowflake CUSTOMER_TRANSACTION_MASTER using fosforio sdk"
   ]
  },
  {
   "cell_type": "code",
   "execution_count": 2,
   "id": "17be0dd8",
   "metadata": {},
   "outputs": [
    {
     "name": "stdout",
     "output_type": "stream",
     "text": [
      "Connection manager service url initialised to http://fdc-project-manager:80/project-manager\n",
      "If you need to update its value then update the variable CONNECTION_MANAGER_BASE_URL in os env.\n"
     ]
    }
   ],
   "source": [
    "from fosforio import snowflake"
   ]
  },
  {
   "cell_type": "code",
   "execution_count": 3,
   "id": "d200ff3b",
   "metadata": {},
   "outputs": [
    {
     "name": "stdout",
     "output_type": "stream",
     "text": [
      "Exception occurred in getting snowflake connection: 'connectionSources'\n"
     ]
    }
   ],
   "source": [
    "# To get snowflake connection object with a default snowflake connection created by the user, if available.\n",
    "#snowflake.get_connection()\n",
    "\n",
    "# To get snowflake connection object with a specific connection name\n",
    "snowflake.get_connection(connection_name=\"FDC_Insurance_Snowflake\")"
   ]
  },
  {
   "cell_type": "code",
   "execution_count": null,
   "id": "7b3d44c7",
   "metadata": {},
   "outputs": [],
   "source": [
    "# To read a specific dataset published from a snowflake connection\n",
    "df = snowflake.get_dataframe(\"CUSTOMER_TRANSACTION_MASTER\")"
   ]
  },
  {
   "cell_type": "code",
   "execution_count": null,
   "id": "528847c2",
   "metadata": {},
   "outputs": [],
   "source": [
    "df_original = df.copy()"
   ]
  },
  {
   "cell_type": "code",
   "execution_count": null,
   "id": "afedf581",
   "metadata": {},
   "outputs": [],
   "source": [
    "df.shape"
   ]
  },
  {
   "cell_type": "code",
   "execution_count": null,
   "id": "2ea3f727",
   "metadata": {},
   "outputs": [],
   "source": [
    "df.tail()"
   ]
  },
  {
   "cell_type": "code",
   "execution_count": null,
   "id": "d41ed480",
   "metadata": {},
   "outputs": [],
   "source": [
    "to_drop = ['CUSTOMER_ID','DATE','AGE','SEX','EDUCATION_LEVEL','EMPLOYMENT_STATUS','HOBBIES','MARITAL_STATUS','BANK_ACCOUNT_TYPE',\n",
    " 'DEPENDENTS','REGISTRATION_DATE','PURCHASES_FREQUENCY','ONEOFF_PURCHASES_FREQUENCY','PURCHASES_INSTALLMENTS_FREQUENCY','BALANCE_FREQUENCY']"
   ]
  },
  {
   "cell_type": "code",
   "execution_count": null,
   "id": "8ec73c6f",
   "metadata": {},
   "outputs": [],
   "source": [
    "df.drop(to_drop, axis= 1, inplace= True)"
   ]
  },
  {
   "cell_type": "code",
   "execution_count": null,
   "id": "c1569b09",
   "metadata": {},
   "outputs": [],
   "source": [
    "df.info()"
   ]
  },
  {
   "cell_type": "code",
   "execution_count": null,
   "id": "758bbe9c",
   "metadata": {},
   "outputs": [],
   "source": [
    "scalar=StandardScaler()\n",
    "scaled_df = scalar.fit_transform(df)"
   ]
  },
  {
   "cell_type": "code",
   "execution_count": null,
   "id": "26f9d7da",
   "metadata": {
    "scrolled": true
   },
   "outputs": [],
   "source": [
    "scaled_df.shape"
   ]
  },
  {
   "cell_type": "markdown",
   "id": "f8ffa247",
   "metadata": {},
   "source": [
    "### PCA"
   ]
  },
  {
   "cell_type": "code",
   "execution_count": null,
   "id": "1d801793",
   "metadata": {},
   "outputs": [],
   "source": [
    "pca = PCA(n_components=2)\n",
    "principal_components = pca.fit_transform(scaled_df)\n",
    "pca_df = pd.DataFrame(data=principal_components ,columns=[\"PCA1\",\"PCA2\"])\n",
    "pca_df"
   ]
  },
  {
   "cell_type": "code",
   "execution_count": null,
   "id": "252fd785",
   "metadata": {},
   "outputs": [],
   "source": [
    "k= range(2,6)\n",
    "inertia_values= []\n",
    "silhoutte_scores= []\n",
    "\n",
    "for i in k:\n",
    "    print(f'Trying KMean clusttering for k= {i}')\n",
    "    kmean= KMeans(n_clusters= i, random_state= 42)\n",
    "    kmean.fit(pca_df)\n",
    "    inertia_values.append(kmean.inertia_)\n",
    "    \n",
    "    sil_score= silhouette_score(pca_df, kmean.labels_)\n",
    "    silhoutte_scores.append(sil_score)"
   ]
  },
  {
   "cell_type": "code",
   "execution_count": null,
   "id": "957e0e40",
   "metadata": {},
   "outputs": [],
   "source": [
    "with plt.style.context('dark_background'):\n",
    "    plt.figure(figsize=(9,4))\n",
    "    plt.title(\"Elbow Method\")\n",
    "\n",
    "    plt.subplot(1,2,1)\n",
    "    plt.plot(k, inertia_values, marker= 'o', linestyle= '-')\n",
    "    plt.xlabel(\"No of clusters (K)\")\n",
    "    plt.ylabel(\"Inertia\")\n",
    "\n",
    "    plt.subplot(1,2,2)\n",
    "    plt.plot(k, silhoutte_scores, marker= 'o', linestyle= '-')\n",
    "    plt.xlabel(\"No of clusters (K)\")\n",
    "    plt.ylabel(\"Silhouette Score\")\n",
    "\n",
    "    plt.show()"
   ]
  },
  {
   "cell_type": "code",
   "execution_count": null,
   "id": "e21992b8",
   "metadata": {},
   "outputs": [],
   "source": [
    "k= 4\n",
    "kmean= KMeans(n_clusters=k, random_state= 42)\n",
    "kmean.fit(pca_df)"
   ]
  },
  {
   "cell_type": "code",
   "execution_count": null,
   "id": "be37f46c",
   "metadata": {},
   "outputs": [],
   "source": [
    "pca_df['Group']= kmean.labels_"
   ]
  },
  {
   "cell_type": "code",
   "execution_count": null,
   "id": "d0571ae5",
   "metadata": {},
   "outputs": [],
   "source": [
    "pca_df.columns= ['PC1','PC2','Group']"
   ]
  },
  {
   "cell_type": "code",
   "execution_count": null,
   "id": "bf96a5e0",
   "metadata": {},
   "outputs": [],
   "source": [
    "with plt.style.context('dark_background'):\n",
    "    plt.figure(figsize=(10,8))\n",
    "    sns.scatterplot(x=\"PC1\",y=\"PC2\",hue=\"Group\",data=pca_df,palette='flare')\n",
    "    plt.title(\"Groups Visualization\")\n",
    "    plt.show()"
   ]
  },
  {
   "cell_type": "code",
   "execution_count": null,
   "id": "8613c9a7",
   "metadata": {
    "scrolled": true
   },
   "outputs": [],
   "source": [
    "pca_df['Group'].value_counts()"
   ]
  },
  {
   "cell_type": "code",
   "execution_count": null,
   "id": "e5388b71",
   "metadata": {},
   "outputs": [],
   "source": [
    "cluster_centers = pd.DataFrame(data=kmean.cluster_centers_,columns=['PC1','PC2'])"
   ]
  },
  {
   "cell_type": "code",
   "execution_count": null,
   "id": "90b65576",
   "metadata": {},
   "outputs": [],
   "source": [
    "cluster_centers"
   ]
  },
  {
   "cell_type": "code",
   "execution_count": null,
   "id": "ddf084ac",
   "metadata": {},
   "outputs": [],
   "source": [
    "cluster_df = pd.concat([df_original,pd.DataFrame({'Cluster':kmean.labels_})],axis=1)"
   ]
  },
  {
   "cell_type": "code",
   "execution_count": null,
   "id": "5d8d232a",
   "metadata": {
    "scrolled": true
   },
   "outputs": [],
   "source": [
    "cluster_df.head()"
   ]
  },
  {
   "cell_type": "code",
   "execution_count": null,
   "id": "73f8be7b",
   "metadata": {},
   "outputs": [],
   "source": [
    "cluster_1_df = cluster_df[cluster_df[\"Cluster\"]==0]\n",
    "cluster_1_df"
   ]
  },
  {
   "cell_type": "code",
   "execution_count": null,
   "id": "be45f5b1",
   "metadata": {},
   "outputs": [],
   "source": [
    "cluster_2_df = cluster_df[cluster_df[\"Cluster\"]==1]\n",
    "cluster_2_df"
   ]
  },
  {
   "cell_type": "code",
   "execution_count": null,
   "id": "00b9125b",
   "metadata": {
    "scrolled": true
   },
   "outputs": [],
   "source": [
    "cluster_3_df = cluster_df[cluster_df[\"Cluster\"]==2]\n",
    "cluster_3_df"
   ]
  },
  {
   "cell_type": "code",
   "execution_count": null,
   "id": "94990223",
   "metadata": {},
   "outputs": [],
   "source": [
    "cluster_4_df = cluster_df[cluster_df[\"Cluster\"] == 3]\n",
    "cluster_4_df"
   ]
  },
  {
   "cell_type": "code",
   "execution_count": null,
   "id": "f6ff6c7e",
   "metadata": {
    "scrolled": true
   },
   "outputs": [],
   "source": [
    "sns.countplot(x='Cluster', data=cluster_df)"
   ]
  },
  {
   "cell_type": "code",
   "execution_count": null,
   "id": "1db3ee86",
   "metadata": {},
   "outputs": [],
   "source": []
  },
  {
   "cell_type": "code",
   "execution_count": null,
   "id": "04b9e2e5",
   "metadata": {},
   "outputs": [],
   "source": []
  },
  {
   "cell_type": "code",
   "execution_count": null,
   "id": "165e19ee",
   "metadata": {},
   "outputs": [],
   "source": []
  },
  {
   "cell_type": "code",
   "execution_count": null,
   "id": "b4e2ac48",
   "metadata": {},
   "outputs": [],
   "source": []
  },
  {
   "cell_type": "code",
   "execution_count": null,
   "id": "d0ea4a8c",
   "metadata": {},
   "outputs": [],
   "source": []
  },
  {
   "cell_type": "code",
   "execution_count": 44,
   "id": "d2e4cef3",
   "metadata": {},
   "outputs": [],
   "source": [
    "cluster_df.to_csv(\"/data/Output/kmeans_clustered_customer_Data.csv\")"
   ]
  },
  {
   "cell_type": "code",
   "execution_count": 45,
   "id": "8d142a68",
   "metadata": {},
   "outputs": [
    {
     "data": {
      "text/plain": [
       "48"
      ]
     },
     "execution_count": 45,
     "metadata": {},
     "output_type": "execute_result"
    }
   ],
   "source": [
    "import sys\n",
    "sys.getsizeof(kmean)"
   ]
  },
  {
   "cell_type": "code",
   "execution_count": 46,
   "id": "299e4b26",
   "metadata": {},
   "outputs": [
    {
     "data": {
      "text/plain": [
       "['/data/Output/kmeans_model.pkl']"
      ]
     },
     "execution_count": 46,
     "metadata": {},
     "output_type": "execute_result"
    }
   ],
   "source": [
    "#Saving Scikitlearn models\n",
    "import joblib\n",
    "joblib.dump(kmean, \"/data/Output/kmeans_model.pkl\")"
   ]
  }
 ],
 "metadata": {
  "kernelspec": {
   "display_name": "Python 3",
   "language": "python",
   "name": "python3"
  },
  "language_info": {
   "codemirror_mode": {
    "name": "ipython",
    "version": 3
   },
   "file_extension": ".py",
   "mimetype": "text/x-python",
   "name": "python",
   "nbconvert_exporter": "python",
   "pygments_lexer": "ipython3",
   "version": "3.8.18"
  }
 },
 "nbformat": 4,
 "nbformat_minor": 5
}
