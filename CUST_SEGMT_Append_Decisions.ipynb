{
 "cells": [
  {
   "cell_type": "markdown",
   "id": "632503b3",
   "metadata": {},
   "source": [
    "# Use Customer_Segmentation Notebook template"
   ]
  },
  {
   "cell_type": "code",
   "execution_count": 1,
   "id": "4871a0ed",
   "metadata": {},
   "outputs": [],
   "source": [
    "#Snowpark lib\n",
    "from snowflake.snowpark import Session\n",
    "\n",
    "# Data Science Libs\n",
    "import numpy as np\n",
    "import pandas as pd\n",
    "\n",
    "# create_temp_table warning suppresion\n",
    "import warnings; warnings.simplefilter('ignore')\n",
    "\n",
    "#ConfigParser to read ini file\n",
    "import configparser"
   ]
  },
  {
   "cell_type": "markdown",
   "id": "b1aaba03",
   "metadata": {},
   "source": [
    "# Different ways to achieve Snowflake Connection"
   ]
  },
  {
   "cell_type": "markdown",
   "id": "6c5f49da",
   "metadata": {},
   "source": [
    "## 1. Code to establish connection using Config Parser and .ini file"
   ]
  },
  {
   "cell_type": "code",
   "execution_count": 2,
   "id": "8a5fa270",
   "metadata": {},
   "outputs": [
    {
     "data": {
      "text/plain": [
       "['credentials.ini']"
      ]
     },
     "execution_count": 2,
     "metadata": {},
     "output_type": "execute_result"
    }
   ],
   "source": [
    "config = configparser.ConfigParser()\n",
    "config.read(\"credentials.ini\")"
   ]
  },
  {
   "cell_type": "code",
   "execution_count": 3,
   "id": "d933cdd5",
   "metadata": {},
   "outputs": [],
   "source": [
    "connection_parameters = {\n",
    "    \"user\": f'{config[\"Snowflake\"][\"user\"]}',\n",
    "    \"password\": os.getenv('Snowflake_password'),\n",
    "    \"account\": f'{config[\"Snowflake\"][\"account\"]}',\n",
    "    \"WAREHOUSE\": f'{config[\"Snowflake\"][\"WAREHOUSE\"]}',\n",
    "    \"DATABASE\": f'{config[\"Snowflake\"][\"DATABASE\"]}',\n",
    "    \"SCHEMA\": f'{config[\"Snowflake\"][\"SCHEMA\"]}'\n",
    "}"
   ]
  },
  {
   "cell_type": "code",
   "execution_count": 4,
   "id": "18e767bd",
   "metadata": {},
   "outputs": [
    {
     "name": "stdout",
     "output_type": "stream",
     "text": [
      "connection successful!\n"
     ]
    }
   ],
   "source": [
    "def snowflake_connector(conn):\n",
    "    try:\n",
    "        session = Session.builder.configs(conn).create()\n",
    "        print(\"connection successful!\")\n",
    "    except:\n",
    "        raise ValueError(\"error while connecting with db\")\n",
    "    return session\n",
    "\n",
    "session = snowflake_connector(connection_parameters)"
   ]
  },
  {
   "cell_type": "code",
   "execution_count": 5,
   "id": "c19cce94",
   "metadata": {},
   "outputs": [],
   "source": [
    "df = session.table(\"CUSTOMER_DATA_INSIGHT_TRAIN_OUTPUT\")"
   ]
  },
  {
   "cell_type": "code",
   "execution_count": 6,
   "id": "3af9c5da",
   "metadata": {},
   "outputs": [],
   "source": [
    "df = df.to_pandas()"
   ]
  },
  {
   "cell_type": "code",
   "execution_count": 7,
   "id": "e8617158",
   "metadata": {
    "scrolled": true
   },
   "outputs": [
    {
     "data": {
      "text/html": [
       "<div>\n",
       "<style scoped>\n",
       "    .dataframe tbody tr th:only-of-type {\n",
       "        vertical-align: middle;\n",
       "    }\n",
       "\n",
       "    .dataframe tbody tr th {\n",
       "        vertical-align: top;\n",
       "    }\n",
       "\n",
       "    .dataframe thead th {\n",
       "        text-align: right;\n",
       "    }\n",
       "</style>\n",
       "<table border=\"1\" class=\"dataframe\">\n",
       "  <thead>\n",
       "    <tr style=\"text-align: right;\">\n",
       "      <th></th>\n",
       "      <th>CUSTOMER_ID</th>\n",
       "      <th>DATE</th>\n",
       "      <th>AGE</th>\n",
       "      <th>SEX</th>\n",
       "      <th>EDUCATION_LEVEL</th>\n",
       "      <th>EMPLOYMENT_STATUS</th>\n",
       "      <th>HOBBIES</th>\n",
       "      <th>MARITAL_STATUS</th>\n",
       "      <th>DEPENDENTS</th>\n",
       "      <th>REGISTRATION_DATE</th>\n",
       "      <th>...</th>\n",
       "      <th>PURCHASES_INSTALLMENTS_FREQUENCY</th>\n",
       "      <th>PURCHASES_TRX</th>\n",
       "      <th>PAYMENTS</th>\n",
       "      <th>MINIMUM_PAYMENTS</th>\n",
       "      <th>PRC_FULL_PAYMENT</th>\n",
       "      <th>CLUSTER</th>\n",
       "      <th>CLUSTER_TYPE</th>\n",
       "      <th>PREDICTION</th>\n",
       "      <th>REPORT_DATE</th>\n",
       "      <th>CLUSTER_ID</th>\n",
       "    </tr>\n",
       "  </thead>\n",
       "  <tbody>\n",
       "    <tr>\n",
       "      <th>79995</th>\n",
       "      <td>01d68689-06f0-4d02-94e9-e860dc631c39</td>\n",
       "      <td>2022-04-01</td>\n",
       "      <td>33</td>\n",
       "      <td>MALE</td>\n",
       "      <td>College</td>\n",
       "      <td>Unemployed</td>\n",
       "      <td>chess</td>\n",
       "      <td>Single</td>\n",
       "      <td>One Dependent</td>\n",
       "      <td>2000-12-12</td>\n",
       "      <td>...</td>\n",
       "      <td>Very low</td>\n",
       "      <td>15.12</td>\n",
       "      <td>1858.996274</td>\n",
       "      <td>198.293611</td>\n",
       "      <td>0.0</td>\n",
       "      <td>0</td>\n",
       "      <td>Conservative Spenders</td>\n",
       "      <td>0</td>\n",
       "      <td>2022-04-01</td>\n",
       "      <td>CLUSTER_0</td>\n",
       "    </tr>\n",
       "    <tr>\n",
       "      <th>79996</th>\n",
       "      <td>f51a24f1-cacc-4637-813b-aef52bbb8d16</td>\n",
       "      <td>2023-11-01</td>\n",
       "      <td>33</td>\n",
       "      <td>FEMALE</td>\n",
       "      <td>MD</td>\n",
       "      <td>Unemployed</td>\n",
       "      <td>video-games</td>\n",
       "      <td>Single</td>\n",
       "      <td>One Dependent</td>\n",
       "      <td>2021-04-12</td>\n",
       "      <td>...</td>\n",
       "      <td>Very low</td>\n",
       "      <td>13.51</td>\n",
       "      <td>1929.815180</td>\n",
       "      <td>202.604342</td>\n",
       "      <td>0.0</td>\n",
       "      <td>0</td>\n",
       "      <td>Conservative Spenders</td>\n",
       "      <td>0</td>\n",
       "      <td>2023-11-01</td>\n",
       "      <td>CLUSTER_0</td>\n",
       "    </tr>\n",
       "    <tr>\n",
       "      <th>79997</th>\n",
       "      <td>83c3a4de-4346-47b0-bc8b-4171d72c68e0</td>\n",
       "      <td>2024-03-01</td>\n",
       "      <td>22</td>\n",
       "      <td>FEMALE</td>\n",
       "      <td>MD</td>\n",
       "      <td>Unemployed</td>\n",
       "      <td>movies</td>\n",
       "      <td>Single</td>\n",
       "      <td>No Dependents</td>\n",
       "      <td>1997-09-12</td>\n",
       "      <td>...</td>\n",
       "      <td>High</td>\n",
       "      <td>33.00</td>\n",
       "      <td>339.702306</td>\n",
       "      <td>175.285790</td>\n",
       "      <td>0.0</td>\n",
       "      <td>0</td>\n",
       "      <td>Conservative Spenders</td>\n",
       "      <td>0</td>\n",
       "      <td>2024-03-01</td>\n",
       "      <td>CLUSTER_0</td>\n",
       "    </tr>\n",
       "    <tr>\n",
       "      <th>79998</th>\n",
       "      <td>f741d69b-d623-4f7e-9cd1-01bf5c3b03fd</td>\n",
       "      <td>2023-03-01</td>\n",
       "      <td>22</td>\n",
       "      <td>MALE</td>\n",
       "      <td>Masters</td>\n",
       "      <td>Unemployed</td>\n",
       "      <td>movies</td>\n",
       "      <td>Single</td>\n",
       "      <td>No Dependents</td>\n",
       "      <td>2014-01-12</td>\n",
       "      <td>...</td>\n",
       "      <td>High</td>\n",
       "      <td>30.69</td>\n",
       "      <td>360.084444</td>\n",
       "      <td>187.555795</td>\n",
       "      <td>0.0</td>\n",
       "      <td>0</td>\n",
       "      <td>Conservative Spenders</td>\n",
       "      <td>0</td>\n",
       "      <td>2023-03-01</td>\n",
       "      <td>CLUSTER_0</td>\n",
       "    </tr>\n",
       "    <tr>\n",
       "      <th>79999</th>\n",
       "      <td>a892b7ae-4677-40a4-9771-c612892ec24c</td>\n",
       "      <td>2023-01-01</td>\n",
       "      <td>22</td>\n",
       "      <td>MALE</td>\n",
       "      <td>JD</td>\n",
       "      <td>Unemployed</td>\n",
       "      <td>chess</td>\n",
       "      <td>Single</td>\n",
       "      <td>No Dependents</td>\n",
       "      <td>2015-03-12</td>\n",
       "      <td>...</td>\n",
       "      <td>High</td>\n",
       "      <td>30.36</td>\n",
       "      <td>351.591887</td>\n",
       "      <td>161.262927</td>\n",
       "      <td>0.0</td>\n",
       "      <td>0</td>\n",
       "      <td>Conservative Spenders</td>\n",
       "      <td>0</td>\n",
       "      <td>2023-01-01</td>\n",
       "      <td>CLUSTER_0</td>\n",
       "    </tr>\n",
       "  </tbody>\n",
       "</table>\n",
       "<p>5 rows × 32 columns</p>\n",
       "</div>"
      ],
      "text/plain": [
       "                                CUSTOMER_ID        DATE  AGE     SEX  \\\n",
       "79995  01d68689-06f0-4d02-94e9-e860dc631c39  2022-04-01   33    MALE   \n",
       "79996  f51a24f1-cacc-4637-813b-aef52bbb8d16  2023-11-01   33  FEMALE   \n",
       "79997  83c3a4de-4346-47b0-bc8b-4171d72c68e0  2024-03-01   22  FEMALE   \n",
       "79998  f741d69b-d623-4f7e-9cd1-01bf5c3b03fd  2023-03-01   22    MALE   \n",
       "79999  a892b7ae-4677-40a4-9771-c612892ec24c  2023-01-01   22    MALE   \n",
       "\n",
       "      EDUCATION_LEVEL EMPLOYMENT_STATUS      HOBBIES MARITAL_STATUS  \\\n",
       "79995         College        Unemployed        chess         Single   \n",
       "79996              MD        Unemployed  video-games         Single   \n",
       "79997              MD        Unemployed       movies         Single   \n",
       "79998         Masters        Unemployed       movies         Single   \n",
       "79999              JD        Unemployed        chess         Single   \n",
       "\n",
       "          DEPENDENTS REGISTRATION_DATE  ... PURCHASES_INSTALLMENTS_FREQUENCY  \\\n",
       "79995  One Dependent        2000-12-12  ...                         Very low   \n",
       "79996  One Dependent        2021-04-12  ...                         Very low   \n",
       "79997  No Dependents        1997-09-12  ...                             High   \n",
       "79998  No Dependents        2014-01-12  ...                             High   \n",
       "79999  No Dependents        2015-03-12  ...                             High   \n",
       "\n",
       "       PURCHASES_TRX     PAYMENTS  MINIMUM_PAYMENTS  PRC_FULL_PAYMENT  \\\n",
       "79995          15.12  1858.996274        198.293611               0.0   \n",
       "79996          13.51  1929.815180        202.604342               0.0   \n",
       "79997          33.00   339.702306        175.285790               0.0   \n",
       "79998          30.69   360.084444        187.555795               0.0   \n",
       "79999          30.36   351.591887        161.262927               0.0   \n",
       "\n",
       "       CLUSTER           CLUSTER_TYPE  PREDICTION  REPORT_DATE  CLUSTER_ID  \n",
       "79995        0  Conservative Spenders           0   2022-04-01   CLUSTER_0  \n",
       "79996        0  Conservative Spenders           0   2023-11-01   CLUSTER_0  \n",
       "79997        0  Conservative Spenders           0   2024-03-01   CLUSTER_0  \n",
       "79998        0  Conservative Spenders           0   2023-03-01   CLUSTER_0  \n",
       "79999        0  Conservative Spenders           0   2023-01-01   CLUSTER_0  \n",
       "\n",
       "[5 rows x 32 columns]"
      ]
     },
     "execution_count": 7,
     "metadata": {},
     "output_type": "execute_result"
    }
   ],
   "source": [
    "df.tail()"
   ]
  },
  {
   "cell_type": "code",
   "execution_count": 8,
   "id": "4add7f39",
   "metadata": {},
   "outputs": [
    {
     "data": {
      "text/plain": [
       "(80000, 32)"
      ]
     },
     "execution_count": 8,
     "metadata": {},
     "output_type": "execute_result"
    }
   ],
   "source": [
    "df.shape"
   ]
  },
  {
   "cell_type": "code",
   "execution_count": 9,
   "id": "9fc57e1c",
   "metadata": {
    "scrolled": true
   },
   "outputs": [
    {
     "data": {
      "text/plain": [
       "Index(['CUSTOMER_ID', 'DATE', 'AGE', 'SEX', 'EDUCATION_LEVEL',\n",
       "       'EMPLOYMENT_STATUS', 'HOBBIES', 'MARITAL_STATUS', 'DEPENDENTS',\n",
       "       'REGISTRATION_DATE', 'BANK_ACCOUNT_TYPE', 'BALANCE',\n",
       "       'BALANCE_FREQUENCY', 'CREDIT_LIMIT', 'CASH_ADVANCE',\n",
       "       'CASH_ADVANCE_FREQUENCY', 'CASH_ADVANCE_TRX', 'PURCHASES',\n",
       "       'ONEOFF_PURCHASES', 'INSTALLMENTS_PURCHASES', 'PURCHASES_FREQUENCY',\n",
       "       'ONEOFF_PURCHASES_FREQUENCY', 'PURCHASES_INSTALLMENTS_FREQUENCY',\n",
       "       'PURCHASES_TRX', 'PAYMENTS', 'MINIMUM_PAYMENTS', 'PRC_FULL_PAYMENT',\n",
       "       'CLUSTER', 'CLUSTER_TYPE', 'PREDICTION', 'REPORT_DATE', 'CLUSTER_ID'],\n",
       "      dtype='object')"
      ]
     },
     "execution_count": 9,
     "metadata": {},
     "output_type": "execute_result"
    }
   ],
   "source": [
    "df.columns"
   ]
  },
  {
   "cell_type": "code",
   "execution_count": 10,
   "id": "3f97d4b8",
   "metadata": {},
   "outputs": [],
   "source": [
    "to_retain = ['CUSTOMER_ID', 'AGE', 'EMPLOYMENT_STATUS', 'HOBBIES', 'MARITAL_STATUS', \n",
    "       'BANK_ACCOUNT_TYPE', 'BALANCE','CREDIT_LIMIT', 'CASH_ADVANCE',\n",
    "       'PURCHASES','INSTALLMENTS_PURCHASES','PAYMENTS', 'CLUSTER_TYPE']"
   ]
  },
  {
   "cell_type": "code",
   "execution_count": 11,
   "id": "f4cd4d89",
   "metadata": {},
   "outputs": [],
   "source": [
    "new_df = df[to_retain]"
   ]
  },
  {
   "cell_type": "code",
   "execution_count": 12,
   "id": "b0e19aed",
   "metadata": {},
   "outputs": [
    {
     "data": {
      "text/plain": [
       "(80000, 13)"
      ]
     },
     "execution_count": 12,
     "metadata": {},
     "output_type": "execute_result"
    }
   ],
   "source": [
    "new_df.shape"
   ]
  },
  {
   "cell_type": "code",
   "execution_count": 13,
   "id": "bc342344",
   "metadata": {},
   "outputs": [],
   "source": [
    "new_df.to_csv('/data/train_df.csv',index=False)"
   ]
  },
  {
   "cell_type": "code",
   "execution_count": null,
   "id": "0dd9565a",
   "metadata": {},
   "outputs": [],
   "source": [
    "### Write Back logic ####"
   ]
  },
  {
   "cell_type": "code",
   "execution_count": 8,
   "id": "25c4bb77",
   "metadata": {},
   "outputs": [],
   "source": [
    "upload_df = pd.read_csv('/data/train_df_latest.csv')"
   ]
  },
  {
   "cell_type": "code",
   "execution_count": 12,
   "id": "10846596",
   "metadata": {
    "scrolled": true
   },
   "outputs": [
    {
     "data": {
      "text/plain": [
       "Index(['CUSTOMER_ID', 'AGE', 'EMPLOYMENT_STATUS', 'HOBBIES', 'MARITAL_STATUS',\n",
       "       'BANK_ACCOUNT_TYPE', 'BALANCE', 'CREDIT_LIMIT', 'CASH_ADVANCE',\n",
       "       'PURCHASES', 'INSTALLMENTS_PURCHASES', 'PAYMENTS', 'CLUSTER_TYPE',\n",
       "       'Highest Spent'],\n",
       "      dtype='object')"
      ]
     },
     "execution_count": 12,
     "metadata": {},
     "output_type": "execute_result"
    }
   ],
   "source": [
    "upload_df.columns"
   ]
  },
  {
   "cell_type": "code",
   "execution_count": 13,
   "id": "bdb579ff",
   "metadata": {},
   "outputs": [],
   "source": [
    "upload_df.columns = ['CUSTOMER_ID', 'AGE', 'EMPLOYMENT_STATUS', 'HOBBIES', 'MARITAL_STATUS',\n",
    "       'BANK_ACCOUNT_TYPE', 'BALANCE', 'CREDIT_LIMIT', 'CASH_ADVANCE',\n",
    "       'PURCHASES', 'INSTALLMENTS_PURCHASES', 'PAYMENTS', 'CLUSTER_TYPE',\n",
    "       'HIGHEST_SPENT']"
   ]
  },
  {
   "cell_type": "code",
   "execution_count": 9,
   "id": "9e2de435",
   "metadata": {},
   "outputs": [],
   "source": [
    "#Import all snowflake connection details from Template or Project variables.\n",
    "\n",
    "db_user = os.getenv('Snowflake_user')\n",
    "db_password =  os.getenv('Snowflake_password')\n",
    "db_account = os.getenv('Snowflake_Account')\n",
    "db_database =  os.getenv('Snowflake_Database')\n",
    "db_role = os.getenv('Snowflake_user')\n",
    "db_warehouse = os.getenv('Snowflake_Warehouse')\n",
    "db_schema = os.getenv('Snowflake_Schema')"
   ]
  },
  {
   "cell_type": "code",
   "execution_count": 10,
   "id": "7514813d",
   "metadata": {
    "scrolled": true
   },
   "outputs": [],
   "source": [
    "from snowflake.snowpark.session import Session\n",
    "connection_params = {\n",
    "    'user': db_user,\n",
    "    'password': db_password,\n",
    "    'account': db_account,\n",
    "    'warehouse': db_warehouse,\n",
    "    'database': db_database,\n",
    "    'schema': db_schema,\n",
    "    'role': db_role\n",
    "}\n",
    "session = Session.builder.configs(connection_params).create()"
   ]
  },
  {
   "cell_type": "code",
   "execution_count": 14,
   "id": "732702db",
   "metadata": {},
   "outputs": [],
   "source": [
    "df_train_sf=session.createDataFrame(\n",
    "        upload_df.values.tolist(),\n",
    "        schema=upload_df.columns.tolist())\n",
    "df_train_sf.write.mode(\"overwrite\").save_as_table(\"FDC_Insurance.INS_CUST_SEGMT_SCHEMA.CUSTOMER_DATA_INSIGHT_TRAIN_CATEGORIZE\")"
   ]
  },
  {
   "cell_type": "markdown",
   "id": "09311d55",
   "metadata": {},
   "source": [
    "### JOIN CUSTOMER_DATA_INSIGHT_TRAIN_CATEGORIZE WITH CUSTOMER_DATA_INSIGHT_TRAIN_OUTPUT to Add newly added column"
   ]
  }
 ],
 "metadata": {
  "kernelspec": {
   "display_name": "Python 3",
   "language": "python",
   "name": "python3"
  },
  "language_info": {
   "codemirror_mode": {
    "name": "ipython",
    "version": 3
   },
   "file_extension": ".py",
   "mimetype": "text/x-python",
   "name": "python",
   "nbconvert_exporter": "python",
   "pygments_lexer": "ipython3",
   "version": "3.8.18"
  }
 },
 "nbformat": 4,
 "nbformat_minor": 5
}
